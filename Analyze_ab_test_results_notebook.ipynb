{
 "cells": [
  {
   "cell_type": "markdown",
   "metadata": {},
   "source": [
    "## Analyze A/B Test Results\n",
    "\n",
    "This project will assure you have mastered the subjects covered in the statistics lessons.  The hope is to have this project be as comprehensive of these topics as possible.  Good luck!\n",
    "\n",
    "## Table of Contents\n",
    "- [Introduction](#intro)\n",
    "- [Part I - Probability](#probability)\n",
    "- [Part II - A/B Test](#ab_test)\n",
    "- [Part III - Regression](#regression)\n",
    "\n",
    "\n",
    "<a id='intro'></a>\n",
    "### Introduction\n",
    "\n",
    "A/B tests are very commonly performed by data analysts and data scientists.  It is important that you get some practice working with the difficulties of these \n",
    "\n",
    "For this project, you will be working to understand the results of an A/B test run by an e-commerce website.  Your goal is to work through this notebook to help the company understand if they should implement the new page, keep the old page, or perhaps run the experiment longer to make their decision.\n",
    "\n",
    "**As you work through this notebook, follow along in the classroom and answer the corresponding quiz questions associated with each question.** The labels for each classroom concept are provided for each question.  This will assure you are on the right track as you work through the project, and you can feel more confident in your final submission meeting the criteria.  As a final check, assure you meet all the criteria on the [RUBRIC](https://review.udacity.com/#!/projects/37e27304-ad47-4eb0-a1ab-8c12f60e43d0/rubric).\n",
    "\n",
    "<a id='probability'></a>\n",
    "#### Part I - Probability\n",
    "\n",
    "To get started, let's import our libraries."
   ]
  },
  {
   "cell_type": "code",
   "execution_count": 222,
   "metadata": {},
   "outputs": [],
   "source": [
    "import pandas as pd\n",
    "import numpy as np\n",
    "import random\n",
    "import matplotlib.pyplot as plt\n",
    "%matplotlib inline\n",
    "#We are setting the seed to assure you get the same answers on quizzes as we set up\n",
    "random.seed(42)"
   ]
  },
  {
   "cell_type": "markdown",
   "metadata": {},
   "source": [
    "`1.` Now, read in the `ab_data.csv` data. Store it in `df`.  **Use your dataframe to answer the questions in Quiz 1 of the classroom.**\n",
    "\n",
    "a. Read in the dataset and take a look at the top few rows here:"
   ]
  },
  {
   "cell_type": "code",
   "execution_count": 223,
   "metadata": {},
   "outputs": [
    {
     "name": "stdout",
     "output_type": "stream",
     "text": [
      "   user_id                   timestamp      group landing_page  converted\n",
      "0   851104  2017-01-21 22:11:48.556739    control     old_page          0\n",
      "1   804228  2017-01-12 08:01:45.159739    control     old_page          0\n",
      "2   661590  2017-01-11 16:55:06.154213  treatment     new_page          0\n",
      "3   853541  2017-01-08 18:28:03.143765  treatment     new_page          0\n",
      "4   864975  2017-01-21 01:52:26.210827    control     old_page          1\n",
      "(294478, 5)\n"
     ]
    }
   ],
   "source": [
    "df= pd.read_csv(\"ab_data.csv\")\n",
    "print(df.head())\n",
    "print(df.shape)"
   ]
  },
  {
   "cell_type": "markdown",
   "metadata": {},
   "source": [
    "b. Use the below cell to find the number of rows in the dataset."
   ]
  },
  {
   "cell_type": "code",
   "execution_count": 224,
   "metadata": {},
   "outputs": [
    {
     "data": {
      "text/plain": [
       "294478"
      ]
     },
     "execution_count": 224,
     "metadata": {},
     "output_type": "execute_result"
    }
   ],
   "source": [
    "df.shape[0]"
   ]
  },
  {
   "cell_type": "markdown",
   "metadata": {},
   "source": [
    "c. The number of unique users in the dataset."
   ]
  },
  {
   "cell_type": "code",
   "execution_count": 225,
   "metadata": {},
   "outputs": [
    {
     "data": {
      "text/plain": [
       "290584"
      ]
     },
     "execution_count": 225,
     "metadata": {},
     "output_type": "execute_result"
    }
   ],
   "source": [
    "df.user_id.nunique()"
   ]
  },
  {
   "cell_type": "markdown",
   "metadata": {
    "collapsed": true
   },
   "source": [
    "d. The proportion of users converted."
   ]
  },
  {
   "cell_type": "code",
   "execution_count": 226,
   "metadata": {},
   "outputs": [
    {
     "name": "stdout",
     "output_type": "stream",
     "text": [
      "35237\n",
      "0.11965919355605512\n"
     ]
    }
   ],
   "source": [
    "print(len(df[df['converted']==1]))\n",
    "print(len(df[df['converted']==1])/df.shape[0])"
   ]
  },
  {
   "cell_type": "markdown",
   "metadata": {
    "collapsed": true
   },
   "source": [
    "e. The number of times the `new_page` and `treatment` don't line up."
   ]
  },
  {
   "cell_type": "code",
   "execution_count": 227,
   "metadata": {},
   "outputs": [
    {
     "data": {
      "text/plain": [
       "3893"
      ]
     },
     "execution_count": 227,
     "metadata": {},
     "output_type": "execute_result"
    }
   ],
   "source": [
    "len(df[((df['group'] == 'treatment') == (df['landing_page'] == 'new_page')) == False])"
   ]
  },
  {
   "cell_type": "markdown",
   "metadata": {},
   "source": [
    "f. Do any of the rows have missing values?"
   ]
  },
  {
   "cell_type": "code",
   "execution_count": 228,
   "metadata": {},
   "outputs": [
    {
     "data": {
      "text/plain": [
       "user_id         0.0\n",
       "timestamp       0.0\n",
       "group           0.0\n",
       "landing_page    0.0\n",
       "converted       0.0\n",
       "dtype: float64"
      ]
     },
     "execution_count": 228,
     "metadata": {},
     "output_type": "execute_result"
    }
   ],
   "source": [
    "#df.info()\n",
    "df[df.isnull()].sum()\n",
    "#I Found that there isn't missing values"
   ]
  },
  {
   "cell_type": "markdown",
   "metadata": {},
   "source": [
    "`2.` For the rows where **treatment** is not aligned with **new_page** or **control** is not aligned with **old_page**, we cannot be sure if this row truly received the new or old page.  Use **Quiz 2** in the classroom to provide how we should handle these rows.  \n",
    "\n",
    "a. Now use the answer to the quiz to create a new dataset that meets the specifications from the quiz.  Store your new dataframe in **df2**."
   ]
  },
  {
   "cell_type": "code",
   "execution_count": 229,
   "metadata": {},
   "outputs": [
    {
     "data": {
      "text/html": [
       "<div>\n",
       "<style scoped>\n",
       "    .dataframe tbody tr th:only-of-type {\n",
       "        vertical-align: middle;\n",
       "    }\n",
       "\n",
       "    .dataframe tbody tr th {\n",
       "        vertical-align: top;\n",
       "    }\n",
       "\n",
       "    .dataframe thead th {\n",
       "        text-align: right;\n",
       "    }\n",
       "</style>\n",
       "<table border=\"1\" class=\"dataframe\">\n",
       "  <thead>\n",
       "    <tr style=\"text-align: right;\">\n",
       "      <th></th>\n",
       "      <th>user_id</th>\n",
       "      <th>timestamp</th>\n",
       "      <th>group</th>\n",
       "      <th>landing_page</th>\n",
       "      <th>converted</th>\n",
       "    </tr>\n",
       "  </thead>\n",
       "  <tbody>\n",
       "    <tr>\n",
       "      <th>0</th>\n",
       "      <td>851104</td>\n",
       "      <td>2017-01-21 22:11:48.556739</td>\n",
       "      <td>control</td>\n",
       "      <td>old_page</td>\n",
       "      <td>0</td>\n",
       "    </tr>\n",
       "    <tr>\n",
       "      <th>1</th>\n",
       "      <td>804228</td>\n",
       "      <td>2017-01-12 08:01:45.159739</td>\n",
       "      <td>control</td>\n",
       "      <td>old_page</td>\n",
       "      <td>0</td>\n",
       "    </tr>\n",
       "    <tr>\n",
       "      <th>2</th>\n",
       "      <td>661590</td>\n",
       "      <td>2017-01-11 16:55:06.154213</td>\n",
       "      <td>treatment</td>\n",
       "      <td>new_page</td>\n",
       "      <td>0</td>\n",
       "    </tr>\n",
       "    <tr>\n",
       "      <th>3</th>\n",
       "      <td>853541</td>\n",
       "      <td>2017-01-08 18:28:03.143765</td>\n",
       "      <td>treatment</td>\n",
       "      <td>new_page</td>\n",
       "      <td>0</td>\n",
       "    </tr>\n",
       "    <tr>\n",
       "      <th>4</th>\n",
       "      <td>864975</td>\n",
       "      <td>2017-01-21 01:52:26.210827</td>\n",
       "      <td>control</td>\n",
       "      <td>old_page</td>\n",
       "      <td>1</td>\n",
       "    </tr>\n",
       "  </tbody>\n",
       "</table>\n",
       "</div>"
      ],
      "text/plain": [
       "   user_id                   timestamp      group landing_page  converted\n",
       "0   851104  2017-01-21 22:11:48.556739    control     old_page          0\n",
       "1   804228  2017-01-12 08:01:45.159739    control     old_page          0\n",
       "2   661590  2017-01-11 16:55:06.154213  treatment     new_page          0\n",
       "3   853541  2017-01-08 18:28:03.143765  treatment     new_page          0\n",
       "4   864975  2017-01-21 01:52:26.210827    control     old_page          1"
      ]
     },
     "execution_count": 229,
     "metadata": {},
     "output_type": "execute_result"
    }
   ],
   "source": [
    "df2 = df.copy()\n",
    "df2 = df2[((df2['group']== 'treatment') == (df2['landing_page']== 'new_page')) | \\\n",
    "         ((df2['group']== 'control') == (df2['landing_page']== 'old_page')) != False]\n",
    "#df2 = df[((df['group']== 'treatment') == (df['landing_page']== 'new_page')) | \\\n",
    "         #((df['group']== 'control') == (df['landing_page']== 'old_page')) != False]\n",
    "df2.head()"
   ]
  },
  {
   "cell_type": "code",
   "execution_count": 230,
   "metadata": {},
   "outputs": [
    {
     "data": {
      "text/plain": [
       "0"
      ]
     },
     "execution_count": 230,
     "metadata": {},
     "output_type": "execute_result"
    }
   ],
   "source": [
    "# Double Check all of the correct rows were removed - this should be 0\n",
    "df2[((df2['group'] == 'treatment') == (df2['landing_page'] == 'new_page')) == False].shape[0]"
   ]
  },
  {
   "cell_type": "markdown",
   "metadata": {},
   "source": [
    "`3.` Use **df2** and the cells below to answer questions for **Quiz3** in the classroom."
   ]
  },
  {
   "cell_type": "markdown",
   "metadata": {},
   "source": [
    "a. How many unique **user_id**s are in **df2**?"
   ]
  },
  {
   "cell_type": "code",
   "execution_count": 231,
   "metadata": {},
   "outputs": [
    {
     "data": {
      "text/plain": [
       "290584"
      ]
     },
     "execution_count": 231,
     "metadata": {},
     "output_type": "execute_result"
    }
   ],
   "source": [
    "df2.user_id.nunique()"
   ]
  },
  {
   "cell_type": "markdown",
   "metadata": {
    "collapsed": true
   },
   "source": [
    "b. There is one **user_id** repeated in **df2**.  What is it?"
   ]
  },
  {
   "cell_type": "code",
   "execution_count": 232,
   "metadata": {},
   "outputs": [
    {
     "name": "stdout",
     "output_type": "stream",
     "text": [
      "1\n",
      "773192\n"
     ]
    }
   ],
   "source": [
    "print(sum(df2['user_id'].duplicated()))\n",
    "#there is one duplicate\n",
    "print(df2[df2['user_id'].duplicated()].user_id.iloc[0])"
   ]
  },
  {
   "cell_type": "markdown",
   "metadata": {},
   "source": [
    "c. What is the row information for the repeat **user_id**? "
   ]
  },
  {
   "cell_type": "code",
   "execution_count": 233,
   "metadata": {},
   "outputs": [
    {
     "data": {
      "text/html": [
       "<div>\n",
       "<style scoped>\n",
       "    .dataframe tbody tr th:only-of-type {\n",
       "        vertical-align: middle;\n",
       "    }\n",
       "\n",
       "    .dataframe tbody tr th {\n",
       "        vertical-align: top;\n",
       "    }\n",
       "\n",
       "    .dataframe thead th {\n",
       "        text-align: right;\n",
       "    }\n",
       "</style>\n",
       "<table border=\"1\" class=\"dataframe\">\n",
       "  <thead>\n",
       "    <tr style=\"text-align: right;\">\n",
       "      <th></th>\n",
       "      <th>user_id</th>\n",
       "      <th>timestamp</th>\n",
       "      <th>group</th>\n",
       "      <th>landing_page</th>\n",
       "      <th>converted</th>\n",
       "    </tr>\n",
       "  </thead>\n",
       "  <tbody>\n",
       "    <tr>\n",
       "      <th>1899</th>\n",
       "      <td>773192</td>\n",
       "      <td>2017-01-09 05:37:58.781806</td>\n",
       "      <td>treatment</td>\n",
       "      <td>new_page</td>\n",
       "      <td>0</td>\n",
       "    </tr>\n",
       "    <tr>\n",
       "      <th>2893</th>\n",
       "      <td>773192</td>\n",
       "      <td>2017-01-14 02:55:59.590927</td>\n",
       "      <td>treatment</td>\n",
       "      <td>new_page</td>\n",
       "      <td>0</td>\n",
       "    </tr>\n",
       "  </tbody>\n",
       "</table>\n",
       "</div>"
      ],
      "text/plain": [
       "      user_id                   timestamp      group landing_page  converted\n",
       "1899   773192  2017-01-09 05:37:58.781806  treatment     new_page          0\n",
       "2893   773192  2017-01-14 02:55:59.590927  treatment     new_page          0"
      ]
     },
     "execution_count": 233,
     "metadata": {},
     "output_type": "execute_result"
    }
   ],
   "source": [
    "df2[df2['user_id']== 773192]"
   ]
  },
  {
   "cell_type": "markdown",
   "metadata": {},
   "source": [
    "d. Remove **one** of the rows with a duplicate **user_id**, but keep your dataframe as **df2**."
   ]
  },
  {
   "cell_type": "code",
   "execution_count": 234,
   "metadata": {},
   "outputs": [
    {
     "name": "stdout",
     "output_type": "stream",
     "text": [
      "      user_id                   timestamp      group landing_page  converted\n",
      "2893   773192  2017-01-14 02:55:59.590927  treatment     new_page          0\n",
      "0\n"
     ]
    }
   ],
   "source": [
    "df2.drop(1899, inplace=True)\n",
    "print(df2[df2.user_id == 773192])\n",
    "print(sum(df2.duplicated()))"
   ]
  },
  {
   "cell_type": "markdown",
   "metadata": {},
   "source": [
    "`4.` Use **df2** in the below cells to answer the quiz questions related to **Quiz 4** in the classroom.\n",
    "\n",
    "a. What is the probability of an individual converting regardless of the page they receive?"
   ]
  },
  {
   "cell_type": "code",
   "execution_count": 235,
   "metadata": {},
   "outputs": [
    {
     "data": {
      "text/plain": [
       "0.11959708724499628"
      ]
     },
     "execution_count": 235,
     "metadata": {},
     "output_type": "execute_result"
    }
   ],
   "source": [
    "df2['converted'].mean()"
   ]
  },
  {
   "cell_type": "markdown",
   "metadata": {},
   "source": [
    "b. Given that an individual was in the `control` group, what is the probability they converted?"
   ]
  },
  {
   "cell_type": "code",
   "execution_count": 236,
   "metadata": {},
   "outputs": [
    {
     "data": {
      "text/plain": [
       "0.1203863045004612"
      ]
     },
     "execution_count": 236,
     "metadata": {},
     "output_type": "execute_result"
    }
   ],
   "source": [
    "control_rate= (df2.query('group==\"control\"')['converted']==1).mean()\n",
    "control_rate"
   ]
  },
  {
   "cell_type": "markdown",
   "metadata": {},
   "source": [
    "c. Given that an individual was in the `treatment` group, what is the probability they converted?"
   ]
  },
  {
   "cell_type": "code",
   "execution_count": 237,
   "metadata": {},
   "outputs": [
    {
     "data": {
      "text/plain": [
       "0.11880806551510564"
      ]
     },
     "execution_count": 237,
     "metadata": {},
     "output_type": "execute_result"
    }
   ],
   "source": [
    "treatment_rate= (df2.query('group==\"treatment\"')['converted']==1).mean()\n",
    "treatment_rate"
   ]
  },
  {
   "cell_type": "markdown",
   "metadata": {},
   "source": [
    "d. What is the probability that an individual received the new page?"
   ]
  },
  {
   "cell_type": "code",
   "execution_count": 238,
   "metadata": {},
   "outputs": [
    {
     "data": {
      "text/plain": [
       "0.5000619442226688"
      ]
     },
     "execution_count": 238,
     "metadata": {},
     "output_type": "execute_result"
    }
   ],
   "source": [
    "(df2['landing_page'] == \"new_page\").mean()"
   ]
  },
  {
   "cell_type": "markdown",
   "metadata": {},
   "source": [
    "e. Consider your results from a. through d. above, and explain below whether you think there is sufficient evidence to say that the new treatment page leads to more conversions."
   ]
  },
  {
   "cell_type": "markdown",
   "metadata": {},
   "source": [
    "**The difference between converted rate of control and converted rate of treatment groups is very small and near to each other. So that, the evidence is not sufficient to determine certain group is better than the other one. There is a need for some other statistics.**"
   ]
  },
  {
   "cell_type": "markdown",
   "metadata": {},
   "source": [
    "<a id='ab_test'></a>\n",
    "### Part II - A/B Test\n",
    "\n",
    "Notice that because of the time stamp associated with each event, you could technically run a hypothesis test continuously as each observation was observed.  \n",
    "\n",
    "However, then the hard question is do you stop as soon as one page is considered significantly better than another or does it need to happen consistently for a certain amount of time?  How long do you run to render a decision that neither page is better than another?  \n",
    "\n",
    "These questions are the difficult parts associated with A/B tests in general.  \n",
    "\n",
    "\n",
    "`1.` For now, consider you need to make the decision just based on all the data provided.  If you want to assume that the old page is better unless the new page proves to be definitely better at a Type I error rate of 5%, what should your null and alternative hypotheses be?  You can state your hypothesis in terms of words or in terms of **$p_{old}$** and **$p_{new}$**, which are the converted rates for the old and new pages."
   ]
  },
  {
   "cell_type": "markdown",
   "metadata": {},
   "source": [
    "$null:  p_{old}  -  p_{new}  >=0$\n",
    "\n",
    "$alternative:  p_{old}  -  p_{new}  <0$"
   ]
  },
  {
   "cell_type": "markdown",
   "metadata": {},
   "source": [
    "`2.` Assume under the null hypothesis, $p_{new}$ and $p_{old}$ both have \"true\" success rates equal to the **converted** success rate regardless of page - that is $p_{new}$ and $p_{old}$ are equal. Furthermore, assume they are equal to the **converted** rate in **ab_data.csv** regardless of the page. <br><br>\n",
    "\n",
    "Use a sample size for each page equal to the ones in **ab_data.csv**.  <br><br>\n",
    "\n",
    "Perform the sampling distribution for the difference in **converted** between the two pages over 10,000 iterations of calculating an estimate from the null.  <br><br>\n",
    "\n",
    "Use the cells below to provide the necessary parts of this simulation.  If this doesn't make complete sense right now, don't worry - you are going to work through the problems below to complete this problem.  You can use **Quiz 5** in the classroom to make sure you are on the right track.<br><br>"
   ]
  },
  {
   "cell_type": "markdown",
   "metadata": {},
   "source": [
    "a. What is the **convert rate** for $p_{new}$ under the null? "
   ]
  },
  {
   "cell_type": "code",
   "execution_count": 239,
   "metadata": {},
   "outputs": [
    {
     "data": {
      "text/plain": [
       "0.11959708724499628"
      ]
     },
     "execution_count": 239,
     "metadata": {},
     "output_type": "execute_result"
    }
   ],
   "source": [
    "pnew= df2['converted'].mean()\n",
    "pnew"
   ]
  },
  {
   "cell_type": "markdown",
   "metadata": {},
   "source": [
    "b. What is the **convert rate** for $p_{old}$ under the null? <br><br>"
   ]
  },
  {
   "cell_type": "code",
   "execution_count": 240,
   "metadata": {},
   "outputs": [
    {
     "data": {
      "text/plain": [
       "0.11959708724499628"
      ]
     },
     "execution_count": 240,
     "metadata": {},
     "output_type": "execute_result"
    }
   ],
   "source": [
    "pold= df2['converted'].mean()\n",
    "pold"
   ]
  },
  {
   "cell_type": "markdown",
   "metadata": {},
   "source": [
    "c. What is $n_{new}$?"
   ]
  },
  {
   "cell_type": "code",
   "execution_count": 241,
   "metadata": {},
   "outputs": [
    {
     "data": {
      "text/plain": [
       "145310"
      ]
     },
     "execution_count": 241,
     "metadata": {},
     "output_type": "execute_result"
    }
   ],
   "source": [
    "nnew= (df2['landing_page']=='new_page').sum()\n",
    "nnew"
   ]
  },
  {
   "cell_type": "markdown",
   "metadata": {},
   "source": [
    "d. What is $n_{old}$?"
   ]
  },
  {
   "cell_type": "code",
   "execution_count": 242,
   "metadata": {},
   "outputs": [
    {
     "data": {
      "text/plain": [
       "145274"
      ]
     },
     "execution_count": 242,
     "metadata": {},
     "output_type": "execute_result"
    }
   ],
   "source": [
    "nold= (df2['landing_page']=='old_page').sum()\n",
    "nold"
   ]
  },
  {
   "cell_type": "markdown",
   "metadata": {},
   "source": [
    "e. Simulate $n_{new}$ transactions with a convert rate of $p_{new}$ under the null.  Store these $n_{new}$ 1's and 0's in **new_page_converted**."
   ]
  },
  {
   "cell_type": "code",
   "execution_count": 243,
   "metadata": {},
   "outputs": [
    {
     "data": {
      "text/plain": [
       "0.12109971784460807"
      ]
     },
     "execution_count": 243,
     "metadata": {},
     "output_type": "execute_result"
    }
   ],
   "source": [
    "new_page_converted = np.random.choice([0, 1], size=nnew, p=[(1 - pnew), pnew])\n",
    "new_page_converted.mean()"
   ]
  },
  {
   "cell_type": "markdown",
   "metadata": {},
   "source": [
    "f. Simulate $n_{old}$ transactions with a convert rate of $p_{old}$ under the null.  Store these $n_{old}$ 1's and 0's in **old_page_converted**."
   ]
  },
  {
   "cell_type": "code",
   "execution_count": 249,
   "metadata": {},
   "outputs": [
    {
     "data": {
      "text/plain": [
       "0.11842449440367857"
      ]
     },
     "execution_count": 249,
     "metadata": {},
     "output_type": "execute_result"
    }
   ],
   "source": [
    "old_page_converted = np.random.choice([0, 1], size=nold, p=[(1 - pold), pold])\n",
    "old_page_converted.mean()"
   ]
  },
  {
   "cell_type": "markdown",
   "metadata": {},
   "source": [
    "g. Find $p_{new}$ - $p_{old}$ for your simulated values from part (e) and (f)."
   ]
  },
  {
   "cell_type": "code",
   "execution_count": 250,
   "metadata": {},
   "outputs": [
    {
     "data": {
      "text/plain": [
       "0.0016773568109659798"
      ]
     },
     "execution_count": 250,
     "metadata": {},
     "output_type": "execute_result"
    }
   ],
   "source": [
    "new_page_converted.mean() - old_page_converted.mean()"
   ]
  },
  {
   "cell_type": "markdown",
   "metadata": {},
   "source": [
    "h. Simulate 10,000 $p_{new}$ - $p_{old}$ values using this same process similarly to the one you calculated in parts **a. through g.** above.  Store all 10,000 values in a numpy array called **p_diffs**."
   ]
  },
  {
   "cell_type": "code",
   "execution_count": 251,
   "metadata": {},
   "outputs": [
    {
     "data": {
      "text/plain": [
       "[-0.0017571855539571801,\n",
       " 0.0006035887200172702,\n",
       " -0.001020806629597651,\n",
       " -0.00031859473656460635,\n",
       " 0.0004934775934080093,\n",
       " -0.001082407220778847,\n",
       " 0.002888763383833301,\n",
       " -0.0003051567849433334,\n",
       " 0.0009406896787548941,\n",
       " 0.0015809974244080788,\n",
       " -0.00014642086298853607,\n",
       " 0.0006104807910760207,\n",
       " -0.0020667625681292795,\n",
       " 4.621434690403603e-05,\n",
       " 0.001305688058504742,\n",
       " 0.00046595535421438405,\n",
       " 0.0005002861012435439,\n",
       " 0.00036288125527560167,\n",
       " 0.0012779509424513669,\n",
       " -0.0008624817022713921,\n",
       " 0.0017049165683414719,\n",
       " 0.00012199643185606401,\n",
       " 0.001870032949784231,\n",
       " 0.004271900433581999,\n",
       " -0.0028104070399942588,\n",
       " 0.00184271194447512,\n",
       " 0.0006038513472902685,\n",
       " 0.0005691164271201948,\n",
       " -0.001543771808574193,\n",
       " -0.000910634109599906,\n",
       " -0.0015782475122150808,\n",
       " 0.0005140872970800653,\n",
       " -0.00041500187353578355,\n",
       " -0.0008283010279696718,\n",
       " -0.0007453625393139957,\n",
       " -0.0008897276712167834,\n",
       " -0.0022252989615714758,\n",
       " -0.00047033626514648985,\n",
       " 1.1670428387053344e-05,\n",
       " 0.0014915437518841501,\n",
       " 0.0005139815640221035,\n",
       " 0.0008651702210758921,\n",
       " 0.00034170707350378304,\n",
       " 0.000224821546497056,\n",
       " -0.001282251700904069,\n",
       " 0.0011541068348816935,\n",
       " 0.0013949967744169428,\n",
       " 0.0006449275033945517,\n",
       " -0.0008280946779694459,\n",
       " 0.00046597411330531746,\n",
       " -0.0019569328278839643,\n",
       " -0.0001052577329172244,\n",
       " 0.00034881572679416883,\n",
       " 0.0014916631279173337,\n",
       " -0.0005044299654811818,\n",
       " -0.000655977081666162,\n",
       " -0.00011229134984389044,\n",
       " -0.0012205624303839313,\n",
       " 0.0007204674255363724,\n",
       " 0.00012189240416998759,\n",
       " -0.0015851242349266964,\n",
       " -0.0010411826973190375,\n",
       " 0.0014499679218124006,\n",
       " -0.0005732602913578466,\n",
       " -0.0005938836380051105,\n",
       " -0.00018112508646436765,\n",
       " 0.0018700619411065739,\n",
       " 0.0005554823577301332,\n",
       " 0.0014637895821117547,\n",
       " 0.0008583685347279962,\n",
       " -0.0011858974304618658,\n",
       " 0.00013545484794015572,\n",
       " 3.915173865502719e-05,\n",
       " -0.0015711610287594269,\n",
       " 0.00020444888951946794,\n",
       " 0.00020408052918849395,\n",
       " 0.0005761312849559275,\n",
       " 0.0006652762851654948,\n",
       " 0.0013261459840774453,\n",
       " -0.0020254118471486893,\n",
       " 0.0004246131600932901,\n",
       " -0.002624263138763308,\n",
       " -0.000504598797299527,\n",
       " -0.0010070565949181903,\n",
       " 0.0016979784522413444,\n",
       " 0.0013675188748927952,\n",
       " 0.00028009113397545193,\n",
       " 0.0020557777939899796,\n",
       " 0.001980144076393492,\n",
       " -0.0002361593326202227,\n",
       " 0.0011884597517455853,\n",
       " -0.0001877835215724627,\n",
       " 0.0005624665188716099,\n",
       " -0.0030788226294669596,\n",
       " 0.0006655747252484606,\n",
       " -0.0016127624394097206,\n",
       " -0.0029688172359156606,\n",
       " 0.0009062361449487522,\n",
       " -0.0015579498916012124,\n",
       " 0.0020833750695473108,\n",
       " -0.0014748920269123666,\n",
       " 0.00012154450830184627,\n",
       " -2.275070335291951e-05,\n",
       " -0.0001401017968890722,\n",
       " -0.0010415527630219107,\n",
       " -8.466508296420261e-05,\n",
       " 0.0009616916179645552,\n",
       " 0.0006104296299189321,\n",
       " 0.00028678197114970216,\n",
       " -0.0007523228252488412,\n",
       " -4.326149545462454e-05,\n",
       " -0.0007385455046189648,\n",
       " -0.0010619237146275856,\n",
       " -0.0032784880455423993,\n",
       " -0.00044960889081316346,\n",
       " -0.00130283752936948,\n",
       " -0.0013650094201380636,\n",
       " 0.0002938769814648523,\n",
       " 0.0005209691359074065,\n",
       " 0.0007755084931798384,\n",
       " 0.0008651992123982349,\n",
       " -0.002101396871357117,\n",
       " -0.0023421913100658137,\n",
       " 0.002042121554765172,\n",
       " 0.001243828250794346,\n",
       " 3.250694652216779e-05,\n",
       " -5.734407765509153e-05,\n",
       " 5.9802371252748454e-05,\n",
       " -0.0008280912672256335,\n",
       " 0.0009066761308996335,\n",
       " -6.416111235010846e-05,\n",
       " -0.001289191522376082,\n",
       " -0.0018056466336000693,\n",
       " -0.0008005093400154234,\n",
       " -0.0006560981630712448,\n",
       " -0.000594117273955766,\n",
       " 0.0014363764867198897,\n",
       " 0.0002457552708306082,\n",
       " 0.0002321092638372102,\n",
       " 0.0008098716422751395,\n",
       " 0.001973066119797362,\n",
       " 0.0015946536636328862,\n",
       " 3.9402428324716854e-05,\n",
       " -0.0012823625500777286,\n",
       " 2.5348837446592665e-05,\n",
       " -0.0009175926901628384,\n",
       " -0.0005596859099843698,\n",
       " 0.0005141299313776299,\n",
       " 0.0024272623662857234,\n",
       " -0.0003529152513623429,\n",
       " 0.0010510480842900322,\n",
       " -0.00042865470201679245,\n",
       " -8.877881896490747e-06,\n",
       " -0.0003598806534129001,\n",
       " -0.00021529382316277934,\n",
       " -0.001399374274605264,\n",
       " -0.0005389039637501564,\n",
       " -0.0014956398657085118,\n",
       " -0.00027738044533621997,\n",
       " -0.0003875768405406099,\n",
       " -0.0023627447364650694,\n",
       " 0.00018382042675649246,\n",
       " 0.0002182415584964792,\n",
       " 0.002929766208945764,\n",
       " 0.00017002605240758195,\n",
       " 0.001002786533159758,\n",
       " 0.0010164649422192973,\n",
       " 0.0018562317539477097,\n",
       " 0.0009545676163270483,\n",
       " 0.0011957082455319873,\n",
       " -0.0009173198306584168,\n",
       " 0.0008033035918778991,\n",
       " -2.3661087720366902e-06,\n",
       " 0.0015329814468317826,\n",
       " -0.0015300149524071494,\n",
       " -0.002892908953442852,\n",
       " 0.001828828890787268,\n",
       " 0.0018492799948723604,\n",
       " 0.00114708515555835,\n",
       " -0.0008350686068795271,\n",
       " 0.0005552845345894175,\n",
       " 0.0007274856941159313,\n",
       " 0.0002804117438931497,\n",
       " 0.0007964388067695921,\n",
       " 0.0012026804690701692,\n",
       " 0.00011483661740858964,\n",
       " -0.00034604364476641114,\n",
       " -0.0004630656015253559,\n",
       " 0.001959299031398881,\n",
       " 3.911933658888589e-05,\n",
       " -0.0015163842937608724,\n",
       " -0.0011239642917596493,\n",
       " -0.0010136331721749686,\n",
       " 0.0030608332297233087,\n",
       " 0.0023174974301727047,\n",
       " -0.0011307301652976193,\n",
       " -0.0005529780190910993,\n",
       " -0.0016469243546204937,\n",
       " -0.0017573117514779885,\n",
       " 0.001085302089583573,\n",
       " -0.0014196974757976627,\n",
       " -0.00043591342803460387,\n",
       " -7.795548669903285e-05,\n",
       " 0.0013193494138452472,\n",
       " 0.0009888830150090733,\n",
       " -7.102760283034248e-05,\n",
       " -0.0014683700215564754,\n",
       " 0.001477827824642744,\n",
       " 0.0011129215349756638,\n",
       " -0.0019295060895168775,\n",
       " 0.0010854487515671862,\n",
       " -0.001970261635703463,\n",
       " 0.0010855613061127728,\n",
       " -0.0004770543882711836,\n",
       " 0.00012868556365838724,\n",
       " 0.0006789649264564435,\n",
       " 3.913980105171855e-05,\n",
       " -0.0007108663712102892,\n",
       " -9.85873602058207e-05,\n",
       " -0.0007043631249453314,\n",
       " 0.00407943746625157,\n",
       " -0.002720590123255054,\n",
       " 0.0014090213739727242,\n",
       " 0.0011609801468495246,\n",
       " -0.00020856717317857543,\n",
       " 0.001332940848937758,\n",
       " 0.0008581144343144942,\n",
       " -0.002080597871403869,\n",
       " -0.0006147031024211908,\n",
       " 0.000486710014498154,\n",
       " 0.0011402834692104263,\n",
       " -0.0012343397510138215,\n",
       " -0.0011102210785678274,\n",
       " -0.0009036346001112805,\n",
       " 0.0003557879503323369,\n",
       " 0.0006590134963388172,\n",
       " -0.00029122427547030594,\n",
       " 0.00043145918611067757,\n",
       " -0.0008276717457375987,\n",
       " 3.2242613877256354e-05,\n",
       " -0.0006903299985300537,\n",
       " 0.00023179718077902256,\n",
       " 0.000596623317966713,\n",
       " -0.00014009668077336057,\n",
       " -0.0010346623973350594,\n",
       " -0.0002429900102904753,\n",
       " 0.00020422719117212107,\n",
       " -0.0014133613559791647,\n",
       " 0.000665354732273013,\n",
       " -2.2968990956453994e-05,\n",
       " -0.0007385096918090112,\n",
       " -0.0009380676694545897,\n",
       " -0.0021287758593109135,\n",
       " -0.002445447883798177,\n",
       " 4.573712700003951e-06,\n",
       " -5.0346273538365294e-05,\n",
       " -0.0019774879596551193,\n",
       " 0.001663429417608664,\n",
       " 0.0003488174321660681,\n",
       " 0.00020440966596570187,\n",
       " -0.0011723401028074232,\n",
       " 0.00046588202322256356,\n",
       " -0.0011998180023315708,\n",
       " 0.002634068837717718,\n",
       " -0.0008418071944670397,\n",
       " 0.0004590701046432444,\n",
       " -0.0010001321217932985,\n",
       " 0.0008374552748572628,\n",
       " -0.000965958268979189,\n",
       " 0.0014297777396283934,\n",
       " -0.0009450671789432014,\n",
       " -0.0018464823322660723,\n",
       " -0.0016197431898073988,\n",
       " -0.00128916935254135,\n",
       " 0.0012500978611086344,\n",
       " -0.0024039863136438994,\n",
       " 0.0006933118413018219,\n",
       " 0.0003971489035443504,\n",
       " 0.0009822365175043007,\n",
       " 0.0004865650578864261,\n",
       " -0.0014131157824251867,\n",
       " 0.0013952048297890818,\n",
       " -0.0005801984074579741,\n",
       " 0.0011198391866129448,\n",
       " 0.00010810655668058722,\n",
       " -0.0014749568310446631,\n",
       " 0.0005964561915202532,\n",
       " 0.0006176423108953805,\n",
       " -0.0029613538652695226,\n",
       " -3.659964960273099e-05,\n",
       " 0.0011129539370418051,\n",
       " 0.0005278134565528808,\n",
       " -0.0004771379514944135,\n",
       " 0.00041080684814105706,\n",
       " -6.412529954016866e-05,\n",
       " -0.0006143415635778277,\n",
       " -0.00039444162564891694,\n",
       " 0.0004521984980473126,\n",
       " 0.0008307712591706373,\n",
       " 0.0006449070389317191,\n",
       " 0.0021178183711220433,\n",
       " 0.0016634959271128735,\n",
       " 0.0005345059990990025,\n",
       " 0.001539626238964642,\n",
       " 0.002138308698760902,\n",
       " -0.0015026615450318692,\n",
       " 0.0014224166912964187,\n",
       " 0.0004453098377323744,\n",
       " -0.0004563798804668312,\n",
       " 0.000885679307805684,\n",
       " -0.000814143409405485,\n",
       " 0.00021814776304183991,\n",
       " 0.0010439837706691102,\n",
       " -0.00045644980071482544,\n",
       " 0.0009683773390230799,\n",
       " 0.0008377503041964163,\n",
       " -0.0006974215981014054,\n",
       " -0.000594055880567268,\n",
       " 0.0017668786983660312,\n",
       " -0.00020172626327689958,\n",
       " 0.0029643408241570024,\n",
       " -0.001426787369997129,\n",
       " 0.0011610551832132443,\n",
       " -0.0020118749839570654,\n",
       " 0.0007961949385875133,\n",
       " -0.0018123459976338296,\n",
       " -0.0007315954509155148,\n",
       " -0.0012337207010131718,\n",
       " 0.001243620195422221,\n",
       " 0.0009748993443789572,\n",
       " 0.0005760084981789593,\n",
       " 0.0005073435933768272,\n",
       " 0.0007001135276497317,\n",
       " -0.0012477453005689532,\n",
       " -5.721446939048469e-05,\n",
       " -0.0007938474941635298,\n",
       " -0.0012755352831512884,\n",
       " 0.0006380712451457549,\n",
       " -0.0004356439792739808,\n",
       " -0.0008485321390793166,\n",
       " -0.0011993660787773808,\n",
       " -2.0301505072040094e-06,\n",
       " 0.0007549294862020384,\n",
       " -0.0007245925306831047,\n",
       " -0.0013374479573906584,\n",
       " -2.250512979895536e-05,\n",
       " -0.0011858752606271339,\n",
       " 0.0023172740264534586,\n",
       " 0.0008720844619693885,\n",
       " -0.0008969147716147013,\n",
       " -0.001826032933552893,\n",
       " -0.001619444749724433,\n",
       " -0.0012132610700685553,\n",
       " 0.00012843487398869757,\n",
       " -4.34610239672395e-05,\n",
       " -0.0006076694854945108,\n",
       " 0.0005900296869909144,\n",
       " 0.001443289022241473,\n",
       " -0.00024300876938139482,\n",
       " 0.002503523660742385,\n",
       " 0.00012882710952630272,\n",
       " 0.0021384536553726297,\n",
       " -0.000593781315690961,\n",
       " -0.00021545412812162823,\n",
       " 0.0002388495567966359,\n",
       " -0.0007042113468460065,\n",
       " 3.9156854770738825e-05,\n",
       " 0.0003418264495369666,\n",
       " 0.0003627516470109948,\n",
       " -0.0018601965541355792,\n",
       " 0.00010795477858124847,\n",
       " 0.001016546800070614,\n",
       " -0.001103175524037825,\n",
       " -0.000917582457931429,\n",
       " 0.001615338403668648,\n",
       " 0.00025236425015351394,\n",
       " -0.0004082854557830029,\n",
       " 0.0016632827556250368,\n",
       " 0.0009959336856547735,\n",
       " 0.0003075110508549417,\n",
       " -0.0023974131471309473,\n",
       " -0.0002912617936521589,\n",
       " -6.406561152356993e-05,\n",
       " -0.003725660907335518,\n",
       " -0.000807278624297178,\n",
       " -0.0011928611271405237,\n",
       " -0.0005527460885123431,\n",
       " 8.710632284283926e-05,\n",
       " 0.0009337157498448129,\n",
       " -0.00036670962571125343,\n",
       " -0.0017572298936266717,\n",
       " 0.0015051181332576269,\n",
       " 0.0006517615918086167,\n",
       " -0.0002290899028835891,\n",
       " 0.0032396280202256073,\n",
       " 0.002867831364871648,\n",
       " 0.0008377349558492952,\n",
       " -0.0008417372742190316,\n",
       " -0.0015988981448127881,\n",
       " -0.0005801779429951276,\n",
       " -0.0012890124583263135,\n",
       " -0.0005802802653092909,\n",
       " 0.00045887398687442793,\n",
       " 0.0013330295282766857,\n",
       " 0.0003074939971359075,\n",
       " -0.0016471699281744856,\n",
       " -0.0006489519915990061,\n",
       " -0.0008829703245383513,\n",
       " -0.00041517752684175346,\n",
       " -0.00035999150258657353,\n",
       " 0.001140143628714424,\n",
       " 0.002338057678059585,\n",
       " -0.0010551288497672867,\n",
       " 0.0021248247020982797,\n",
       " -0.0008624458894614384,\n",
       " -0.0005664807748446687,\n",
       " 0.001629144715620881,\n",
       " 0.0008651736318197045,\n",
       " 0.0005068677946160061,\n",
       " 0.0009201498953308601,\n",
       " -0.0014613688066959646,\n",
       " 0.0027716135241816625,\n",
       " 8.0323395585849e-05,\n",
       " 0.0006658015397115052,\n",
       " -0.0007383493868501623,\n",
       " -8.481345031974286e-05,\n",
       " -0.0004910636394798162,\n",
       " -0.0003599539844047206,\n",
       " 0.0001493975896445926,\n",
       " -0.0021771056253173104,\n",
       " -0.000456393523442053,\n",
       " 0.00030088842855678644,\n",
       " 0.0019528793483571533,\n",
       " 0.000872103221060308,\n",
       " -0.0013098609140647366,\n",
       " 0.0014500838871017857,\n",
       " 0.0010371513876269722,\n",
       " -0.0010894033195236463,\n",
       " 0.00185615671758399,\n",
       " 0.0008167892939124344,\n",
       " 0.00014224289131282986,\n",
       " 0.0004726564236200298,\n",
       " 0.0004795843074887479,\n",
       " 0.0015189960708297673,\n",
       " -0.0003735471248691308,\n",
       " 0.0018009365858907556,\n",
       " 0.0008443950963292896,\n",
       " -0.0003874813397140575,\n",
       " -0.0013992992382415304,\n",
       " 0.00226257573856245,\n",
       " -0.0009862081391797811,\n",
       " 0.0009752455348751993,\n",
       " -0.00026357754412778545,\n",
       " 0.0007689523803859066,\n",
       " -3.6497327288567694e-05,\n",
       " 0.0008166358104411964,\n",
       " -0.0010621198323963882,\n",
       " 0.0004451154253354711,\n",
       " -0.0010966177058720078,\n",
       " -0.0008692595134126707,\n",
       " 0.001353640937320641,\n",
       " 0.0009614972055676518,\n",
       " 0.0017460592339499509,\n",
       " 0.0016360606618862766,\n",
       " -0.001337321759869864,\n",
       " -0.0002567178751351762,\n",
       " -0.00047696570893222823,\n",
       " -0.00012582821303551428,\n",
       " -0.0005114175373664848,\n",
       " 0.0007206345519828322,\n",
       " 0.0018700500035032652,\n",
       " -0.003161085790849172,\n",
       " -0.0006630021717333318,\n",
       " -0.0008830470662739565,\n",
       " -0.00028423329284120447,\n",
       " 0.0009820864447768612,\n",
       " -5.0264415687048536e-05,\n",
       " 0.0010990043738497435,\n",
       " 0.00037633626061589487,\n",
       " 0.0010167326856080072,\n",
       " -0.0026313905511446273,\n",
       " 0.0005900501514537471,\n",
       " -0.0008898436365061685,\n",
       " 0.0030677662297077246,\n",
       " 0.0006174291394075576,\n",
       " 0.0005899324807924627,\n",
       " 0.0014981749010418016,\n",
       " 0.0002044437734037563,\n",
       " -0.0001535823828079097,\n",
       " 0.0005897176039327406,\n",
       " 0.00021125910272688786,\n",
       " -0.00010541803787607329,\n",
       " 0.0006243075674910864,\n",
       " -0.0006833918824299262,\n",
       " 0.0006242512902182862,\n",
       " 0.0018287197469854938,\n",
       " 0.001078628306128357,\n",
       " -0.0020049658591792946,\n",
       " -0.0002223018595109011,\n",
       " -0.0009590184475071761,\n",
       " -0.0018741682871623588,\n",
       " 0.001264238425953787,\n",
       " -0.003677377186370498,\n",
       " 0.0003074991132516053,\n",
       " 0.0005692392138971908,\n",
       " -7.763487678134895e-05,\n",
       " -0.0003876928058299811,\n",
       " 0.00020452222051127456,\n",
       " -0.000690408445637572,\n",
       " -0.0018325805194873007,\n",
       " 0.00010806733312682115,\n",
       " -0.0003874762235983459,\n",
       " 0.00014234691899890628,\n",
       " -0.00024953077473727214,\n",
       " -0.002245779056978925,\n",
       " -0.0020600649094674323,\n",
       " 0.001395022354995487,\n",
       " -0.0007247306658072217,\n",
       " 0.000486556531026916,\n",
       " 8.74508079671682e-05,\n",
       " 0.0010442685677768682,\n",
       " 0.0014779420845602298,\n",
       " -0.0002566394280276718,\n",
       " 0.0012437583305463379,\n",
       " 0.0009614596873857989,\n",
       " -0.00040108641778177634,\n",
       " 0.0012223880310057028,\n",
       " 0.0007134627999320631,\n",
       " -0.00029803107793392736,\n",
       " -0.00033250507620290193,\n",
       " -2.958990788269611e-05,\n",
       " -0.0007316790141387447,\n",
       " -0.0008074593937188596,\n",
       " -9.833155442041941e-05,\n",
       " 0.00043166212536709103,\n",
       " -0.0009521451355393451,\n",
       " 0.0010921157135348053,\n",
       " 0.0024136709311932403,\n",
       " 0.0003077225169708653,\n",
       " 9.386025877747284e-05,\n",
       " -0.00014682333075756449,\n",
       " -0.0012616539348353356,\n",
       " -0.00013996877788066686,\n",
       " -0.0001466851956334475,\n",
       " -0.00023623777972772708,\n",
       " 0.00040427802129756885,\n",
       " -0.0009240942310558969,\n",
       " 0.0009340943424071962,\n",
       " -0.002369706727771828,\n",
       " -0.0007179426224345337,\n",
       " 0.0012988147465369249,\n",
       " 0.0002044403626599578,\n",
       " -0.001805337961285708,\n",
       " 0.001064446812357539,\n",
       " 0.0001562248565710328,\n",
       " -0.00011938465478715521,\n",
       " 0.001016645711640965,\n",
       " -0.0002013988318715909,\n",
       " -0.0029479824231524593,\n",
       " 0.0012507902421011047,\n",
       " -0.00013311934111948087,\n",
       " -6.419180904436439e-05,\n",
       " 4.766419724994142e-06,\n",
       " -0.001089324872416128,\n",
       " -0.0004357241317534122,\n",
       " -0.0014820552521036257,\n",
       " 0.001133478372118718,\n",
       " 0.002517045175586874,\n",
       " -0.002170014025745945,\n",
       " -0.001523199623084004,\n",
       " -9.065472805783181e-06,\n",
       " 0.0011130340895212365,\n",
       " -0.00045642080939248264,\n",
       " -0.0020805842284286474,\n",
       " 0.0016223055110911183,\n",
       " 0.0003353146764124987,\n",
       " -0.0012547362831980408,\n",
       " 0.000631208165409361,\n",
       " -8.981909582553294e-06,\n",
       " 0.0012023683860119816,\n",
       " -9.017722392506977e-06,\n",
       " -0.00037384897569589515,\n",
       " 0.0021453934768446564,\n",
       " -0.0013166796541316667,\n",
       " -0.0018743354136088186,\n",
       " 0.0024755477926226566,\n",
       " -0.0027826937991475287,\n",
       " -9.856177962729029e-05,\n",
       " 0.003074426370187719,\n",
       " -0.000896873842689036,\n",
       " 1.1465783758740633e-05,\n",
       " -0.002355799798877345,\n",
       " -0.0006009820590640869,\n",
       " 0.00036263227097781126,\n",
       " 0.000576434841154605,\n",
       " -0.00020831648350888576,\n",
       " 0.0009615944117661035,\n",
       " 0.0009063828069323931,\n",
       " 0.00039007435769201904,\n",
       " -8.453206395581114e-05,\n",
       " 0.0011404642386321218,\n",
       " 0.0019868741371214943,\n",
       " -0.0009174340905759026,\n",
       " -0.0017847538381921962,\n",
       " 4.601481839143495e-05,\n",
       " -0.0004497026862678166,\n",
       " 0.000679259955795597,\n",
       " -0.0023627822546469363,\n",
       " 0.0001768993643753991,\n",
       " 0.0010786641189383245,\n",
       " 0.0017601469322661295,\n",
       " -0.00035304485962694976,\n",
       " -0.0007589880818445471,\n",
       " -0.0031613364805188615,\n",
       " -0.0029205232827192312,\n",
       " 0.0012368287413057344,\n",
       " 0.0007688244774932129,\n",
       " 0.0008445247045938825,\n",
       " 0.0018217048891497611,\n",
       " -0.0009587558202341501,\n",
       " 0.0007341884688934902,\n",
       " 0.002069708598091108,\n",
       " 0.0010166764083352209,\n",
       " -0.0006215712982732963,\n",
       " 0.0014640948436823314,\n",
       " -0.0007730024491689053,\n",
       " 0.001305549923380625,\n",
       " 0.0002660801773949062,\n",
       " -0.0004975208407033971,\n",
       " 0.0019183371352120837,\n",
       " 0.0018081612044705264,\n",
       " 0.00014932255328087285,\n",
       " -0.0016814000582613814,\n",
       " -0.00036002902076842647,\n",
       " 0.0020694306224709608,\n",
       " -0.0003807632165893776,\n",
       " -0.0022527239945666494,\n",
       " 0.00016993907844053968,\n",
       " -0.0028101836362750127,\n",
       " 0.0010645985904568778,\n",
       " -0.0010896284286148056,\n",
       " 0.0009684336162958662,\n",
       " -0.00027062821477348564,\n",
       " -0.0013577916230459036,\n",
       " 0.0005760818291707659,\n",
       " -0.0011172291149159491,\n",
       " 0.0014986046547612597,\n",
       " 0.0003832931358069419,\n",
       " -0.0008487896502366171,\n",
       " 0.0014295099962396834,\n",
       " 0.0001219913157403385,\n",
       " -0.0015988930286970765,\n",
       " 0.0009751960790900238,\n",
       " 0.0019526150157122418,\n",
       " -0.0016744158971198908,\n",
       " -0.0013028750475513329,\n",
       " 0.0005414492313148417,\n",
       " 0.0004590939798498894,\n",
       " 0.0006860377669368756,\n",
       " 5.298022044200601e-05,\n",
       " 0.0021593600937557383,\n",
       " 0.0011128601415871658,\n",
       " 0.0017185762183100917,\n",
       " 2.549379405832053e-05,\n",
       " 0.0003970397597425762,\n",
       " 0.0016771470502219693,\n",
       " -9.84048854122399e-05,\n",
       " -0.0014405800389741402,\n",
       " 0.00023227297953987147,\n",
       " 0.0009477062419625398,\n",
       " -0.0008762828981079135,\n",
       " 0.0015810946306065304,\n",
       " 0.0004245807580271349,\n",
       " 0.00010115820834905032,\n",
       " 0.0005966471931733441,\n",
       " 0.0006448115381051805,\n",
       " 0.0009755149836358085,\n",
       " -0.0010346470489879384,\n",
       " 0.00021814094155422903,\n",
       " -0.0014821592797896882,\n",
       " 0.001532654015426474,\n",
       " 0.0009822450443638109,\n",
       " -0.0007728728409043123,\n",
       " 0.0017185540484753459,\n",
       " 0.0012504133549106206,\n",
       " -0.0007454154058429835,\n",
       " -2.023329019593123e-06,\n",
       " 3.239780272039361e-05,\n",
       " -0.0017572281882547586,\n",
       " -0.000869344782007786,\n",
       " 0.0006033994237360785,\n",
       " 0.00029363140791088815,\n",
       " -0.0020462449545399775,\n",
       " 0.0008995947635596913,\n",
       " -0.00033250166545908955,\n",
       " -0.0015234042677123305,\n",
       " -0.0008213833763323769,\n",
       " -0.0024176169722901764,\n",
       " 0.0014708453688731665,\n",
       " -0.0005938171285009147,\n",
       " 0.0009544243650872197,\n",
       " -0.0014338261030394928,\n",
       " -0.0004425633362831749,\n",
       " 0.00010807415461444592,\n",
       " -0.0012065105448777202,\n",
       " -0.0007731883347062984,\n",
       " -2.9852535155694415e-05,\n",
       " 0.001924889837262203,\n",
       " -0.00016731536376832223,\n",
       " -0.0010274616539619336,\n",
       " 0.0007823698675443469,\n",
       " -0.0029137539984374627,\n",
       " 0.00046606108727234585,\n",
       " -0.00080730932099142,\n",
       " -0.002252799030930369,\n",
       " 0.0010302473789648992,\n",
       " 0.0023930407630583517,\n",
       " -0.003250628142712042,\n",
       " 0.0003145804805915614,\n",
       " -0.0003187669791267639,\n",
       " 0.0007275914271738931,\n",
       " 0.0017667763760518679,\n",
       " -0.0015645588709241182,\n",
       " 0.0012986783167847071,\n",
       " -0.0034433742017783014,\n",
       " 0.00012177132276490477,\n",
       " -0.0019499486667424737,\n",
       " 0.0020419152047649464,\n",
       " 0.0007071454392044985,\n",
       " -0.00038783605706979585,\n",
       " -0.001041225331616602,\n",
       " 0.0011131125366287409,\n",
       " 0.0017531337798022822,\n",
       " 0.0005895692365772004,\n",
       " -0.0013508961412433407,\n",
       " -0.001943002023782836,\n",
       " -0.0016953138086434755,\n",
       " 0.0011817262802737705,\n",
       " -0.0018880666891973458,\n",
       " -0.0007454989690662134,\n",
       " -0.0014609833926459703,\n",
       " 0.00020421354819691317,\n",
       " -0.0011105229293945917,\n",
       " -0.0016607221397132305,\n",
       " -0.0014952834429808604,\n",
       " -0.0006351013399773092,\n",
       " 0.0001217031078887959,\n",
       " -0.0004358963743155697,\n",
       " -0.0008968295030195583,\n",
       " -0.001894957054884197,\n",
       " -0.0005252085009715829,\n",
       " 0.0010992345990566005,\n",
       " -0.002892707719558338,\n",
       " 0.0010992277775689896,\n",
       " 1.1680660618476613e-05,\n",
       " -0.0010072305428522749,\n",
       " 0.0019322594124537018,\n",
       " -0.000201530145508097,\n",
       " -0.0005044453138283028,\n",
       " 0.0003695243420365618,\n",
       " -0.0008899169674979751,\n",
       " 0.0012780941936911955,\n",
       " 0.0010924397341963016,\n",
       " -0.0009174716087577556,\n",
       " 0.0005622738118466197,\n",
       " 0.0008100933406224864,\n",
       " -6.419692516007602e-05,\n",
       " -0.00011900947296858422,\n",
       " -0.0023282144609233224,\n",
       " -0.0014954539801711325,\n",
       " -3.639841571821678e-05,\n",
       " -0.0003876126533505636,\n",
       " -0.0015164030528518058,\n",
       " 0.00015627601772813526,\n",
       " 0.0015120357848949217,\n",
       " -0.0005391375997008119,\n",
       " 0.0008856758970618855,\n",
       " 0.0010991169283953162,\n",
       " 0.00026638884970928145,\n",
       " -5.693137765463985e-05,\n",
       " -0.0006352633503080574,\n",
       " -0.0007521437611990728,\n",
       " -0.0006078468441723939,\n",
       " -0.0013993896229523711,\n",
       " -0.0020327063859764682,\n",
       " 0.0017253369757323361,\n",
       " 0.0012780089250960663,\n",
       " -0.002899765211691649,\n",
       " 1.1714768056531044e-05,\n",
       " -6.391212805233193e-05,\n",
       " 0.0009546204828560223,\n",
       " 0.0009409949403254708,\n",
       " -0.0009037249848221213,\n",
       " -0.00019493992527611081,\n",
       " 0.0008858532557397547,\n",
       " 0.0011543626406670948,\n",
       " -0.0019638845869592997,\n",
       " 0.000981992649322222,\n",
       " 0.00010820205750713963,\n",
       " -0.0010965136781859314,\n",
       " -0.001013803709365227,\n",
       " -0.00018106198770397042,\n",
       " 0.002131500190925395,\n",
       " -0.0007317830418248072,\n",
       " 0.0007618198518888758,\n",
       " 0.0014982601696369169,\n",
       " -0.0012341692138235633,\n",
       " 0.0018560561006417259,\n",
       " -9.180954906455596e-05,\n",
       " -2.0165075319822368e-06,\n",
       " -0.000497696494009367,\n",
       " -0.0009105369034014404,\n",
       " 0.0008859862747481739,\n",
       " 0.0014776487605929756,\n",
       " 0.0005486687337789009,\n",
       " -0.0006764452394703024,\n",
       " 0.0022827505723993224,\n",
       " 0.0005416180631332007,\n",
       " -4.358210537232232e-05,\n",
       " -0.0009796605532453595,\n",
       " 0.001408949748352803,\n",
       " 0.0009959319802828603,\n",
       " -0.0017019517792887379,\n",
       " -0.0014816766595412423,\n",
       " -8.464973461708158e-05,\n",
       " -0.00014648396174894718,\n",
       " -0.00024294055450528595,\n",
       " -0.0011101170508817648,\n",
       " 8.720864515700255e-05,\n",
       " 0.0004728985864302093,\n",
       " 0.000768664172534364,\n",
       " 0.0016566635440707078,\n",
       " -0.0006696895981637557,\n",
       " -0.0027621506049796962,\n",
       " 0.0008926873441538197,\n",
       " -0.00013285841921836794,\n",
       " -0.00013291469649116816,\n",
       " -0.0029959591771750033,\n",
       " 0.0010992891709574876,\n",
       " 0.00019755852383261663,\n",
       " -0.0008210917577370219,\n",
       " -9.886192508214153e-05,\n",
       " -0.0013581429296578434,\n",
       " 0.000823788803401046,\n",
       " 0.00048658040623354715,\n",
       " -0.0012893262467563865,\n",
       " -9.120044706670272e-06,\n",
       " -0.0016952200131888362,\n",
       " 0.0005761005882616854,\n",
       " -0.00048380661883391796,\n",
       " -0.001234152160104529,\n",
       " -0.00029815557008282256,\n",
       " -0.0007456371041903304,\n",
       " -0.00034606240385734455,\n",
       " 0.0005899461237676845,\n",
       " 0.000892368439608035,\n",
       " 0.0004245961063742698,\n",
       " 0.0017602799512745348,\n",
       " -0.0007593189239936543,\n",
       " 0.00033494802145342395,\n",
       " 0.0015738461368201284,\n",
       " 0.0005208616974775315,\n",
       " 0.0013678070827443378,\n",
       " 0.0009753768485116915,\n",
       " -0.0006215934681080282,\n",
       " 0.001188626878192045,\n",
       " 0.0008651412297535493,\n",
       " 0.001195583753383092,\n",
       " -0.002232095531803674,\n",
       " 0.0007687255659228481,\n",
       " -0.0020394091607540132,\n",
       " -0.001412766181185146,\n",
       " -0.0007589539744064927,\n",
       " -0.0003051124452738696,\n",
       " -0.0013166472520655254,\n",
       " 0.001050679723959072,\n",
       " -0.0006903794543152292,\n",
       " -0.0004425224073575096,\n",
       " -0.0018739619371621469,\n",
       " -0.00024296954582762875,\n",
       " -0.0031336454095068633,\n",
       " 0.00043821312204531115,\n",
       " 0.0010508673148683506,\n",
       " 0.0019594849169362744,\n",
       " -0.0008071933557020489,\n",
       " -1.5928552542177066e-05,\n",
       " 0.002041918615508745,\n",
       " -0.0012064082225635708,\n",
       " -0.0016125339195747629,\n",
       " -0.0009107534856330757,\n",
       " -0.0005181987592515619,\n",
       " 0.0007897019245539788,\n",
       " 0.0004036419175778849,\n",
       " 0.0012987806390988704,\n",
       " 0.0005553715085564459,\n",
       " -0.0013718776159901552,\n",
       " 0.0033292471138240826,\n",
       " -0.0016401260790163963,\n",
       " -0.001089669357540457,\n",
       " -0.0009448949363810438,\n",
       " -0.001096672277772881,\n",
       " -0.0011582984495326076,\n",
       " -0.0010275980837141374,\n",
       " 0.00024566829686356595,\n",
       " 3.237733825756095e-05,\n",
       " -4.334505867785443e-05,\n",
       " -0.0005457619273708386,\n",
       " -0.0029752386243292878,\n",
       " 0.001023073921542203,\n",
       " -0.0015922567634237134,\n",
       " 0.001243545159058515,\n",
       " -0.003078694726574252,\n",
       " -0.0015507150407900183,\n",
       " -0.00043553995158791825,\n",
       " 0.000748291515556776,\n",
       " -0.0011584519330038456,\n",
       " -0.00042899236565349663,\n",
       " 0.0012918902734120191,\n",
       " 0.0016017026289066733,\n",
       " -0.00025683384042456125,\n",
       " 0.00024593092413657813,\n",
       " 0.0011953398852010133,\n",
       " -0.00017440355259588924,\n",
       " -0.001440407796411955,\n",
       " 0.0011061369023467743,\n",
       " 0.00010105418066298777,\n",
       " -0.000924379028163641,\n",
       " -0.00021546094960922524,\n",
       " 0.0002113853002476962,\n",
       " 0.001202448538491399,\n",
       " -0.002596735783453971,\n",
       " 0.0014088303723196333,\n",
       " 0.0007207829193383725,\n",
       " -0.002920405612057933,\n",
       " 0.0038523265527181105,\n",
       " 0.00185598106427802,\n",
       " -0.0004561274854252423,\n",
       " 0.0006930338656816887,\n",
       " 0.0016428418837713538,\n",
       " -0.0008278883279692201,\n",
       " 0.002014398081687019,\n",
       " -0.0018055357844264097,\n",
       " -0.000738654648420739,\n",
       " 0.001787164381376577,\n",
       " 0.0007479333874572391,\n",
       " 0.0019526371855469876,\n",
       " -0.001530118980093198,\n",
       " 4.598923781289066e-05,\n",
       " 0.0015535502215781594,\n",
       " 0.001285008434584678,\n",
       " -0.00038065577815951657,\n",
       " 0.0028061540319548467,\n",
       " -0.0013649633750966866,\n",
       " -0.0009174033938816467,\n",
       " -0.001254876123694057,\n",
       " 0.0017598570190426738,\n",
       " -0.00042873314912429683,\n",
       " 0.0017805229999875022,\n",
       " 0.00017693347181343966,\n",
       " 0.0025928153229355655,\n",
       " 0.0004935952640692937,\n",
       " -0.00011895660643959638,\n",
       " 0.0004934434859699549,\n",
       " -0.0007316619604197244,\n",
       " -0.000889855574109491,\n",
       " -0.0009176250922289936,\n",
       " 0.0010096717827308976,\n",
       " 0.0007410396110265755,\n",
       " -0.0014200538985253142,\n",
       " -0.0020393631157126363,\n",
       " -5.728268426659355e-05,\n",
       " -0.0005664210868280839,\n",
       " 0.0004109722692156176,\n",
       " -0.0025694096620291346,\n",
       " 0.0016083167243452906,\n",
       " 0.0005208906887998743,\n",
       " 0.000844674777321322,\n",
       " -0.0012823574339620308,\n",
       " 8.742011127292615e-05,\n",
       " 0.0009890160340174786,\n",
       " -0.001364912213939598,\n",
       " -0.00018790460297754552,\n",
       " -0.000208541592600045,\n",
       " 0.0020144731180507386,\n",
       " 0.0014432020482744445,\n",
       " -0.0023285146063781736,\n",
       " 0.0022623574509589017,\n",
       " 0.00109234252799785,\n",
       " -0.0013444815743173244,\n",
       " -0.0019016223114798891,\n",
       " -0.00029809247132241146,\n",
       " -0.00018799328231648704,\n",
       " 0.0011748256823555098,\n",
       " -0.0005390011699485941,\n",
       " -0.00020177060294637728,\n",
       " 0.0016494065234247957,\n",
       " 0.002393151612232025,\n",
       " -0.0011241859901069962,\n",
       " 0.00020417944075884487,\n",
       " 0.0005138280805508655,\n",
       " ...]"
      ]
     },
     "execution_count": 251,
     "metadata": {},
     "output_type": "execute_result"
    }
   ],
   "source": [
    "p_diffs= []\n",
    "for _ in range(10000):\n",
    "    new_page_converted = np.random.choice([0, 1], size=nnew, p=[(1 - pnew), pnew])\n",
    "    old_page_converted = np.random.choice([0, 1], size=nold, p=[(1 - pold), pold])\n",
    "    p_diffs.append(new_page_converted.mean() - old_page_converted.mean())\n",
    "p_diffs"
   ]
  },
  {
   "cell_type": "markdown",
   "metadata": {},
   "source": [
    "i. Plot a histogram of the **p_diffs**.  Does this plot look like what you expected?  Use the matching problem in the classroom to assure you fully understand what was computed here."
   ]
  },
  {
   "cell_type": "code",
   "execution_count": 252,
   "metadata": {},
   "outputs": [
    {
     "data": {
      "image/png": "[encoded data removed]",
      "text/plain": [
       "<Figure size 432x288 with 1 Axes>"
      ]
     },
     "metadata": {
      "needs_background": "light"
     },
     "output_type": "display_data"
    }
   ],
   "source": [
    "difference_rate= treatment_rate - control_rate\n",
    "plt.hist(p_diffs)\n",
    "plt.xlim(-0.005, 0.005)\n",
    "plt.xlabel('p_diffs')\n",
    "plt.ylabel('counts')\n",
    "plt.title('simulated p_diffs distribution')\n",
    "plt.axvline(difference_rate, color='r');"
   ]
  },
  {
   "cell_type": "markdown",
   "metadata": {},
   "source": [
    "j. What proportion of the **p_diffs** are greater than the actual difference observed in **ab_data.csv**?"
   ]
  },
  {
   "cell_type": "code",
   "execution_count": 254,
   "metadata": {},
   "outputs": [
    {
     "data": {
      "text/plain": [
       "0.9024"
      ]
     },
     "execution_count": 254,
     "metadata": {},
     "output_type": "execute_result"
    }
   ],
   "source": [
    "(p_diffs >= difference_rate).mean()"
   ]
  },
  {
   "cell_type": "markdown",
   "metadata": {},
   "source": [
    "k. In words, explain what you just computed in part **j.**  What is this value called in scientific studies?  What does this value mean in terms of whether or not there is a difference between the new and old pages?"
   ]
  },
  {
   "cell_type": "markdown",
   "metadata": {},
   "source": [
    "**I copmuted the p value in part j. The value= 0.90 is much larger than alpha 0.05. Therefore, and new page is not better in leading to conversion than old page.**"
   ]
  },
  {
   "cell_type": "markdown",
   "metadata": {},
   "source": [
    "l. We could also use a built-in to achieve similar results.  Though using the built-in might be easier to code, the above portions are a walkthrough of the ideas that are critical to correctly thinking about statistical significance. Fill in the below to calculate the number of conversions for each page, as well as the number of individuals who received each page. Let `n_old` and `n_new` refer the the number of rows associated with the old page and new pages, respectively."
   ]
  },
  {
   "cell_type": "code",
   "execution_count": 255,
   "metadata": {},
   "outputs": [
    {
     "data": {
      "text/plain": [
       "(17489, 17264, 145274, 145310)"
      ]
     },
     "execution_count": 255,
     "metadata": {},
     "output_type": "execute_result"
    }
   ],
   "source": [
    "import statsmodels.api as sm\n",
    "\n",
    "convert_old = (df2.query('landing_page==\"old_page\"')['converted']==1).sum()\n",
    "convert_new = (df2.query('landing_page==\"new_page\"')['converted']==1).sum() \n",
    "n_old = (df2['landing_page']=='old_page').sum()\n",
    "n_new = (df2['landing_page']=='new_page').sum()\n",
    "convert_old, convert_new, n_old, n_new "
   ]
  },
  {
   "cell_type": "markdown",
   "metadata": {},
   "source": [
    "m. Now use `stats.proportions_ztest` to compute your test statistic and p-value.  [Here](http://knowledgetack.com/python/statsmodels/proportions_ztest/) is a helpful link on using the built in."
   ]
  },
  {
   "cell_type": "code",
   "execution_count": 256,
   "metadata": {},
   "outputs": [
    {
     "data": {
      "text/plain": [
       "(-1.3109241984234394, 0.9050583127590245)"
      ]
     },
     "execution_count": 256,
     "metadata": {},
     "output_type": "execute_result"
    }
   ],
   "source": [
    "z_score, p_value = sm.stats.proportions_ztest([convert_new, convert_old], [n_new, n_old], alternative='larger')\n",
    "z_score, p_value"
   ]
  },
  {
   "cell_type": "markdown",
   "metadata": {},
   "source": [
    "n. What do the z-score and p-value you computed in the previous question mean for the conversion rates of the old and new pages?  Do they agree with the findings in parts **j.** and **k.**?"
   ]
  },
  {
   "cell_type": "markdown",
   "metadata": {},
   "source": [
    "**zscore is -1.31, less than the critical value 1.64. P value is 0.9, still larger than alpha 0.05. Therefore I fail to reject null, and I agree with parts j and k.**"
   ]
  },
  {
   "cell_type": "markdown",
   "metadata": {},
   "source": [
    "<a id='regression'></a>\n",
    "### Part III - A regression approach\n",
    "\n",
    "`1.` In this final part, you will see that the result you acheived in the previous A/B test can also be acheived by performing regression.<br><br>\n",
    "\n",
    "a. Since each row is either a conversion or no conversion, what type of regression should you be performing in this case?"
   ]
  },
  {
   "cell_type": "markdown",
   "metadata": {},
   "source": [
    "**Logistic Regression**"
   ]
  },
  {
   "cell_type": "markdown",
   "metadata": {},
   "source": [
    "b. The goal is to use **statsmodels** to fit the regression model you specified in part **a.** to see if there is a significant difference in conversion based on which page a customer receives.  However, you first need to create a column for the intercept, and create a dummy variable column for which page each user received.  Add an **intercept** column, as well as an **ab_page** column, which is 1 when an individual receives the **treatment** and 0 if **control**."
   ]
  },
  {
   "cell_type": "code",
   "execution_count": 257,
   "metadata": {},
   "outputs": [
    {
     "data": {
      "text/html": [
       "<div>\n",
       "<style scoped>\n",
       "    .dataframe tbody tr th:only-of-type {\n",
       "        vertical-align: middle;\n",
       "    }\n",
       "\n",
       "    .dataframe tbody tr th {\n",
       "        vertical-align: top;\n",
       "    }\n",
       "\n",
       "    .dataframe thead th {\n",
       "        text-align: right;\n",
       "    }\n",
       "</style>\n",
       "<table border=\"1\" class=\"dataframe\">\n",
       "  <thead>\n",
       "    <tr style=\"text-align: right;\">\n",
       "      <th></th>\n",
       "      <th>user_id</th>\n",
       "      <th>timestamp</th>\n",
       "      <th>group</th>\n",
       "      <th>landing_page</th>\n",
       "      <th>converted</th>\n",
       "      <th>intercept</th>\n",
       "      <th>ab_page</th>\n",
       "    </tr>\n",
       "  </thead>\n",
       "  <tbody>\n",
       "    <tr>\n",
       "      <th>0</th>\n",
       "      <td>851104</td>\n",
       "      <td>2017-01-21 22:11:48.556739</td>\n",
       "      <td>control</td>\n",
       "      <td>old_page</td>\n",
       "      <td>0</td>\n",
       "      <td>1</td>\n",
       "      <td>0</td>\n",
       "    </tr>\n",
       "    <tr>\n",
       "      <th>1</th>\n",
       "      <td>804228</td>\n",
       "      <td>2017-01-12 08:01:45.159739</td>\n",
       "      <td>control</td>\n",
       "      <td>old_page</td>\n",
       "      <td>0</td>\n",
       "      <td>1</td>\n",
       "      <td>0</td>\n",
       "    </tr>\n",
       "    <tr>\n",
       "      <th>2</th>\n",
       "      <td>661590</td>\n",
       "      <td>2017-01-11 16:55:06.154213</td>\n",
       "      <td>treatment</td>\n",
       "      <td>new_page</td>\n",
       "      <td>0</td>\n",
       "      <td>1</td>\n",
       "      <td>1</td>\n",
       "    </tr>\n",
       "    <tr>\n",
       "      <th>3</th>\n",
       "      <td>853541</td>\n",
       "      <td>2017-01-08 18:28:03.143765</td>\n",
       "      <td>treatment</td>\n",
       "      <td>new_page</td>\n",
       "      <td>0</td>\n",
       "      <td>1</td>\n",
       "      <td>1</td>\n",
       "    </tr>\n",
       "    <tr>\n",
       "      <th>4</th>\n",
       "      <td>864975</td>\n",
       "      <td>2017-01-21 01:52:26.210827</td>\n",
       "      <td>control</td>\n",
       "      <td>old_page</td>\n",
       "      <td>1</td>\n",
       "      <td>1</td>\n",
       "      <td>0</td>\n",
       "    </tr>\n",
       "  </tbody>\n",
       "</table>\n",
       "</div>"
      ],
      "text/plain": [
       "   user_id                   timestamp      group landing_page  converted  \\\n",
       "0   851104  2017-01-21 22:11:48.556739    control     old_page          0   \n",
       "1   804228  2017-01-12 08:01:45.159739    control     old_page          0   \n",
       "2   661590  2017-01-11 16:55:06.154213  treatment     new_page          0   \n",
       "3   853541  2017-01-08 18:28:03.143765  treatment     new_page          0   \n",
       "4   864975  2017-01-21 01:52:26.210827    control     old_page          1   \n",
       "\n",
       "   intercept  ab_page  \n",
       "0          1        0  \n",
       "1          1        0  \n",
       "2          1        1  \n",
       "3          1        1  \n",
       "4          1        0  "
      ]
     },
     "execution_count": 257,
     "metadata": {},
     "output_type": "execute_result"
    }
   ],
   "source": [
    "df2['intercept']=1\n",
    "df2['ab_page']=pd.get_dummies(df2['group'])['treatment']\n",
    "df2.head()"
   ]
  },
  {
   "cell_type": "markdown",
   "metadata": {},
   "source": [
    "c. Use **statsmodels** to import your regression model.  Instantiate the model, and fit the model using the two columns you created in part **b.** to predict whether or not an individual converts."
   ]
  },
  {
   "cell_type": "code",
   "execution_count": 258,
   "metadata": {},
   "outputs": [
    {
     "name": "stdout",
     "output_type": "stream",
     "text": [
      "Optimization terminated successfully.\n",
      "         Current function value: 0.366118\n",
      "         Iterations 6\n"
     ]
    }
   ],
   "source": [
    "logistic_reg=sm.Logit(df2['converted'], df2[['intercept', 'ab_page']])\n",
    "results=logistic_reg.fit()"
   ]
  },
  {
   "cell_type": "markdown",
   "metadata": {},
   "source": [
    "d. Provide the summary of your model below, and use it as necessary to answer the following questions."
   ]
  },
  {
   "cell_type": "code",
   "execution_count": 259,
   "metadata": {},
   "outputs": [
    {
     "data": {
      "text/html": [
       "<table class=\"simpletable\">\n",
       "<caption>Logit Regression Results</caption>\n",
       "<tr>\n",
       "  <th>Dep. Variable:</th>       <td>converted</td>    <th>  No. Observations:  </th>   <td>290584</td>   \n",
       "</tr>\n",
       "<tr>\n",
       "  <th>Model:</th>                 <td>Logit</td>      <th>  Df Residuals:      </th>   <td>290582</td>   \n",
       "</tr>\n",
       "<tr>\n",
       "  <th>Method:</th>                 <td>MLE</td>       <th>  Df Model:          </th>   <td>     1</td>   \n",
       "</tr>\n",
       "<tr>\n",
       "  <th>Date:</th>            <td>Tue, 30 Jun 2020</td> <th>  Pseudo R-squ.:     </th>  <td>8.077e-06</td> \n",
       "</tr>\n",
       "<tr>\n",
       "  <th>Time:</th>                <td>20:18:13</td>     <th>  Log-Likelihood:    </th> <td>-1.0639e+05</td>\n",
       "</tr>\n",
       "<tr>\n",
       "  <th>converged:</th>             <td>True</td>       <th>  LL-Null:           </th> <td>-1.0639e+05</td>\n",
       "</tr>\n",
       "<tr>\n",
       "  <th>Covariance Type:</th>     <td>nonrobust</td>    <th>  LLR p-value:       </th>   <td>0.1899</td>   \n",
       "</tr>\n",
       "</table>\n",
       "<table class=\"simpletable\">\n",
       "<tr>\n",
       "      <td></td>         <th>coef</th>     <th>std err</th>      <th>z</th>      <th>P>|z|</th>  <th>[0.025</th>    <th>0.975]</th>  \n",
       "</tr>\n",
       "<tr>\n",
       "  <th>intercept</th> <td>   -1.9888</td> <td>    0.008</td> <td> -246.669</td> <td> 0.000</td> <td>   -2.005</td> <td>   -1.973</td>\n",
       "</tr>\n",
       "<tr>\n",
       "  <th>ab_page</th>   <td>   -0.0150</td> <td>    0.011</td> <td>   -1.311</td> <td> 0.190</td> <td>   -0.037</td> <td>    0.007</td>\n",
       "</tr>\n",
       "</table>"
      ],
      "text/plain": [
       "<class 'statsmodels.iolib.summary.Summary'>\n",
       "\"\"\"\n",
       "                           Logit Regression Results                           \n",
       "==============================================================================\n",
       "Dep. Variable:              converted   No. Observations:               290584\n",
       "Model:                          Logit   Df Residuals:                   290582\n",
       "Method:                           MLE   Df Model:                            1\n",
       "Date:                Tue, 30 Jun 2020   Pseudo R-squ.:               8.077e-06\n",
       "Time:                        20:18:13   Log-Likelihood:            -1.0639e+05\n",
       "converged:                       True   LL-Null:                   -1.0639e+05\n",
       "Covariance Type:            nonrobust   LLR p-value:                    0.1899\n",
       "==============================================================================\n",
       "                 coef    std err          z      P>|z|      [0.025      0.975]\n",
       "------------------------------------------------------------------------------\n",
       "intercept     -1.9888      0.008   -246.669      0.000      -2.005      -1.973\n",
       "ab_page       -0.0150      0.011     -1.311      0.190      -0.037       0.007\n",
       "==============================================================================\n",
       "\"\"\""
      ]
     },
     "execution_count": 259,
     "metadata": {},
     "output_type": "execute_result"
    }
   ],
   "source": [
    "results.summary()"
   ]
  },
  {
   "cell_type": "markdown",
   "metadata": {},
   "source": [
    "e. What is the p-value associated with **ab_page**? Why does it differ from the value you found in **Part II**?<br><br>  **Hint**: What are the null and alternative hypotheses associated with your regression model, and how do they compare to the null and alternative hypotheses in the **Part II**?"
   ]
  },
  {
   "cell_type": "markdown",
   "metadata": {},
   "source": [
    "**The p-value assoclated with ab_page is 0.19 which is different, because here we want to test if the ab_page is a significant factor in contributing the converfed rate so we have null hypothesis and aiternative hypothesis as follows: H0: ab_page = 0 H1: ab_page ≠ 0 This is twe-sided test while in Part II we have one-sided test.**"
   ]
  },
  {
   "cell_type": "markdown",
   "metadata": {},
   "source": [
    "f. Now, you are considering other things that might influence whether or not an individual converts.  Discuss why it is a good idea to consider other factors to add into your regression model.  Are there any disadvantages to adding additional terms into your regression model?"
   ]
  },
  {
   "cell_type": "markdown",
   "metadata": {},
   "source": [
    "**There is many factors can impact of web page coversin page landing such as user's gender. Disadvanage of adding additional terms in to reggression is intrptation more complex because it may realred to vraible but not related to others**"
   ]
  },
  {
   "cell_type": "markdown",
   "metadata": {},
   "source": [
    "g. Now along with testing if the conversion rate changes for different pages, also add an effect based on which country a user lives. You will need to read in the **countries.csv** dataset and merge together your datasets on the approporiate rows.  [Here](https://pandas.pydata.org/pandas-docs/stable/generated/pandas.DataFrame.join.html) are the docs for joining tables. \n",
    "\n",
    "Does it appear that country had an impact on conversion?  Don't forget to create dummy variables for these country columns - **Hint: You will need two columns for the three dummy variables.** Provide the statistical output as well as a written response to answer this question."
   ]
  },
  {
   "cell_type": "code",
   "execution_count": 261,
   "metadata": {},
   "outputs": [
    {
     "data": {
      "text/html": [
       "<div>\n",
       "<style scoped>\n",
       "    .dataframe tbody tr th:only-of-type {\n",
       "        vertical-align: middle;\n",
       "    }\n",
       "\n",
       "    .dataframe tbody tr th {\n",
       "        vertical-align: top;\n",
       "    }\n",
       "\n",
       "    .dataframe thead th {\n",
       "        text-align: right;\n",
       "    }\n",
       "</style>\n",
       "<table border=\"1\" class=\"dataframe\">\n",
       "  <thead>\n",
       "    <tr style=\"text-align: right;\">\n",
       "      <th></th>\n",
       "      <th>user_id</th>\n",
       "      <th>country</th>\n",
       "    </tr>\n",
       "  </thead>\n",
       "  <tbody>\n",
       "    <tr>\n",
       "      <th>0</th>\n",
       "      <td>834778</td>\n",
       "      <td>UK</td>\n",
       "    </tr>\n",
       "    <tr>\n",
       "      <th>1</th>\n",
       "      <td>928468</td>\n",
       "      <td>US</td>\n",
       "    </tr>\n",
       "    <tr>\n",
       "      <th>2</th>\n",
       "      <td>822059</td>\n",
       "      <td>UK</td>\n",
       "    </tr>\n",
       "    <tr>\n",
       "      <th>3</th>\n",
       "      <td>711597</td>\n",
       "      <td>UK</td>\n",
       "    </tr>\n",
       "    <tr>\n",
       "      <th>4</th>\n",
       "      <td>710616</td>\n",
       "      <td>UK</td>\n",
       "    </tr>\n",
       "  </tbody>\n",
       "</table>\n",
       "</div>"
      ],
      "text/plain": [
       "   user_id country\n",
       "0   834778      UK\n",
       "1   928468      US\n",
       "2   822059      UK\n",
       "3   711597      UK\n",
       "4   710616      UK"
      ]
     },
     "execution_count": 261,
     "metadata": {},
     "output_type": "execute_result"
    }
   ],
   "source": [
    "countries_df = pd.read_csv('./countries.csv')\n",
    "df_new = countries_df.set_index('user_id').join(df2.set_index('user_id'), how='inner')\n",
    "countries_df.head()"
   ]
  },
  {
   "cell_type": "code",
   "execution_count": 269,
   "metadata": {},
   "outputs": [
    {
     "data": {
      "text/html": [
       "<div>\n",
       "<style scoped>\n",
       "    .dataframe tbody tr th:only-of-type {\n",
       "        vertical-align: middle;\n",
       "    }\n",
       "\n",
       "    .dataframe tbody tr th {\n",
       "        vertical-align: top;\n",
       "    }\n",
       "\n",
       "    .dataframe thead th {\n",
       "        text-align: right;\n",
       "    }\n",
       "</style>\n",
       "<table border=\"1\" class=\"dataframe\">\n",
       "  <thead>\n",
       "    <tr style=\"text-align: right;\">\n",
       "      <th></th>\n",
       "      <th>country</th>\n",
       "      <th>timestamp</th>\n",
       "      <th>group</th>\n",
       "      <th>landing_page</th>\n",
       "      <th>converted</th>\n",
       "      <th>intercept</th>\n",
       "      <th>ab_page</th>\n",
       "      <th>CA</th>\n",
       "      <th>UK</th>\n",
       "      <th>US</th>\n",
       "    </tr>\n",
       "    <tr>\n",
       "      <th>user_id</th>\n",
       "      <th></th>\n",
       "      <th></th>\n",
       "      <th></th>\n",
       "      <th></th>\n",
       "      <th></th>\n",
       "      <th></th>\n",
       "      <th></th>\n",
       "      <th></th>\n",
       "      <th></th>\n",
       "      <th></th>\n",
       "    </tr>\n",
       "  </thead>\n",
       "  <tbody>\n",
       "    <tr>\n",
       "      <th>834778</th>\n",
       "      <td>UK</td>\n",
       "      <td>2017-01-14 23:08:43.304998</td>\n",
       "      <td>control</td>\n",
       "      <td>old_page</td>\n",
       "      <td>0</td>\n",
       "      <td>1</td>\n",
       "      <td>0</td>\n",
       "      <td>0</td>\n",
       "      <td>1</td>\n",
       "      <td>0</td>\n",
       "    </tr>\n",
       "    <tr>\n",
       "      <th>928468</th>\n",
       "      <td>US</td>\n",
       "      <td>2017-01-23 14:44:16.387854</td>\n",
       "      <td>treatment</td>\n",
       "      <td>new_page</td>\n",
       "      <td>0</td>\n",
       "      <td>1</td>\n",
       "      <td>1</td>\n",
       "      <td>0</td>\n",
       "      <td>0</td>\n",
       "      <td>1</td>\n",
       "    </tr>\n",
       "    <tr>\n",
       "      <th>822059</th>\n",
       "      <td>UK</td>\n",
       "      <td>2017-01-16 14:04:14.719771</td>\n",
       "      <td>treatment</td>\n",
       "      <td>new_page</td>\n",
       "      <td>1</td>\n",
       "      <td>1</td>\n",
       "      <td>1</td>\n",
       "      <td>0</td>\n",
       "      <td>1</td>\n",
       "      <td>0</td>\n",
       "    </tr>\n",
       "    <tr>\n",
       "      <th>711597</th>\n",
       "      <td>UK</td>\n",
       "      <td>2017-01-22 03:14:24.763511</td>\n",
       "      <td>control</td>\n",
       "      <td>old_page</td>\n",
       "      <td>0</td>\n",
       "      <td>1</td>\n",
       "      <td>0</td>\n",
       "      <td>0</td>\n",
       "      <td>1</td>\n",
       "      <td>0</td>\n",
       "    </tr>\n",
       "    <tr>\n",
       "      <th>710616</th>\n",
       "      <td>UK</td>\n",
       "      <td>2017-01-16 13:14:44.000513</td>\n",
       "      <td>treatment</td>\n",
       "      <td>new_page</td>\n",
       "      <td>0</td>\n",
       "      <td>1</td>\n",
       "      <td>1</td>\n",
       "      <td>0</td>\n",
       "      <td>1</td>\n",
       "      <td>0</td>\n",
       "    </tr>\n",
       "  </tbody>\n",
       "</table>\n",
       "</div>"
      ],
      "text/plain": [
       "        country                   timestamp      group landing_page  \\\n",
       "user_id                                                               \n",
       "834778       UK  2017-01-14 23:08:43.304998    control     old_page   \n",
       "928468       US  2017-01-23 14:44:16.387854  treatment     new_page   \n",
       "822059       UK  2017-01-16 14:04:14.719771  treatment     new_page   \n",
       "711597       UK  2017-01-22 03:14:24.763511    control     old_page   \n",
       "710616       UK  2017-01-16 13:14:44.000513  treatment     new_page   \n",
       "\n",
       "         converted  intercept  ab_page  CA  UK  US  \n",
       "user_id                                             \n",
       "834778           0          1        0   0   1   0  \n",
       "928468           0          1        1   0   0   1  \n",
       "822059           1          1        1   0   1   0  \n",
       "711597           0          1        0   0   1   0  \n",
       "710616           0          1        1   0   1   0  "
      ]
     },
     "execution_count": 269,
     "metadata": {},
     "output_type": "execute_result"
    }
   ],
   "source": [
    "### Create the necessary dummy variables\n",
    "df_new[['CA', 'UK', 'US']] = pd.get_dummies(df_new['country'])\n",
    "df_new.head()"
   ]
  },
  {
   "cell_type": "markdown",
   "metadata": {},
   "source": [
    "h. Though you have now looked at the individual factors of country and page on conversion, we would now like to look at an interaction between page and country to see if there significant effects on conversion.  Create the necessary additional columns, and fit the new model.  \n",
    "\n",
    "Provide the summary results, and your conclusions based on the results."
   ]
  },
  {
   "cell_type": "code",
   "execution_count": 279,
   "metadata": {},
   "outputs": [
    {
     "name": "stdout",
     "output_type": "stream",
     "text": [
      "Optimization terminated successfully.\n",
      "         Current function value: 0.366113\n",
      "         Iterations 6\n"
     ]
    },
    {
     "data": {
      "text/html": [
       "<table class=\"simpletable\">\n",
       "<caption>Logit Regression Results</caption>\n",
       "<tr>\n",
       "  <th>Dep. Variable:</th>       <td>converted</td>    <th>  No. Observations:  </th>   <td>290584</td>   \n",
       "</tr>\n",
       "<tr>\n",
       "  <th>Model:</th>                 <td>Logit</td>      <th>  Df Residuals:      </th>   <td>290580</td>   \n",
       "</tr>\n",
       "<tr>\n",
       "  <th>Method:</th>                 <td>MLE</td>       <th>  Df Model:          </th>   <td>     3</td>   \n",
       "</tr>\n",
       "<tr>\n",
       "  <th>Date:</th>            <td>Tue, 30 Jun 2020</td> <th>  Pseudo R-squ.:     </th>  <td>2.323e-05</td> \n",
       "</tr>\n",
       "<tr>\n",
       "  <th>Time:</th>                <td>20:42:16</td>     <th>  Log-Likelihood:    </th> <td>-1.0639e+05</td>\n",
       "</tr>\n",
       "<tr>\n",
       "  <th>converged:</th>             <td>True</td>       <th>  LL-Null:           </th> <td>-1.0639e+05</td>\n",
       "</tr>\n",
       "<tr>\n",
       "  <th>Covariance Type:</th>     <td>nonrobust</td>    <th>  LLR p-value:       </th>   <td>0.1760</td>   \n",
       "</tr>\n",
       "</table>\n",
       "<table class=\"simpletable\">\n",
       "<tr>\n",
       "      <td></td>         <th>coef</th>     <th>std err</th>      <th>z</th>      <th>P>|z|</th>  <th>[0.025</th>    <th>0.975]</th>  \n",
       "</tr>\n",
       "<tr>\n",
       "  <th>intercept</th> <td>   -2.0300</td> <td>    0.027</td> <td>  -76.249</td> <td> 0.000</td> <td>   -2.082</td> <td>   -1.978</td>\n",
       "</tr>\n",
       "<tr>\n",
       "  <th>ab_page</th>   <td>   -0.0149</td> <td>    0.011</td> <td>   -1.307</td> <td> 0.191</td> <td>   -0.037</td> <td>    0.007</td>\n",
       "</tr>\n",
       "<tr>\n",
       "  <th>US</th>        <td>    0.0408</td> <td>    0.027</td> <td>    1.516</td> <td> 0.130</td> <td>   -0.012</td> <td>    0.093</td>\n",
       "</tr>\n",
       "<tr>\n",
       "  <th>UK</th>        <td>    0.0506</td> <td>    0.028</td> <td>    1.784</td> <td> 0.074</td> <td>   -0.005</td> <td>    0.106</td>\n",
       "</tr>\n",
       "</table>"
      ],
      "text/plain": [
       "<class 'statsmodels.iolib.summary.Summary'>\n",
       "\"\"\"\n",
       "                           Logit Regression Results                           \n",
       "==============================================================================\n",
       "Dep. Variable:              converted   No. Observations:               290584\n",
       "Model:                          Logit   Df Residuals:                   290580\n",
       "Method:                           MLE   Df Model:                            3\n",
       "Date:                Tue, 30 Jun 2020   Pseudo R-squ.:               2.323e-05\n",
       "Time:                        20:42:16   Log-Likelihood:            -1.0639e+05\n",
       "converged:                       True   LL-Null:                   -1.0639e+05\n",
       "Covariance Type:            nonrobust   LLR p-value:                    0.1760\n",
       "==============================================================================\n",
       "                 coef    std err          z      P>|z|      [0.025      0.975]\n",
       "------------------------------------------------------------------------------\n",
       "intercept     -2.0300      0.027    -76.249      0.000      -2.082      -1.978\n",
       "ab_page       -0.0149      0.011     -1.307      0.191      -0.037       0.007\n",
       "US             0.0408      0.027      1.516      0.130      -0.012       0.093\n",
       "UK             0.0506      0.028      1.784      0.074      -0.005       0.106\n",
       "==============================================================================\n",
       "\"\"\""
      ]
     },
     "execution_count": 279,
     "metadata": {},
     "output_type": "execute_result"
    }
   ],
   "source": [
    "### Fit Your Linear Model And Obtain the Results\n",
    "df_new['intercept'] = 1\n",
    "log_mod = sm.Logit(df_new['converted'], df_new[['intercept', 'ab_page', 'US', 'UK']])\n",
    "result = log_mod.fit()\n",
    "result.summary()"
   ]
  },
  {
   "cell_type": "code",
   "execution_count": 280,
   "metadata": {},
   "outputs": [
    {
     "name": "stdout",
     "output_type": "stream",
     "text": [
      "Optimization terminated successfully.\n",
      "         Current function value: 0.366109\n",
      "         Iterations 6\n"
     ]
    },
    {
     "data": {
      "text/html": [
       "<table class=\"simpletable\">\n",
       "<caption>Logit Regression Results</caption>\n",
       "<tr>\n",
       "  <th>Dep. Variable:</th>       <td>converted</td>    <th>  No. Observations:  </th>   <td>290584</td>   \n",
       "</tr>\n",
       "<tr>\n",
       "  <th>Model:</th>                 <td>Logit</td>      <th>  Df Residuals:      </th>   <td>290578</td>   \n",
       "</tr>\n",
       "<tr>\n",
       "  <th>Method:</th>                 <td>MLE</td>       <th>  Df Model:          </th>   <td>     5</td>   \n",
       "</tr>\n",
       "<tr>\n",
       "  <th>Date:</th>            <td>Tue, 30 Jun 2020</td> <th>  Pseudo R-squ.:     </th>  <td>3.482e-05</td> \n",
       "</tr>\n",
       "<tr>\n",
       "  <th>Time:</th>                <td>20:42:30</td>     <th>  Log-Likelihood:    </th> <td>-1.0639e+05</td>\n",
       "</tr>\n",
       "<tr>\n",
       "  <th>converged:</th>             <td>True</td>       <th>  LL-Null:           </th> <td>-1.0639e+05</td>\n",
       "</tr>\n",
       "<tr>\n",
       "  <th>Covariance Type:</th>     <td>nonrobust</td>    <th>  LLR p-value:       </th>   <td>0.1920</td>   \n",
       "</tr>\n",
       "</table>\n",
       "<table class=\"simpletable\">\n",
       "<tr>\n",
       "       <td></td>         <th>coef</th>     <th>std err</th>      <th>z</th>      <th>P>|z|</th>  <th>[0.025</th>    <th>0.975]</th>  \n",
       "</tr>\n",
       "<tr>\n",
       "  <th>intercept</th>  <td>   -2.0040</td> <td>    0.036</td> <td>  -55.008</td> <td> 0.000</td> <td>   -2.075</td> <td>   -1.933</td>\n",
       "</tr>\n",
       "<tr>\n",
       "  <th>ab_page</th>    <td>   -0.0674</td> <td>    0.052</td> <td>   -1.297</td> <td> 0.195</td> <td>   -0.169</td> <td>    0.034</td>\n",
       "</tr>\n",
       "<tr>\n",
       "  <th>UK_ab_page</th> <td>    0.0783</td> <td>    0.057</td> <td>    1.378</td> <td> 0.168</td> <td>   -0.033</td> <td>    0.190</td>\n",
       "</tr>\n",
       "<tr>\n",
       "  <th>US_ab_page</th> <td>    0.0469</td> <td>    0.054</td> <td>    0.872</td> <td> 0.383</td> <td>   -0.059</td> <td>    0.152</td>\n",
       "</tr>\n",
       "<tr>\n",
       "  <th>UK</th>         <td>    0.0118</td> <td>    0.040</td> <td>    0.296</td> <td> 0.767</td> <td>   -0.066</td> <td>    0.090</td>\n",
       "</tr>\n",
       "<tr>\n",
       "  <th>US</th>         <td>    0.0175</td> <td>    0.038</td> <td>    0.465</td> <td> 0.642</td> <td>   -0.056</td> <td>    0.091</td>\n",
       "</tr>\n",
       "</table>"
      ],
      "text/plain": [
       "<class 'statsmodels.iolib.summary.Summary'>\n",
       "\"\"\"\n",
       "                           Logit Regression Results                           \n",
       "==============================================================================\n",
       "Dep. Variable:              converted   No. Observations:               290584\n",
       "Model:                          Logit   Df Residuals:                   290578\n",
       "Method:                           MLE   Df Model:                            5\n",
       "Date:                Tue, 30 Jun 2020   Pseudo R-squ.:               3.482e-05\n",
       "Time:                        20:42:30   Log-Likelihood:            -1.0639e+05\n",
       "converged:                       True   LL-Null:                   -1.0639e+05\n",
       "Covariance Type:            nonrobust   LLR p-value:                    0.1920\n",
       "==============================================================================\n",
       "                 coef    std err          z      P>|z|      [0.025      0.975]\n",
       "------------------------------------------------------------------------------\n",
       "intercept     -2.0040      0.036    -55.008      0.000      -2.075      -1.933\n",
       "ab_page       -0.0674      0.052     -1.297      0.195      -0.169       0.034\n",
       "UK_ab_page     0.0783      0.057      1.378      0.168      -0.033       0.190\n",
       "US_ab_page     0.0469      0.054      0.872      0.383      -0.059       0.152\n",
       "UK             0.0118      0.040      0.296      0.767      -0.066       0.090\n",
       "US             0.0175      0.038      0.465      0.642      -0.056       0.091\n",
       "==============================================================================\n",
       "\"\"\""
      ]
     },
     "execution_count": 280,
     "metadata": {},
     "output_type": "execute_result"
    }
   ],
   "source": [
    "df_new['UK_ab_page'] = df_new['UK'] * df_new['ab_page']\n",
    "df_new['US_ab_page'] = df_new['US'] * df_new['ab_page']\n",
    "df_new['intercept'] = 1\n",
    "log_mod = sm.Logit(df_new['converted'], df_new[['intercept', 'ab_page', 'UK_ab_page', 'US_ab_page', 'UK', 'US']])\n",
    "result = log_mod.fit()\n",
    "result.summary()"
   ]
  },
  {
   "cell_type": "code",
   "execution_count": 286,
   "metadata": {},
   "outputs": [
    {
     "data": {
      "text/plain": [
       "intercept     0.134794\n",
       "ab_page       0.934776\n",
       "UK_ab_page    1.081428\n",
       "US_ab_page    1.048001\n",
       "UK            1.011854\n",
       "US            1.017682\n",
       "dtype: float64"
      ]
     },
     "execution_count": 286,
     "metadata": {},
     "output_type": "execute_result"
    }
   ],
   "source": [
    "np.exp(result.params)"
   ]
  },
  {
   "cell_type": "code",
   "execution_count": 2,
   "metadata": {},
   "outputs": [
    {
     "ename": "NameError",
     "evalue": "name 'result' is not defined",
     "output_type": "error",
     "traceback": [
      "\u001b[0;31m---------------------------------------------------------------------------\u001b[0m",
      "\u001b[0;31mNameError\u001b[0m                                 Traceback (most recent call last)",
      "\u001b[0;32m<ipython-input-2-68b0b30026d9>\u001b[0m in \u001b[0;36m<module>\u001b[0;34m\u001b[0m\n\u001b[0;32m----> 1\u001b[0;31m \u001b[0my\u001b[0m \u001b[0;34m=\u001b[0m \u001b[0mresult\u001b[0m\u001b[0;34m.\u001b[0m\u001b[0mparams\u001b[0m\u001b[0;34m\u001b[0m\u001b[0;34m\u001b[0m\u001b[0m\n\u001b[0m\u001b[1;32m      2\u001b[0m \u001b[0mplt\u001b[0m\u001b[0;34m.\u001b[0m\u001b[0mplot\u001b[0m\u001b[0;34m(\u001b[0m\u001b[0mresult\u001b[0m\u001b[0;34m.\u001b[0m\u001b[0mparams\u001b[0m\u001b[0;34m,\u001b[0m \u001b[0my\u001b[0m\u001b[0;34m,\u001b[0m \u001b[0mcolor\u001b[0m \u001b[0;34m=\u001b[0m \u001b[0;34m'blue'\u001b[0m\u001b[0;34m,\u001b[0m \u001b[0mmarker\u001b[0m \u001b[0;34m=\u001b[0m \u001b[0;34m''\u001b[0m\u001b[0;34m)\u001b[0m\u001b[0;34m\u001b[0m\u001b[0;34m\u001b[0m\u001b[0m\n\u001b[1;32m      3\u001b[0m \u001b[0mplt\u001b[0m\u001b[0;34m.\u001b[0m\u001b[0mshow\u001b[0m\u001b[0;34m(\u001b[0m\u001b[0;34m)\u001b[0m\u001b[0;34m\u001b[0m\u001b[0;34m\u001b[0m\u001b[0m\n\u001b[1;32m      4\u001b[0m \u001b[0;34m\u001b[0m\u001b[0m\n\u001b[1;32m      5\u001b[0m \u001b[0mplt\u001b[0m\u001b[0;34m.\u001b[0m\u001b[0mplot\u001b[0m\u001b[0;34m(\u001b[0m\u001b[0mnp\u001b[0m\u001b[0;34m.\u001b[0m\u001b[0mexp\u001b[0m\u001b[0;34m(\u001b[0m\u001b[0mresult\u001b[0m\u001b[0;34m.\u001b[0m\u001b[0mparams\u001b[0m\u001b[0;34m)\u001b[0m\u001b[0;34m,\u001b[0m \u001b[0my\u001b[0m\u001b[0;34m,\u001b[0m \u001b[0mcolor\u001b[0m \u001b[0;34m=\u001b[0m \u001b[0;34m'red'\u001b[0m\u001b[0;34m,\u001b[0m \u001b[0mmarker\u001b[0m \u001b[0;34m=\u001b[0m \u001b[0;34m'o'\u001b[0m\u001b[0;34m)\u001b[0m\u001b[0;34m\u001b[0m\u001b[0;34m\u001b[0m\u001b[0m\n",
      "\u001b[0;31mNameError\u001b[0m: name 'result' is not defined"
     ]
    }
   ],
   "source": [
    "y = result.params\n",
    "plt.plot(result.params, y, color = 'blue', marker = '')\n",
    "plt.show()\n",
    "\n",
    "plt.plot(np.exp(result.params), y, color = 'red', marker = 'o')\n",
    "plt.title(\"numpy.exp()\")\n",
    "plt.xlabel(\"X\")\n",
    "plt.ylabel(\"Y\")\n",
    "plt.show()"
   ]
  },
  {
   "cell_type": "markdown",
   "metadata": {},
   "source": [
    "**P-value less than 0.05 sugeest that county varlable are statlclly signlflcant in relating to the page conveslon. Other varable in the summary are not statistically signlflcant. By holding all other varible remaining the same, 1.04 times conversion more likely to happen for UK and new page users. By holding all other varible remaining the same, 1.08 times conversion more likely to happen for US and new page users.**"
   ]
  },
  {
   "cell_type": "markdown",
   "metadata": {},
   "source": [
    "### Conclusions\n",
    "**The evidence is not sufficient to determine that the new page is better than the old page and they should stay with old page.**"
   ]
  },
  {
   "cell_type": "markdown",
   "metadata": {},
   "source": [
    "<a id='conclusions'></a>\n",
    "## Conclusions\n",
    "\n",
    "Congratulations on completing the project! \n",
    "\n",
    "### Gather Submission Materials\n",
    "\n",
    "Once you are satisfied with the status of your Notebook, you should save it in a format that will make it easy for others to read. You can use the __File -> Download as -> HTML (.html)__ menu to save your notebook as an .html file. If you are working locally and get an error about \"No module name\", then open a terminal and try installing the missing module using `pip install <module_name>` (don't include the \"<\" or \">\" or any words following a period in the module name).\n",
    "\n",
    "You will submit both your original Notebook and an HTML or PDF copy of the Notebook for review. There is no need for you to include any data files with your submission. If you made reference to other websites, books, and other resources to help you in solving tasks in the project, make sure that you document them. It is recommended that you either add a \"Resources\" section in a Markdown cell at the end of the Notebook report, or you can include a `readme.txt` file documenting your sources.\n",
    "\n",
    "### Submit the Project\n",
    "\n",
    "When you're ready, click on the \"Submit Project\" button to go to the project submission page. You can submit your files as a .zip archive or you can link to a GitHub repository containing your project files. If you go with GitHub, note that your submission will be a snapshot of the linked repository at time of submission. It is recommended that you keep each project in a separate repository to avoid any potential confusion: if a reviewer gets multiple folders representing multiple projects, there might be confusion regarding what project is to be evaluated.\n",
    "\n",
    "It can take us up to a week to grade the project, but in most cases it is much faster. You will get an email once your submission has been reviewed. If you are having any problems submitting your project or wish to check on the status of your submission, please email us at dataanalyst-project@udacity.com. In the meantime, you should feel free to continue on with your learning journey by beginning the next module in the program."
   ]
  }
 ],
 "metadata": {
  "kernelspec": {
   "display_name": "Python 3",
   "language": "python",
   "name": "python3"
  },
  "language_info": {
   "codemirror_mode": {
    "name": "ipython",
    "version": 3
   },
   "file_extension": ".py",
   "mimetype": "text/x-python",
   "name": "python",
   "nbconvert_exporter": "python",
   "pygments_lexer": "ipython3",
   "version": "3.6.8"
  }
 },
 "nbformat": 4,
 "nbformat_minor": 2
}
