{
 "cells": [
  {
   "cell_type": "markdown",
   "metadata": {},
   "source": [
    "## Analyze A/B Test Results\n",
    "\n",
    "This project will assure you have mastered the subjects covered in the statistics lessons.  The hope is to have this project be as comprehensive of these topics as possible.  Good luck!\n",
    "\n",
    "## Table of Contents\n",
    "- [Introduction](#intro)\n",
    "- [Part I - Probability](#probability)\n",
    "- [Part II - A/B Test](#ab_test)\n",
    "- [Part III - Regression](#regression)\n",
    "\n",
    "\n",
    "<a id='intro'></a>\n",
    "### Introduction\n",
    "\n",
    "A/B tests are very commonly performed by data analysts and data scientists.  It is important that you get some practice working with the difficulties of these \n",
    "\n",
    "For this project, you will be working to understand the results of an A/B test run by an e-commerce website.  Your goal is to work through this notebook to help the company understand if they should implement the new page, keep the old page, or perhaps run the experiment longer to make their decision.\n",
    "\n",
    "**As you work through this notebook, follow along in the classroom and answer the corresponding quiz questions associated with each question.** The labels for each classroom concept are provided for each question.  This will assure you are on the right track as you work through the project, and you can feel more confident in your final submission meeting the criteria.  As a final check, assure you meet all the criteria on the [RUBRIC](https://review.udacity.com/#!/projects/37e27304-ad47-4eb0-a1ab-8c12f60e43d0/rubric).\n",
    "\n",
    "<a id='probability'></a>\n",
    "#### Part I - Probability\n",
    "\n",
    "To get started, let's import our libraries."
   ]
  },
  {
   "cell_type": "code",
   "execution_count": 1,
   "metadata": {},
   "outputs": [],
   "source": [
    "import pandas as pd\n",
    "import numpy as np\n",
    "import random\n",
    "import matplotlib.pyplot as plt\n",
    "%matplotlib inline\n",
    "#We are setting the seed to assure you get the same answers on quizzes as we set up\n",
    "random.seed(42)"
   ]
  },
  {
   "cell_type": "markdown",
   "metadata": {},
   "source": [
    "`1.` Now, read in the `ab_data.csv` data. Store it in `df`.  **Use your dataframe to answer the questions in Quiz 1 of the classroom.**\n",
    "\n",
    "a. Read in the dataset and take a look at the top few rows here:"
   ]
  },
  {
   "cell_type": "code",
   "execution_count": 2,
   "metadata": {},
   "outputs": [
    {
     "name": "stdout",
     "output_type": "stream",
     "text": [
      "   user_id                   timestamp      group landing_page  converted\n",
      "0   851104  2017-01-21 22:11:48.556739    control     old_page          0\n",
      "1   804228  2017-01-12 08:01:45.159739    control     old_page          0\n",
      "2   661590  2017-01-11 16:55:06.154213  treatment     new_page          0\n",
      "3   853541  2017-01-08 18:28:03.143765  treatment     new_page          0\n",
      "4   864975  2017-01-21 01:52:26.210827    control     old_page          1\n",
      "(294478, 5)\n"
     ]
    }
   ],
   "source": [
    "df= pd.read_csv(\"ab_data.csv\")\n",
    "print(df.head())\n",
    "print(df.shape)"
   ]
  },
  {
   "cell_type": "markdown",
   "metadata": {},
   "source": [
    "b. Use the below cell to find the number of rows in the dataset."
   ]
  },
  {
   "cell_type": "code",
   "execution_count": 3,
   "metadata": {},
   "outputs": [
    {
     "data": {
      "text/plain": [
       "294478"
      ]
     },
     "execution_count": 3,
     "metadata": {},
     "output_type": "execute_result"
    }
   ],
   "source": [
    "df.shape[0]"
   ]
  },
  {
   "cell_type": "markdown",
   "metadata": {},
   "source": [
    "c. The number of unique users in the dataset."
   ]
  },
  {
   "cell_type": "code",
   "execution_count": 4,
   "metadata": {},
   "outputs": [
    {
     "data": {
      "text/plain": [
       "290584"
      ]
     },
     "execution_count": 4,
     "metadata": {},
     "output_type": "execute_result"
    }
   ],
   "source": [
    "df.user_id.nunique()"
   ]
  },
  {
   "cell_type": "markdown",
   "metadata": {
    "collapsed": true
   },
   "source": [
    "d. The proportion of users converted."
   ]
  },
  {
   "cell_type": "code",
   "execution_count": 5,
   "metadata": {},
   "outputs": [
    {
     "name": "stdout",
     "output_type": "stream",
     "text": [
      "35237\n",
      "0.11965919355605512\n"
     ]
    }
   ],
   "source": [
    "print(len(df[df['converted']==1]))\n",
    "print(len(df[df['converted']==1])/df.shape[0])"
   ]
  },
  {
   "cell_type": "markdown",
   "metadata": {
    "collapsed": true
   },
   "source": [
    "e. The number of times the `new_page` and `treatment` don't line up."
   ]
  },
  {
   "cell_type": "code",
   "execution_count": 6,
   "metadata": {},
   "outputs": [
    {
     "data": {
      "text/plain": [
       "3893"
      ]
     },
     "execution_count": 6,
     "metadata": {},
     "output_type": "execute_result"
    }
   ],
   "source": [
    "len(df[((df['group'] == 'treatment') == (df['landing_page'] == 'new_page')) == False])"
   ]
  },
  {
   "cell_type": "markdown",
   "metadata": {},
   "source": [
    "f. Do any of the rows have missing values?"
   ]
  },
  {
   "cell_type": "code",
   "execution_count": 7,
   "metadata": {},
   "outputs": [
    {
     "data": {
      "text/plain": [
       "user_id         0.0\n",
       "timestamp       0.0\n",
       "group           0.0\n",
       "landing_page    0.0\n",
       "converted       0.0\n",
       "dtype: float64"
      ]
     },
     "execution_count": 7,
     "metadata": {},
     "output_type": "execute_result"
    }
   ],
   "source": [
    "#df.info()\n",
    "df[df.isnull()].sum()\n",
    "#I Found that there isn't missing values"
   ]
  },
  {
   "cell_type": "markdown",
   "metadata": {},
   "source": [
    "`2.` For the rows where **treatment** is not aligned with **new_page** or **control** is not aligned with **old_page**, we cannot be sure if this row truly received the new or old page.  Use **Quiz 2** in the classroom to provide how we should handle these rows.  \n",
    "\n",
    "a. Now use the answer to the quiz to create a new dataset that meets the specifications from the quiz.  Store your new dataframe in **df2**."
   ]
  },
  {
   "cell_type": "code",
   "execution_count": 8,
   "metadata": {},
   "outputs": [
    {
     "data": {
      "text/html": [
       "<div>\n",
       "<style scoped>\n",
       "    .dataframe tbody tr th:only-of-type {\n",
       "        vertical-align: middle;\n",
       "    }\n",
       "\n",
       "    .dataframe tbody tr th {\n",
       "        vertical-align: top;\n",
       "    }\n",
       "\n",
       "    .dataframe thead th {\n",
       "        text-align: right;\n",
       "    }\n",
       "</style>\n",
       "<table border=\"1\" class=\"dataframe\">\n",
       "  <thead>\n",
       "    <tr style=\"text-align: right;\">\n",
       "      <th></th>\n",
       "      <th>user_id</th>\n",
       "      <th>timestamp</th>\n",
       "      <th>group</th>\n",
       "      <th>landing_page</th>\n",
       "      <th>converted</th>\n",
       "    </tr>\n",
       "  </thead>\n",
       "  <tbody>\n",
       "    <tr>\n",
       "      <th>0</th>\n",
       "      <td>851104</td>\n",
       "      <td>2017-01-21 22:11:48.556739</td>\n",
       "      <td>control</td>\n",
       "      <td>old_page</td>\n",
       "      <td>0</td>\n",
       "    </tr>\n",
       "    <tr>\n",
       "      <th>1</th>\n",
       "      <td>804228</td>\n",
       "      <td>2017-01-12 08:01:45.159739</td>\n",
       "      <td>control</td>\n",
       "      <td>old_page</td>\n",
       "      <td>0</td>\n",
       "    </tr>\n",
       "    <tr>\n",
       "      <th>2</th>\n",
       "      <td>661590</td>\n",
       "      <td>2017-01-11 16:55:06.154213</td>\n",
       "      <td>treatment</td>\n",
       "      <td>new_page</td>\n",
       "      <td>0</td>\n",
       "    </tr>\n",
       "    <tr>\n",
       "      <th>3</th>\n",
       "      <td>853541</td>\n",
       "      <td>2017-01-08 18:28:03.143765</td>\n",
       "      <td>treatment</td>\n",
       "      <td>new_page</td>\n",
       "      <td>0</td>\n",
       "    </tr>\n",
       "    <tr>\n",
       "      <th>4</th>\n",
       "      <td>864975</td>\n",
       "      <td>2017-01-21 01:52:26.210827</td>\n",
       "      <td>control</td>\n",
       "      <td>old_page</td>\n",
       "      <td>1</td>\n",
       "    </tr>\n",
       "  </tbody>\n",
       "</table>\n",
       "</div>"
      ],
      "text/plain": [
       "   user_id                   timestamp      group landing_page  converted\n",
       "0   851104  2017-01-21 22:11:48.556739    control     old_page          0\n",
       "1   804228  2017-01-12 08:01:45.159739    control     old_page          0\n",
       "2   661590  2017-01-11 16:55:06.154213  treatment     new_page          0\n",
       "3   853541  2017-01-08 18:28:03.143765  treatment     new_page          0\n",
       "4   864975  2017-01-21 01:52:26.210827    control     old_page          1"
      ]
     },
     "execution_count": 8,
     "metadata": {},
     "output_type": "execute_result"
    }
   ],
   "source": [
    "df2 = df.copy()\n",
    "df2 = df2[((df2['group']== 'treatment') == (df2['landing_page']== 'new_page')) | \\\n",
    "         ((df2['group']== 'control') == (df2['landing_page']== 'old_page')) != False]\n",
    "#df2 = df[((df['group']== 'treatment') == (df['landing_page']== 'new_page')) | \\\n",
    "         #((df['group']== 'control') == (df['landing_page']== 'old_page')) != False]\n",
    "df2.head()"
   ]
  },
  {
   "cell_type": "code",
   "execution_count": 9,
   "metadata": {},
   "outputs": [
    {
     "data": {
      "text/plain": [
       "0"
      ]
     },
     "execution_count": 9,
     "metadata": {},
     "output_type": "execute_result"
    }
   ],
   "source": [
    "# Double Check all of the correct rows were removed - this should be 0\n",
    "df2[((df2['group'] == 'treatment') == (df2['landing_page'] == 'new_page')) == False].shape[0]"
   ]
  },
  {
   "cell_type": "markdown",
   "metadata": {},
   "source": [
    "`3.` Use **df2** and the cells below to answer questions for **Quiz3** in the classroom."
   ]
  },
  {
   "cell_type": "markdown",
   "metadata": {},
   "source": [
    "a. How many unique **user_id**s are in **df2**?"
   ]
  },
  {
   "cell_type": "code",
   "execution_count": 10,
   "metadata": {},
   "outputs": [
    {
     "data": {
      "text/plain": [
       "290584"
      ]
     },
     "execution_count": 10,
     "metadata": {},
     "output_type": "execute_result"
    }
   ],
   "source": [
    "df2.user_id.nunique()"
   ]
  },
  {
   "cell_type": "markdown",
   "metadata": {
    "collapsed": true
   },
   "source": [
    "b. There is one **user_id** repeated in **df2**.  What is it?"
   ]
  },
  {
   "cell_type": "code",
   "execution_count": 11,
   "metadata": {},
   "outputs": [
    {
     "name": "stdout",
     "output_type": "stream",
     "text": [
      "1\n",
      "773192\n"
     ]
    }
   ],
   "source": [
    "print(sum(df2['user_id'].duplicated()))\n",
    "#there is one duplicate\n",
    "print(df2[df2['user_id'].duplicated()].user_id.iloc[0])"
   ]
  },
  {
   "cell_type": "markdown",
   "metadata": {},
   "source": [
    "c. What is the row information for the repeat **user_id**? "
   ]
  },
  {
   "cell_type": "code",
   "execution_count": 12,
   "metadata": {},
   "outputs": [
    {
     "data": {
      "text/html": [
       "<div>\n",
       "<style scoped>\n",
       "    .dataframe tbody tr th:only-of-type {\n",
       "        vertical-align: middle;\n",
       "    }\n",
       "\n",
       "    .dataframe tbody tr th {\n",
       "        vertical-align: top;\n",
       "    }\n",
       "\n",
       "    .dataframe thead th {\n",
       "        text-align: right;\n",
       "    }\n",
       "</style>\n",
       "<table border=\"1\" class=\"dataframe\">\n",
       "  <thead>\n",
       "    <tr style=\"text-align: right;\">\n",
       "      <th></th>\n",
       "      <th>user_id</th>\n",
       "      <th>timestamp</th>\n",
       "      <th>group</th>\n",
       "      <th>landing_page</th>\n",
       "      <th>converted</th>\n",
       "    </tr>\n",
       "  </thead>\n",
       "  <tbody>\n",
       "    <tr>\n",
       "      <th>1899</th>\n",
       "      <td>773192</td>\n",
       "      <td>2017-01-09 05:37:58.781806</td>\n",
       "      <td>treatment</td>\n",
       "      <td>new_page</td>\n",
       "      <td>0</td>\n",
       "    </tr>\n",
       "    <tr>\n",
       "      <th>2893</th>\n",
       "      <td>773192</td>\n",
       "      <td>2017-01-14 02:55:59.590927</td>\n",
       "      <td>treatment</td>\n",
       "      <td>new_page</td>\n",
       "      <td>0</td>\n",
       "    </tr>\n",
       "  </tbody>\n",
       "</table>\n",
       "</div>"
      ],
      "text/plain": [
       "      user_id                   timestamp      group landing_page  converted\n",
       "1899   773192  2017-01-09 05:37:58.781806  treatment     new_page          0\n",
       "2893   773192  2017-01-14 02:55:59.590927  treatment     new_page          0"
      ]
     },
     "execution_count": 12,
     "metadata": {},
     "output_type": "execute_result"
    }
   ],
   "source": [
    "df2[df2['user_id']== 773192]"
   ]
  },
  {
   "cell_type": "markdown",
   "metadata": {},
   "source": [
    "d. Remove **one** of the rows with a duplicate **user_id**, but keep your dataframe as **df2**."
   ]
  },
  {
   "cell_type": "code",
   "execution_count": 13,
   "metadata": {},
   "outputs": [
    {
     "name": "stdout",
     "output_type": "stream",
     "text": [
      "      user_id                   timestamp      group landing_page  converted\n",
      "2893   773192  2017-01-14 02:55:59.590927  treatment     new_page          0\n",
      "0\n"
     ]
    }
   ],
   "source": [
    "df2.drop(1899, inplace=True)\n",
    "print(df2[df2.user_id == 773192])\n",
    "print(sum(df2.duplicated()))"
   ]
  },
  {
   "cell_type": "markdown",
   "metadata": {},
   "source": [
    "`4.` Use **df2** in the below cells to answer the quiz questions related to **Quiz 4** in the classroom.\n",
    "\n",
    "a. What is the probability of an individual converting regardless of the page they receive?"
   ]
  },
  {
   "cell_type": "code",
   "execution_count": 14,
   "metadata": {},
   "outputs": [
    {
     "data": {
      "text/plain": [
       "0.11959708724499628"
      ]
     },
     "execution_count": 14,
     "metadata": {},
     "output_type": "execute_result"
    }
   ],
   "source": [
    "df2['converted'].mean()"
   ]
  },
  {
   "cell_type": "markdown",
   "metadata": {},
   "source": [
    "b. Given that an individual was in the `control` group, what is the probability they converted?"
   ]
  },
  {
   "cell_type": "code",
   "execution_count": 15,
   "metadata": {},
   "outputs": [
    {
     "data": {
      "text/plain": [
       "0.1203863045004612"
      ]
     },
     "execution_count": 15,
     "metadata": {},
     "output_type": "execute_result"
    }
   ],
   "source": [
    "control_rate= (df2.query('group==\"control\"')['converted']==1).mean()\n",
    "control_rate"
   ]
  },
  {
   "cell_type": "markdown",
   "metadata": {},
   "source": [
    "c. Given that an individual was in the `treatment` group, what is the probability they converted?"
   ]
  },
  {
   "cell_type": "code",
   "execution_count": 16,
   "metadata": {},
   "outputs": [
    {
     "data": {
      "text/plain": [
       "0.11880806551510564"
      ]
     },
     "execution_count": 16,
     "metadata": {},
     "output_type": "execute_result"
    }
   ],
   "source": [
    "treatment_rate= (df2.query('group==\"treatment\"')['converted']==1).mean()\n",
    "treatment_rate"
   ]
  },
  {
   "cell_type": "markdown",
   "metadata": {},
   "source": [
    "d. What is the probability that an individual received the new page?"
   ]
  },
  {
   "cell_type": "code",
   "execution_count": 17,
   "metadata": {},
   "outputs": [
    {
     "data": {
      "text/plain": [
       "0.5000619442226688"
      ]
     },
     "execution_count": 17,
     "metadata": {},
     "output_type": "execute_result"
    }
   ],
   "source": [
    "(df2['landing_page'] == \"new_page\").mean()"
   ]
  },
  {
   "cell_type": "markdown",
   "metadata": {},
   "source": [
    "e. Consider your results from a. through d. above, and explain below whether you think there is sufficient evidence to say that the new treatment page leads to more conversions."
   ]
  },
  {
   "cell_type": "markdown",
   "metadata": {},
   "source": [
    "**The difference between converted rate of control and converted rate of treatment groups is very small and near to each other. So that, the evidence is not sufficient to determine certain group is better than the other one. There is a need for some other statistics.**"
   ]
  },
  {
   "cell_type": "markdown",
   "metadata": {},
   "source": [
    "<a id='ab_test'></a>\n",
    "### Part II - A/B Test\n",
    "\n",
    "Notice that because of the time stamp associated with each event, you could technically run a hypothesis test continuously as each observation was observed.  \n",
    "\n",
    "However, then the hard question is do you stop as soon as one page is considered significantly better than another or does it need to happen consistently for a certain amount of time?  How long do you run to render a decision that neither page is better than another?  \n",
    "\n",
    "These questions are the difficult parts associated with A/B tests in general.  \n",
    "\n",
    "\n",
    "`1.` For now, consider you need to make the decision just based on all the data provided.  If you want to assume that the old page is better unless the new page proves to be definitely better at a Type I error rate of 5%, what should your null and alternative hypotheses be?  You can state your hypothesis in terms of words or in terms of **$p_{old}$** and **$p_{new}$**, which are the converted rates for the old and new pages."
   ]
  },
  {
   "cell_type": "markdown",
   "metadata": {},
   "source": [
    "$null:  p_{old}  -  p_{new}  >=0$\n",
    "\n",
    "$alternative:  p_{old}  -  p_{new}  <0$"
   ]
  },
  {
   "cell_type": "markdown",
   "metadata": {},
   "source": [
    "`2.` Assume under the null hypothesis, $p_{new}$ and $p_{old}$ both have \"true\" success rates equal to the **converted** success rate regardless of page - that is $p_{new}$ and $p_{old}$ are equal. Furthermore, assume they are equal to the **converted** rate in **ab_data.csv** regardless of the page. <br><br>\n",
    "\n",
    "Use a sample size for each page equal to the ones in **ab_data.csv**.  <br><br>\n",
    "\n",
    "Perform the sampling distribution for the difference in **converted** between the two pages over 10,000 iterations of calculating an estimate from the null.  <br><br>\n",
    "\n",
    "Use the cells below to provide the necessary parts of this simulation.  If this doesn't make complete sense right now, don't worry - you are going to work through the problems below to complete this problem.  You can use **Quiz 5** in the classroom to make sure you are on the right track.<br><br>"
   ]
  },
  {
   "cell_type": "markdown",
   "metadata": {},
   "source": [
    "a. What is the **convert rate** for $p_{new}$ under the null? "
   ]
  },
  {
   "cell_type": "code",
   "execution_count": 18,
   "metadata": {},
   "outputs": [
    {
     "data": {
      "text/plain": [
       "0.11959708724499628"
      ]
     },
     "execution_count": 18,
     "metadata": {},
     "output_type": "execute_result"
    }
   ],
   "source": [
    "pnew= df2['converted'].mean()\n",
    "pnew"
   ]
  },
  {
   "cell_type": "markdown",
   "metadata": {},
   "source": [
    "b. What is the **convert rate** for $p_{old}$ under the null? <br><br>"
   ]
  },
  {
   "cell_type": "code",
   "execution_count": 19,
   "metadata": {},
   "outputs": [
    {
     "data": {
      "text/plain": [
       "0.11959708724499628"
      ]
     },
     "execution_count": 19,
     "metadata": {},
     "output_type": "execute_result"
    }
   ],
   "source": [
    "pold= df2['converted'].mean()\n",
    "pold"
   ]
  },
  {
   "cell_type": "markdown",
   "metadata": {},
   "source": [
    "c. What is $n_{new}$?"
   ]
  },
  {
   "cell_type": "code",
   "execution_count": 20,
   "metadata": {},
   "outputs": [
    {
     "data": {
      "text/plain": [
       "145310"
      ]
     },
     "execution_count": 20,
     "metadata": {},
     "output_type": "execute_result"
    }
   ],
   "source": [
    "nnew= (df2['landing_page']=='new_page').sum()\n",
    "nnew"
   ]
  },
  {
   "cell_type": "markdown",
   "metadata": {},
   "source": [
    "d. What is $n_{old}$?"
   ]
  },
  {
   "cell_type": "code",
   "execution_count": 21,
   "metadata": {},
   "outputs": [
    {
     "data": {
      "text/plain": [
       "145274"
      ]
     },
     "execution_count": 21,
     "metadata": {},
     "output_type": "execute_result"
    }
   ],
   "source": [
    "nold= (df2['landing_page']=='old_page').sum()\n",
    "nold"
   ]
  },
  {
   "cell_type": "markdown",
   "metadata": {},
   "source": [
    "e. Simulate $n_{new}$ transactions with a convert rate of $p_{new}$ under the null.  Store these $n_{new}$ 1's and 0's in **new_page_converted**."
   ]
  },
  {
   "cell_type": "code",
   "execution_count": 22,
   "metadata": {},
   "outputs": [
    {
     "data": {
      "text/plain": [
       "0.11858784667263093"
      ]
     },
     "execution_count": 22,
     "metadata": {},
     "output_type": "execute_result"
    }
   ],
   "source": [
    "new_page_converted = np.random.choice([0, 1], size=nnew, p=[(1 - pnew), pnew])\n",
    "new_page_converted.mean()"
   ]
  },
  {
   "cell_type": "markdown",
   "metadata": {},
   "source": [
    "f. Simulate $n_{old}$ transactions with a convert rate of $p_{old}$ under the null.  Store these $n_{old}$ 1's and 0's in **old_page_converted**."
   ]
  },
  {
   "cell_type": "code",
   "execution_count": 23,
   "metadata": {},
   "outputs": [
    {
     "data": {
      "text/plain": [
       "0.11953274501975578"
      ]
     },
     "execution_count": 23,
     "metadata": {},
     "output_type": "execute_result"
    }
   ],
   "source": [
    "old_page_converted = np.random.choice([0, 1], size=nold, p=[(1 - pold), pold])\n",
    "old_page_converted.mean()"
   ]
  },
  {
   "cell_type": "markdown",
   "metadata": {},
   "source": [
    "g. Find $p_{new}$ - $p_{old}$ for your simulated values from part (e) and (f)."
   ]
  },
  {
   "cell_type": "code",
   "execution_count": 24,
   "metadata": {},
   "outputs": [
    {
     "data": {
      "text/plain": [
       "-0.0009448983471248423"
      ]
     },
     "execution_count": 24,
     "metadata": {},
     "output_type": "execute_result"
    }
   ],
   "source": [
    "new_page_converted.mean() - old_page_converted.mean()"
   ]
  },
  {
   "cell_type": "markdown",
   "metadata": {},
   "source": [
    "h. Simulate 10,000 $p_{new}$ - $p_{old}$ values using this same process similarly to the one you calculated in parts **a. through g.** above.  Store all 10,000 values in a numpy array called **p_diffs**."
   ]
  },
  {
   "cell_type": "code",
   "execution_count": 25,
   "metadata": {},
   "outputs": [
    {
     "data": {
      "text/plain": [
       "[-0.00029819138289277625,\n",
       " 0.0017047767278454556,\n",
       " 0.0011885620740597347,\n",
       " -0.0013581446350297427,\n",
       " -0.00012586061510166946,\n",
       " -3.6478568197648165e-05,\n",
       " 0.0008030938311338748,\n",
       " 0.0018702410051563562,\n",
       " -0.002163118543943396,\n",
       " -0.00048373669858589596,\n",
       " 0.0009614784464767184,\n",
       " 0.0014225821123709653,\n",
       " -0.0006628452775182814,\n",
       " -0.0006215661821575985,\n",
       " 0.0014092106702539159,\n",
       " 0.0019112711162192625,\n",
       " 0.0016155498697845716,\n",
       " 0.0004935151115898762,\n",
       " 6.662622743539015e-05,\n",
       " 0.00022507905765435654,\n",
       " -0.00020183199633486137,\n",
       " 0.0005209094478907939,\n",
       " -0.0019086405800594342,\n",
       " 0.0034943924865891984,\n",
       " 0.0011610347187503978,\n",
       " -0.001323493278082885,\n",
       " 0.001704642003465151,\n",
       " 0.0005420068879270074,\n",
       " 0.00012180031408726144,\n",
       " 0.0008032933596464759,\n",
       " 0.0010783622681115462,\n",
       " -0.0005526505876857907,\n",
       " 0.00046593659512345065,\n",
       " -0.002053089275185452,\n",
       " -0.0008901267282419995,\n",
       " -0.0023763293500699695,\n",
       " -0.0008417543279380518,\n",
       " -0.0018948325627353019,\n",
       " -0.0012409811324028824,\n",
       " -0.0008348827213421339,\n",
       " -0.0003186953535068565,\n",
       " 0.001746328682710574,\n",
       " 0.0007894375919090535,\n",
       " 0.0004177893039106484,\n",
       " 0.0008858890685497223,\n",
       " 0.0008996271656258464,\n",
       " 0.0016157033532558096,\n",
       " -0.00038075639510175285,\n",
       " 0.0007414676593741343,\n",
       " -0.0006283798061088308,\n",
       " -0.0009312915636852243,\n",
       " -0.0012339492208481295,\n",
       " 0.0005621731949043696,\n",
       " -0.001950173775833619,\n",
       " 0.0005416419383398458,\n",
       " 0.0015944421975169626,\n",
       " 0.0028543729487875563,\n",
       " 0.0013398550898312406,\n",
       " -2.586101747470426e-06,\n",
       " 0.00214483752560439,\n",
       " -0.0032506622501500965,\n",
       " 0.000713408228031176,\n",
       " 5.2843790689788284e-05,\n",
       " -0.00023599220617376293,\n",
       " 0.0033705040393500474,\n",
       " 0.00030076564177981824,\n",
       " -0.0004080876326423011,\n",
       " -0.0008626812307839932,\n",
       " 0.0005003321462848931,\n",
       " 0.0001425805549495618,\n",
       " 0.0024136794580527504,\n",
       " -0.001344149026796318,\n",
       " 0.00023862444770549052,\n",
       " -0.0026177019098536786,\n",
       " 0.0011473358452280397,\n",
       " -5.019620081093967e-05,\n",
       " -0.0010276662985902463,\n",
       " 0.0005001377338880036,\n",
       " -0.0006562107176168314,\n",
       " -0.0017982702369209874,\n",
       " -0.0011239353004373065,\n",
       " 0.0008512956942475641,\n",
       " -0.0008830931113153334,\n",
       " -0.00013297267913585376,\n",
       " -0.000862418603510981,\n",
       " -0.0008485048531288869,\n",
       " 0.0013261988506064332,\n",
       " 1.1644847808522929e-05,\n",
       " -0.002156368018752561,\n",
       " -0.0005251999741120728,\n",
       " 0.002296882610384951,\n",
       " 0.0016564793639052278,\n",
       " 0.0010372912281229746,\n",
       " -0.0003122176878204569,\n",
       " -0.00035327337946189363,\n",
       " -5.060549006757897e-05,\n",
       " -0.0006076763069821217,\n",
       " 0.00017000388257283616,\n",
       " 0.000314623114889126,\n",
       " 0.00034227325697544497,\n",
       " -0.0008347889258874946,\n",
       " 0.0007067839003611354,\n",
       " -0.0007452636277436447,\n",
       " -0.0017225052056879936,\n",
       " 0.0007825301725031958,\n",
       " 0.0020901767558952206,\n",
       " 0.0007546498052100059,\n",
       " -0.0010827687596221963,\n",
       " -0.0011101886765016722,\n",
       " 0.0016430567606310897,\n",
       " -0.001509186961131559,\n",
       " 0.0015879440673677164,\n",
       " -0.0013514026366984316,\n",
       " -0.001309855797949025,\n",
       " 0.0014503959701599595,\n",
       " -7.760759083089153e-05,\n",
       " 0.00232399726569385,\n",
       " 0.0003902687700889085,\n",
       " 0.001429484415661153,\n",
       " -0.00047005487878255814,\n",
       " 0.0002662370716099427,\n",
       " -0.001144495548324187,\n",
       " -9.843558210648196e-05,\n",
       " 0.0007341543614554358,\n",
       " -0.0008348179172098374,\n",
       " -0.0014885960165504225,\n",
       " 0.0008101683769861923,\n",
       " 0.0020902006311018656,\n",
       " -0.00022259177273434294,\n",
       " -0.00014672782993102595,\n",
       " -0.001075948314183367,\n",
       " -0.0001330067865739082,\n",
       " -0.0005391529480479329,\n",
       " -0.0005665728649274226,\n",
       " 0.0007756108154940017,\n",
       " 0.00039709603701537644,\n",
       " -0.001337285947059924,\n",
       " -0.0011443710561752918,\n",
       " 2.5384650256560226e-05,\n",
       " 0.002000746958577937,\n",
       " -0.0021565726633808735,\n",
       " 0.002613399446029077,\n",
       " 0.0018838682530588208,\n",
       " -0.0013304672069929663,\n",
       " -0.00126177160549662,\n",
       " 5.3041613830503986e-05,\n",
       " 0.0007276016594053025,\n",
       " -0.0012616778100419668,\n",
       " 0.00016980435406023509,\n",
       " 0.00017678169371411478,\n",
       " 0.00010111898479528425,\n",
       " 0.00045192052242719327,\n",
       " -0.0014062816940111356,\n",
       " 0.0009136688189006342,\n",
       " -0.0005733660244158084,\n",
       " -0.0012618995083893136,\n",
       " -0.0004290025978849199,\n",
       " 0.00027998199017369163,\n",
       " -0.0014817840979711033,\n",
       " 0.0005830028915518592,\n",
       " 0.0005965994427600679,\n",
       " 0.0004659280682639405,\n",
       " 0.001718762103847471,\n",
       " 0.0004519614513528586,\n",
       " 0.0019388769186361177,\n",
       " 0.0006378666005174422,\n",
       " -0.00040131323224483484,\n",
       " -0.0003944791438307699,\n",
       " 0.0005142288429479808,\n",
       " -0.00029812487338856664,\n",
       " 0.0007962972609016628,\n",
       " 0.000617255191473487,\n",
       " 0.00024545000926003147,\n",
       " -0.001592178316316209,\n",
       " 0.0006238334741021506,\n",
       " 0.0010096001571109903,\n",
       " 0.0010991118122796184,\n",
       " 0.0021520587334403485,\n",
       " 0.0012022780013011408,\n",
       " 0.0008998352209979715,\n",
       " 0.0007274260060993326,\n",
       " 0.0007552228101692926,\n",
       " 0.0009612959716831376,\n",
       " -0.0009244796451058912,\n",
       " -0.0006904527853070497,\n",
       " -0.0010550896262135206,\n",
       " -0.0003392402530466021,\n",
       " -0.001392518016356467,\n",
       " 0.0010578258954313108,\n",
       " 0.0009957955505306565,\n",
       " -0.0003669125649676669,\n",
       " 0.0006034829869593084,\n",
       " -0.0013511178395906875,\n",
       " 0.0015122796530770005,\n",
       " 0.0003077259277146638,\n",
       " -0.0002294514417269522,\n",
       " 0.0002041368064612803,\n",
       " -0.0010276373072679035,\n",
       " -0.0007730877177640483,\n",
       " 0.001037356032255285,\n",
       " 0.0014086240223194074,\n",
       " 6.007523075717003e-05,\n",
       " 0.0006034591117526772,\n",
       " 0.0010924619040310335,\n",
       " 0.00039029093992365427,\n",
       " 0.0013813746426301898,\n",
       " -0.0009039739691198978,\n",
       " -0.0001742995249098267,\n",
       " -0.0008007634404289116,\n",
       " -0.00039413465870642705,\n",
       " 0.0013879529252588535,\n",
       " -0.0011583359677144744,\n",
       " 5.982965720317812e-05,\n",
       " -0.0007039521303167928,\n",
       " -0.0006973039274401349,\n",
       " 0.000782339170850091,\n",
       " -0.0019361696407406842,\n",
       " 0.00013554011653528486,\n",
       " -0.0011653678792692412,\n",
       " 0.00011488095707805346,\n",
       " -0.0011032283905668128,\n",
       " -1.5930257914090196e-05,\n",
       " 0.00041759489151374507,\n",
       " 0.0018287743188863809,\n",
       " -0.0010069372188850068,\n",
       " -0.001213733458085578,\n",
       " 0.002269408121604602,\n",
       " 0.0005694540907569129,\n",
       " -0.00033942443321209603,\n",
       " -0.00042870927391766567,\n",
       " -2.285814178279444e-05,\n",
       " 0.0006727447719273305,\n",
       " 0.0007478754048125397,\n",
       " 0.000761860780814555,\n",
       " -0.0011858206887262468,\n",
       " 0.0006172210840354325,\n",
       " 0.0008167978207719445,\n",
       " -0.00018113190795197853,\n",
       " -0.00020179447815300844,\n",
       " 0.001663576079592291,\n",
       " -5.7197415671450536e-05,\n",
       " 0.0020556379534939495,\n",
       " -9.884998747883289e-05,\n",
       " 0.0001699731858785941,\n",
       " -0.0003393800935426322,\n",
       " 0.00033513902310652877,\n",
       " -0.0003942932582933767,\n",
       " -0.002300745088258657,\n",
       " -0.0011515342813665647,\n",
       " -0.00011208670521557773,\n",
       " 0.0014227697032802716,\n",
       " 0.0005344224358757727,\n",
       " 0.0004521183455678951,\n",
       " -0.00029813340024809065,\n",
       " -5.700982476217198e-05,\n",
       " -0.00215644476048818,\n",
       " -2.222857532208078e-06,\n",
       " -3.658941737130772e-05,\n",
       " 0.0019111108112604136,\n",
       " 0.0014568599928711512,\n",
       " 0.00017009085653987843,\n",
       " -0.000992904092469729,\n",
       " -0.0007590784665553879,\n",
       " -0.0004977766464887984,\n",
       " 0.0026683501289616884,\n",
       " -0.0005389039637501564,\n",
       " 0.0009479432886570077,\n",
       " 0.001628830927190808,\n",
       " -0.0005388749724278136,\n",
       " 0.0013468324294851203,\n",
       " 0.0016567846254757906,\n",
       " 0.0012092843322773633,\n",
       " -0.002156521502223785,\n",
       " 0.001587817869846922,\n",
       " 0.0006795583958785628,\n",
       " -0.00013971297209527944,\n",
       " 0.0009683091241469849,\n",
       " -0.0004495406759370546,\n",
       " -0.0004495185061023227,\n",
       " 0.001601479225187441,\n",
       " -0.003884188773918204,\n",
       " 0.0013880995872424945,\n",
       " -0.0006561527349721319,\n",
       " -0.0002014278231939337,\n",
       " -0.0016400680963717107,\n",
       " 0.00024552504562373734,\n",
       " -0.00046304172631872476,\n",
       " -0.001688353522708616,\n",
       " -0.004469100734572171,\n",
       " -0.0004768275738081251,\n",
       " 0.001043997413644332,\n",
       " -0.0024521233726252922,\n",
       " -0.0004631372271452633,\n",
       " -7.759053711188513e-05,\n",
       " -0.0027690494975260577,\n",
       " -0.0007589164562246398,\n",
       " 0.0005760869452864636,\n",
       " -9.163389575858605e-05,\n",
       " -0.0002566820623252225,\n",
       " 0.0004247717596802397,\n",
       " 0.0017048312997463427,\n",
       " -0.0005594590955213113,\n",
       " 0.001677251077908018,\n",
       " -0.0014130509782928902,\n",
       " 0.002028420975870887,\n",
       " 1.1823911858305225e-05,\n",
       " -0.0010208441477795038,\n",
       " -0.0010620584390078902,\n",
       " 0.00032134805950141676,\n",
       " -0.0007934603747416225,\n",
       " -0.0019775544691593427,\n",
       " 0.001298477082900193,\n",
       " -0.0006146468251484044,\n",
       " -0.0009381597595373298,\n",
       " -0.0010206326816635802,\n",
       " -0.001006955977975954,\n",
       " 0.00028694909759616194,\n",
       " 0.00032847888262653446,\n",
       " -0.001117198418221707,\n",
       " -0.002053176249152494,\n",
       " -0.0014474021897848827,\n",
       " -0.0008074048218179725,\n",
       " -0.0024245209809522356,\n",
       " 0.0013952082405328664,\n",
       " 0.0013606046339992989,\n",
       " 0.001394722209540622,\n",
       " 0.0012230463045601325,\n",
       " 0.0002526661009802783,\n",
       " 0.0005828272382458893,\n",
       " 0.0014158503462710775,\n",
       " -0.0008829038150341417,\n",
       " -0.001330496198315309,\n",
       " -0.00011915442958031208,\n",
       " 0.002386285121751805,\n",
       " -0.0011379036227203015,\n",
       " -9.165094947759245e-05,\n",
       " -0.0008004922862963892,\n",
       " -0.000745403468239661,\n",
       " -0.0011240597925862156,\n",
       " -0.0025554259913990324,\n",
       " -0.000903883584409057,\n",
       " -0.00023616956485161822,\n",
       " -0.001971006883224921,\n",
       " -0.0014475624947437177,\n",
       " -0.0011307028793471618,\n",
       " -0.00045644297922721455,\n",
       " 0.0002454721790947634,\n",
       " -2.2740471121523997e-05,\n",
       " -0.00044931215610209685,\n",
       " 0.0005827419696507463,\n",
       " 0.0001559366487194902,\n",
       " 0.0006446972781876947,\n",
       " 0.0005969166419339533,\n",
       " -1.599847279019906e-05,\n",
       " -0.00019502860461505234,\n",
       " -0.0005459358753049093,\n",
       " -0.002472975239107514,\n",
       " 0.00016991179249009614,\n",
       " 0.00012897888762564147,\n",
       " 0.0005621578465572485,\n",
       " -0.0011654224511701144,\n",
       " 0.000617516113374586,\n",
       " -0.0003529152513623429,\n",
       " 0.002028158348597889,\n",
       " 0.0008169564203588942,\n",
       " 0.000534778858603438,\n",
       " -8.436152676553899e-05,\n",
       " 0.0013883417500526601,\n",
       " 0.0011471192629963906,\n",
       " -1.5950722376908977e-05,\n",
       " 0.0010370882888665611,\n",
       " 0.0016427992494737892,\n",
       " 0.0012852795887172003,\n",
       " -0.0010000792552643106,\n",
       " 0.0009612942663112384,\n",
       " 0.000802911356340294,\n",
       " -4.342521115727194e-05,\n",
       " -0.0008210491234394574,\n",
       " 0.0012505531954066368,\n",
       " -0.0005734359446638165,\n",
       " -0.0005320698753360914,\n",
       " 0.000555364687068835,\n",
       " 0.0009061781623040666,\n",
       " -0.001268552827381697,\n",
       " 0.00042459781174616906,\n",
       " 0.00023889048572228733,\n",
       " -0.0009725416677235504,\n",
       " 0.001037110458701293,\n",
       " 0.0004452620873190982,\n",
       " 0.0004593190889410209,\n",
       " 0.001119525398182858,\n",
       " -0.002231843136762085,\n",
       " -0.0007316687819073492,\n",
       " -0.0006422151093833928,\n",
       " 0.002654533584778046,\n",
       " 0.0002937388463407492,\n",
       " -0.0006970719968613648,\n",
       " 0.0017872598822031155,\n",
       " 0.0017600156186296234,\n",
       " 0.00041764946341463216,\n",
       " -0.001784736784473162,\n",
       " 0.000211414291570039,\n",
       " -0.0007110164439377148,\n",
       " 0.0002391121840696342,\n",
       " -0.0023902874401215413,\n",
       " -0.0002290933136273876,\n",
       " 0.0019043807505324112,\n",
       " 0.0004180058861422836,\n",
       " -0.000855546996915077,\n",
       " -0.00022210574174209852,\n",
       " -0.0011101835603859744,\n",
       " -0.0001465828733192981,\n",
       " 0.00010113092239860677,\n",
       " -0.0008349458201025312,\n",
       " 0.0012367093652725508,\n",
       " 0.0015462897901884487,\n",
       " -0.0010622528514047935,\n",
       " 2.5261863479564273e-05,\n",
       " 0.004072668181969816,\n",
       " -2.088133151889604e-06,\n",
       " -0.00039433248184714276,\n",
       " 0.00042445797125015283,\n",
       " 0.002131471199603052,\n",
       " 0.001704786960076879,\n",
       " 0.0014088457206667543,\n",
       " -0.0007455995860084774,\n",
       " 0.00083778611700637,\n",
       " 0.0008996339871134573,\n",
       " -0.001330404108232583,\n",
       " -0.0002979014696693205,\n",
       " -0.00019467559263119938,\n",
       " -0.00024983092019213726,\n",
       " -0.0008969966294660181,\n",
       " 0.001532761453856335,\n",
       " 0.0011610534778413312,\n",
       " 7.353876295697337e-05,\n",
       " 0.0011472369336576749,\n",
       " -0.002025623313264613,\n",
       " 0.0012158114537489523,\n",
       " 0.00035582717388610297,\n",
       " 0.0009821324898182382,\n",
       " -0.0017915214171020516,\n",
       " -0.0011171489624365316,\n",
       " -0.0019908969199540494,\n",
       " -0.0014751000822844779,\n",
       " 0.0006380456645672106,\n",
       " 0.0005140173768320572,\n",
       " -0.00017399426333924994,\n",
       " -0.0003669500831495337,\n",
       " -0.001571360557272028,\n",
       " 0.00029427262774626983,\n",
       " -0.00035292377822185306,\n",
       " -0.0003671240310835905,\n",
       " -0.0004908624055953159,\n",
       " -0.0006423378961603887,\n",
       " 0.00021829783576927941,\n",
       " 5.9889345219776846e-05,\n",
       " 0.0010301893963201997,\n",
       " -0.0005868056814089806,\n",
       " 0.0017805554020536574,\n",
       " 0.0014913152320491924,\n",
       " -0.00031218358038240246,\n",
       " 0.0016977908613320658,\n",
       " 0.0002042800577011089,\n",
       " 0.0001492117041072133,\n",
       " -0.0012343107596914787,\n",
       " 0.00043848939229353123,\n",
       " -0.00024279900863738435,\n",
       " 0.0012850919978079078,\n",
       " -0.00031869023739115876,\n",
       " 8.031827947015124e-05,\n",
       " 0.0005693142502609105,\n",
       " 0.0005551958552504899,\n",
       " 0.0013124778072493293,\n",
       " 0.0003145071495997409,\n",
       " 0.00036962325360691273,\n",
       " 0.00080317909972899,\n",
       " 0.0019112489463845306,\n",
       " 0.00024578085140913863,\n",
       " -0.0008762129778599054,\n",
       " 0.000685856997515194,\n",
       " -0.0018191357463784308,\n",
       " -0.0010206343870354795,\n",
       " 0.00014912473014017102,\n",
       " -0.00041510078510613446,\n",
       " -0.0003668665199263038,\n",
       " 0.0002595411183200086,\n",
       " 0.0012093099128559076,\n",
       " 1.1591981279548969e-05,\n",
       " -0.0004905741977437733,\n",
       " -0.002114589249424398,\n",
       " -0.0009037966104420286,\n",
       " -0.00025681508133362785,\n",
       " -0.000800475232577369,\n",
       " 0.0013261715646559896,\n",
       " -0.0005456613104286023,\n",
       " 0.0012505531954066368,\n",
       " 3.2275015943411534e-05,\n",
       " -0.0008005417420815647,\n",
       " 0.0007552790874420789,\n",
       " 0.00021111244074327462,\n",
       " -0.000752184690124752,\n",
       " -0.0018053737740956477,\n",
       " -0.00040822235702261955,\n",
       " -0.0028651002117695695,\n",
       " -8.480492346023272e-05,\n",
       " -0.000284260578791648,\n",
       " -0.000855630560138293,\n",
       " 0.0010095950409952786,\n",
       " -0.0005732602913578466,\n",
       " 0.0009341335659609623,\n",
       " 0.0005210458776430116,\n",
       " 0.0003215987491711064,\n",
       " 0.0007481823717550157,\n",
       " 0.00028689111495146247,\n",
       " 0.0018148059966033858,\n",
       " -0.0017846071762085691,\n",
       " -0.0006834396328432024,\n",
       " 0.0008509887273050742,\n",
       " 0.0018977734765814047,\n",
       " 0.0006517496542052942,\n",
       " -0.0011858053403791258,\n",
       " -0.002479879247769587,\n",
       " 0.00041780976837348105,\n",
       " 8.052292409846395e-05,\n",
       " 0.001291842522998743,\n",
       " 0.0006380576021705331,\n",
       " 0.0010372127810154563,\n",
       " -0.0019294020618308289,\n",
       " -0.0011723827371049739,\n",
       " 0.0013676689476202208,\n",
       " -0.0005250430798970362,\n",
       " 0.0006721376595299894,\n",
       " 0.0007619631031287183,\n",
       " 0.0015258625613099736,\n",
       " -0.00010534300151236742,\n",
       " -0.0008622003159074465,\n",
       " 0.00017686355156543154,\n",
       " -0.0007524422012820386,\n",
       " 0.0006449854860392373,\n",
       " 0.0015533728629002902,\n",
       " 0.0022277265584748907,\n",
       " -0.0019293833027398816,\n",
       " -5.032580907554651e-05,\n",
       " -0.00018794212115941233,\n",
       " 0.0008995060842207636,\n",
       " -0.0003533194245032706,\n",
       " -0.0004153804660981669,\n",
       " -0.000215397850848828,\n",
       " -0.002424761438390502,\n",
       " 0.0023241234632146585,\n",
       " -0.0005248043278306552,\n",
       " -0.0009176319137166045,\n",
       " 0.0012161883409394225,\n",
       " -0.0005733097471430221,\n",
       " 0.0017185216464092046,\n",
       " -0.00029812657876047977,\n",
       " -0.0012408344704192553,\n",
       " 0.00016994419455623744,\n",
       " 0.0010923391172540375,\n",
       " 0.000927190333745137,\n",
       " -0.0001468642596832298,\n",
       " 0.001332925500590637,\n",
       " 0.0015326710691454942,\n",
       " 0.001828668585828419,\n",
       " -0.0006628043485926299,\n",
       " 0.0009754552956192236,\n",
       " 0.0003625470023826821,\n",
       " -0.00046327024615366863,\n",
       " -0.00023599220617376293,\n",
       " -0.001130927988438321,\n",
       " 0.00048608755375369184,\n",
       " 0.0003280866470889293,\n",
       " 0.0009682477307584869,\n",
       " 0.0001700379900108906,\n",
       " 0.0014366050065548475,\n",
       " -0.0008969710488874738,\n",
       " 0.0009889290600504363,\n",
       " -0.00042173193426378597,\n",
       " -0.00039420116821063667,\n",
       " 0.001986979870179456,\n",
       " 0.000493421316135223,\n",
       " 0.0005345145259585266,\n",
       " -9.1388037975898e-06,\n",
       " -0.0005870938892605232,\n",
       " 0.0025168746383966156,\n",
       " -0.001337598030118084,\n",
       " 0.0017668582339031985,\n",
       " 0.0005211089764034088,\n",
       " -0.0015575661829231036,\n",
       " -0.00019467900337501176,\n",
       " -0.0019154900168206201,\n",
       " -0.00048372305561068807,\n",
       " 0.0006381837996913275,\n",
       " -0.0026518791734115865,\n",
       " -0.0001742483637527381,\n",
       " 0.0003420413263967026,\n",
       " 0.000314699856624745,\n",
       " 0.00023204445970491372,\n",
       " 0.0001630640611008094,\n",
       " -0.000862572086982219,\n",
       " 0.0019938173693373196,\n",
       " 0.0004315512761934176,\n",
       " -0.0009037676191196858,\n",
       " -0.00221829092522334,\n",
       " -0.0013784593093626313,\n",
       " 0.0015327870344348793,\n",
       " -0.0003804784194816335,\n",
       " -0.0015094035433631803,\n",
       " 0.0007343675329432725,\n",
       " -0.0003460163588159815,\n",
       " -0.001296347926079744,\n",
       " -0.000821008194513792,\n",
       " -0.00011915784032411059,\n",
       " -0.00042863935366965755,\n",
       " 8.722228813222432e-05,\n",
       " -8.91540007835756e-06,\n",
       " 0.0008860766594590008,\n",
       " -0.0019156605540108923,\n",
       " -0.0016331828468005571,\n",
       " 0.0010716390288711547,\n",
       " -0.000539093260031348,\n",
       " 0.0014431986375306322,\n",
       " -0.0006148992201899794,\n",
       " 0.0006584865364208936,\n",
       " -0.00043582815943946085,\n",
       " 0.0032671724292539783,\n",
       " -2.2508540542753863e-05,\n",
       " -0.00031182886302665025,\n",
       " 0.0012849947916094562,\n",
       " 0.0008034178517953711,\n",
       " 0.00022483689484417702,\n",
       " 0.00025980204022110764,\n",
       " 0.0005831666072545066,\n",
       " 0.0006447620823199912,\n",
       " -0.0018740727863358203,\n",
       " 0.0006517701186681268,\n",
       " 0.0007136827929074968,\n",
       " -0.0010688584199839007,\n",
       " 0.0009545659109551352,\n",
       " -0.003085344634822823,\n",
       " -0.00011905210726614879,\n",
       " 0.00034894704043066105,\n",
       " -0.0006217162548850241,\n",
       " 0.0012643629181026822,\n",
       " -0.00040120408844307454,\n",
       " 0.0017047988976801876,\n",
       " -0.0004770816742216133,\n",
       " -0.0009931479606518079,\n",
       " -0.0010344236452686922,\n",
       " 0.0013125545489849483,\n",
       " -0.0008143105358519448,\n",
       " -0.0019292639267067119,\n",
       " 0.0007342072279844236,\n",
       " 0.0017116773257637302,\n",
       " -0.0002841650779650956,\n",
       " 0.0007618181465169904,\n",
       " 0.0008099807860769137,\n",
       " -0.0012959130562445742,\n",
       " 0.0034737657291981083,\n",
       " -0.0013924583283398684,\n",
       " -0.0014954625070306427,\n",
       " -0.0004632446655751382,\n",
       " -0.0003807956186555189,\n",
       " -0.0011994769279510542,\n",
       " -0.0009722824511943645,\n",
       " 0.00107867435116972,\n",
       " 0.0011267005609774533,\n",
       " 0.000796283617926441,\n",
       " 0.0011817194587861596,\n",
       " 0.0018425618717476805,\n",
       " 0.0007687903700551585,\n",
       " 0.0011612768815605773,\n",
       " -9.147870691543492e-05,\n",
       " -0.0002776618317001517,\n",
       " 0.0001903577804594908,\n",
       " -0.0005457227038171003,\n",
       " 0.0003971778948666932,\n",
       " 0.0010096376752928432,\n",
       " 0.00018378290857462565,\n",
       " 0.0012642162561190412,\n",
       " -0.0013785769800239295,\n",
       " -0.001082750000531263,\n",
       " -0.0013030046558159397,\n",
       " 0.0010990094899654551,\n",
       " -0.0005180316328051021,\n",
       " 0.0009681846319980758,\n",
       " -8.477422676597679e-05,\n",
       " -0.0016680013301938745,\n",
       " -0.001165359352409731,\n",
       " -0.0021080194936552443,\n",
       " 0.0012574333288620648,\n",
       " 0.0013948825144994709,\n",
       " 0.0017324336914193994,\n",
       " -0.0005939978979225963,\n",
       " 0.0016908936741576036,\n",
       " -0.0013236109487441833,\n",
       " 0.0006791678657128708,\n",
       " 0.0008373034967579379,\n",
       " 0.0009131094569165832,\n",
       " -0.0009035356885409296,\n",
       " -0.0011582114755655792,\n",
       " -0.0006353963693164627,\n",
       " -0.0005113135096804222,\n",
       " 0.0008720196578370781,\n",
       " -0.002878817844382889,\n",
       " 0.00014229746321371695,\n",
       " 0.0003489828532406286,\n",
       " 0.001801038908204905,\n",
       " 0.0015262292162690483,\n",
       " 0.002441341537742392,\n",
       " -0.0016952677636021124,\n",
       " 0.000348900995389298,\n",
       " -0.001709039968116291,\n",
       " -0.0003256061836565405,\n",
       " 0.0008995026734769512,\n",
       " 0.0017322819133200607,\n",
       " 0.0007824107964700122,\n",
       " -0.0013372040892085796,\n",
       " -0.0019500543998004355,\n",
       " 0.0022210749448544065,\n",
       " 0.001684023772933585,\n",
       " -0.0006215440123228666,\n",
       " -0.00024304628756326163,\n",
       " -0.0002912123378669834,\n",
       " -2.9842302924298902e-05,\n",
       " 0.0005415396160256686,\n",
       " -5.057990948903468e-05,\n",
       " 0.0009475698122103221,\n",
       " 0.001945736587628727,\n",
       " 0.0011542125679396692,\n",
       " -0.0014335003770060972,\n",
       " -0.00011942899445661903,\n",
       " -0.0004838918874290471,\n",
       " -0.00024997928754766363,\n",
       " 8.745762945477908e-05,\n",
       " -0.001296003440955415,\n",
       " 0.0017119092563424726,\n",
       " -0.001991306209210675,\n",
       " 0.0001561088912816755,\n",
       " -0.0013165125276852069,\n",
       " -0.0008005843763791431,\n",
       " -0.0020667028801126947,\n",
       " -0.00043565250613349094,\n",
       " -0.003429702614206373,\n",
       " -0.00019465001205266896,\n",
       " -0.001929272453566222,\n",
       " -0.0017986027844419938,\n",
       " 0.0015396296497084544,\n",
       " -0.0003324846117400554,\n",
       " -0.00012585379361405857,\n",
       " 0.0018907927261837126,\n",
       " -0.0001055322977935591,\n",
       " -0.0007041192567632526,\n",
       " -0.0003185555130108403,\n",
       " 0.0015327819183191815,\n",
       " -0.00012606355435808292,\n",
       " 0.0010097399976069926,\n",
       " 0.0006997536941782678,\n",
       " 0.0005760477217326976,\n",
       " -0.0019844482455899926,\n",
       " 0.0009272721915964538,\n",
       " 0.0018011327036595581,\n",
       " -0.00037392230668770177,\n",
       " 0.0007481516750607736,\n",
       " -0.0015370485693338154,\n",
       " -0.0004423416379358419,\n",
       " -0.0007799900210542082,\n",
       " -0.0013510393924831693,\n",
       " 0.002757796979998006,\n",
       " 0.002310254052502028,\n",
       " -0.0003945865822606448,\n",
       " 0.0014295441036777379,\n",
       " 0.0005002980388468525,\n",
       " 7.360356708926985e-05,\n",
       " 0.00013549236612200866,\n",
       " -0.0003669961281908968,\n",
       " -0.0025210099757747434,\n",
       " 0.001085339607765426,\n",
       " 0.0016910983187859163,\n",
       " -0.0014062049522755027,\n",
       " -0.0005663341128610416,\n",
       " -1.5711970310555712e-05,\n",
       " 0.00043835466791322664,\n",
       " 0.0011677511365031784,\n",
       " -0.001192763920942072,\n",
       " -0.0004218888284788225,\n",
       " 0.0034048961797676913,\n",
       " 0.0001081577178376758,\n",
       " 0.000356064220580557,\n",
       " -0.00011916295643980834,\n",
       " -0.001034305974607408,\n",
       " -0.0001812615162165715,\n",
       " -6.404344168883802e-05,\n",
       " -0.0016400817393469186,\n",
       " 0.0006381718620880189,\n",
       " 0.0002385101877880047,\n",
       " -0.0011377791305714063,\n",
       " -0.0006007791198076595,\n",
       " -0.0009178621389234615,\n",
       " 0.0013882360169946983,\n",
       " -0.001577996822545391,\n",
       " 0.002496123388856644,\n",
       " -0.0021702561885561106,\n",
       " -0.0012341572762202407,\n",
       " 0.000156265785496712,\n",
       " 0.0013125119146873837,\n",
       " 0.0016630559411619922,\n",
       " -0.0002772286672368812,\n",
       " -0.00013986475019460431,\n",
       " 0.0011749450583886933,\n",
       " -0.0007938014491221529,\n",
       " 0.0004452433282281787,\n",
       " -0.0015232490788691794,\n",
       " 0.0003766040040046048,\n",
       " -0.0005459239377016006,\n",
       " -0.0009384411459012754,\n",
       " -0.00022217395661820738,\n",
       " -0.0012616812207857792,\n",
       " 0.0017254597625093182,\n",
       " 0.0007550744428137524,\n",
       " -0.002039100488439638,\n",
       " -0.000256746866457519,\n",
       " -0.0009310835083130853,\n",
       " -0.00038746428599502336,\n",
       " -0.000401398500839964,\n",
       " 0.000644867815377953,\n",
       " -0.00028441576763478527,\n",
       " 0.0005209213854941164,\n",
       " 0.0011336744898875206,\n",
       " -0.000724763067873363,\n",
       " 0.0002046262481973371,\n",
       " -0.0009381853401158602,\n",
       " -0.0007179221579716871,\n",
       " 0.0030742933511792997,\n",
       " -0.0010137320837453195,\n",
       " -0.0005115829584410314,\n",
       " -1.5758015351918786e-05,\n",
       " -0.0013854264167851016,\n",
       " 0.0008308190095839135,\n",
       " -0.0009584556747792988,\n",
       " -0.0005941445599062234,\n",
       " 0.001573774511200221,\n",
       " 0.0012018635959287899,\n",
       " -0.000497834629133484,\n",
       " 0.000734386292034192,\n",
       " 0.0004934844148956202,\n",
       " 0.002007582752363901,\n",
       " -0.0019432424812211163,\n",
       " -0.00024304969830706014,\n",
       " 0.0002661893211966804,\n",
       " 0.0009337038122415042,\n",
       " -0.00044233140570441865,\n",
       " -0.0010759466088114539,\n",
       " -0.0028237989465741548,\n",
       " 0.00014252768842058783,\n",
       " 0.00020427664695729653,\n",
       " 1.8673348619477337e-05,\n",
       " 0.000493298529358227,\n",
       " -0.0012205215014582799,\n",
       " 3.231423949716372e-05,\n",
       " -0.0009105812430709181,\n",
       " -0.00014679263406330856,\n",
       " -0.0008835313918943155,\n",
       " 0.00019746472837797735,\n",
       " -0.001867535432632822,\n",
       " -0.0023215799010218585,\n",
       " 0.0004592559901806237,\n",
       " 0.000699963454922306,\n",
       " 0.00015604238177746588,\n",
       " 0.001615392975569535,\n",
       " 0.0006379859765506257,\n",
       " -0.0006351593226219948,\n",
       " 0.0004522803558986571,\n",
       " -0.0012409265605019953,\n",
       " 0.0010163216909794687,\n",
       " 0.0011681808902226504,\n",
       " -0.0008899425480765194,\n",
       " -0.0008829242794969744,\n",
       " 0.0006653069818597368,\n",
       " -0.0025558727988375107,\n",
       " -0.0005183539480946991,\n",
       " 0.0012571928714237984,\n",
       " -0.0018948854292642758,\n",
       " -0.001991007769127709,\n",
       " 0.0014500071453661528,\n",
       " -0.0015027161169327424,\n",
       " 6.655460181548278e-05,\n",
       " -0.00011908792007610247,\n",
       " 0.001085170775947067,\n",
       " 0.0009821341951901513,\n",
       " -0.0016817786508237648,\n",
       " 0.00021116530727224858,\n",
       " 0.0015052153394560785,\n",
       " 0.0013332222353016898,\n",
       " 0.0017531747087279614,\n",
       " -0.0024522239895675563,\n",
       " 0.0010920423825429848,\n",
       " -0.0004495662565155989,\n",
       " -0.0006698601353540279,\n",
       " 0.00040403415311549007,\n",
       " -0.0025413911596118416,\n",
       " -8.799434788972493e-06,\n",
       " 0.002048708364253332,\n",
       " 0.002165899152830636,\n",
       " -0.002500521353507798,\n",
       " -7.766727884749025e-05,\n",
       " 0.0002731785984538687,\n",
       " 0.00025246657246766335,\n",
       " -0.0020668938817657856,\n",
       " 0.0007342890858357404,\n",
       " -0.0005460484298504958,\n",
       " 0.00047272804923995104,\n",
       " -0.00021536544878267283,\n",
       " 0.0006174513092422895,\n",
       " 0.0012780464432779332,\n",
       " -0.000373755180241242,\n",
       " -0.0008900568079940052,\n",
       " 0.0015606878661909018,\n",
       " 0.002324510582636552,\n",
       " 0.00025949166253481926,\n",
       " 0.0003627328879200753,\n",
       " -0.000931465511619281,\n",
       " 0.000514261245014136,\n",
       " 0.002461852329844097,\n",
       " 0.0017187126480622955,\n",
       " -0.0007179392116907213,\n",
       " -0.0011237425934123163,\n",
       " 0.0014291518681401327,\n",
       " 0.0010163643252770332,\n",
       " 0.0016841806671486353,\n",
       " 0.0009338146614151777,\n",
       " 0.00038330166266645205,\n",
       " -8.790907929448477e-06,\n",
       " 0.00092041763871957,\n",
       " 0.0006447689038076021,\n",
       " -0.0007041925877550731,\n",
       " -0.001901653008174145,\n",
       " 0.0025720743056270173,\n",
       " -0.0010001082465866534,\n",
       " -0.0021221651746160947,\n",
       " -0.00022222341240336896,\n",
       " -9.822582136245761e-05,\n",
       " 8.725469019835175e-05,\n",
       " 0.0023586400957811976,\n",
       " 0.0007204964168587291,\n",
       " 0.000589780702693124,\n",
       " -0.0008692782725035902,\n",
       " -0.00022957081776013577,\n",
       " 0.0016567215267154073,\n",
       " -0.0005938768165174996,\n",
       " -0.001337391680117886,\n",
       " 3.206354982747406e-05,\n",
       " -0.0005181868216482394,\n",
       " 0.000816831928209999,\n",
       " -0.002431610875151702,\n",
       " -0.00029113389075946516,\n",
       " 0.0005622448205242769,\n",
       " 0.0011540164501708527,\n",
       " -0.0002359717417109164,\n",
       " -0.00017429611416601432,\n",
       " 0.0007686181274929871,\n",
       " -0.00023598709005803742,\n",
       " 0.0008581707115872805,\n",
       " -0.000600913844187978,\n",
       " 0.0019387319620244037,\n",
       " -0.0019429508626257613,\n",
       " -0.00014660504315403,\n",
       " 0.00027986943562811895,\n",
       " -0.000642209993267695,\n",
       " -0.0017847998832335593,\n",
       " -0.00043569684580296864,\n",
       " 0.002613198212144563,\n",
       " -0.0012753988533990707,\n",
       " -0.0010068604771493878,\n",
       " 0.0007688602903031527,\n",
       " 0.0016569466358065388,\n",
       " -0.0002979543361982945,\n",
       " 0.0005140395466667891,\n",
       " -0.0006012583293123069,\n",
       " -0.0016677728103589307,\n",
       " 0.0008237615174506163,\n",
       " 0.0016358423742827422,\n",
       " -3.648368431334592e-05,\n",
       " -0.001695279701205421,\n",
       " 0.00037645222590526606,\n",
       " -0.0008417543279380518,\n",
       " -0.00012607208121759306,\n",
       " 0.0003144048272855915,\n",
       " -0.0015094137755946035,\n",
       " -0.0012821851913998733,\n",
       " -6.401615573840835e-05,\n",
       " -0.0006353383866717771,\n",
       " 0.0011128635523309643,\n",
       " -0.0006423089048380459,\n",
       " -0.0003051346151086015,\n",
       " -0.0003601398699421138,\n",
       " 0.000500202538020314,\n",
       " 0.0010095268261191837,\n",
       " -0.00039467867234338483,\n",
       " ...]"
      ]
     },
     "execution_count": 25,
     "metadata": {},
     "output_type": "execute_result"
    }
   ],
   "source": [
    "p_diffs= []\n",
    "for _ in range(10000):\n",
    "    new_page_converted = np.random.choice([0, 1], size=nnew, p=[(1 - pnew), pnew])\n",
    "    old_page_converted = np.random.choice([0, 1], size=nold, p=[(1 - pold), pold])\n",
    "    p_diffs.append(new_page_converted.mean() - old_page_converted.mean())\n",
    "p_diffs"
   ]
  },
  {
   "cell_type": "markdown",
   "metadata": {},
   "source": [
    "i. Plot a histogram of the **p_diffs**.  Does this plot look like what you expected?  Use the matching problem in the classroom to assure you fully understand what was computed here."
   ]
  },
  {
   "cell_type": "code",
   "execution_count": 26,
   "metadata": {},
   "outputs": [
    {
     "data": {
      "image/png": "[encoded data removed]",
      "text/plain": [
       "<Figure size 432x288 with 1 Axes>"
      ]
     },
     "metadata": {
      "needs_background": "light"
     },
     "output_type": "display_data"
    }
   ],
   "source": [
    "difference_rate= treatment_rate - control_rate\n",
    "plt.hist(p_diffs)\n",
    "plt.xlim(-0.005, 0.005)\n",
    "plt.xlabel('p_diffs')\n",
    "plt.ylabel('counts')\n",
    "plt.title('simulated p_diffs distribution')\n",
    "plt.axvline(difference_rate, color='r');"
   ]
  },
  {
   "cell_type": "markdown",
   "metadata": {},
   "source": [
    "j. What proportion of the **p_diffs** are greater than the actual difference observed in **ab_data.csv**?"
   ]
  },
  {
   "cell_type": "code",
   "execution_count": 27,
   "metadata": {},
   "outputs": [
    {
     "data": {
      "text/plain": [
       "0.9035"
      ]
     },
     "execution_count": 27,
     "metadata": {},
     "output_type": "execute_result"
    }
   ],
   "source": [
    "(p_diffs >= difference_rate).mean()"
   ]
  },
  {
   "cell_type": "markdown",
   "metadata": {},
   "source": [
    "k. In words, explain what you just computed in part **j.**  What is this value called in scientific studies?  What does this value mean in terms of whether or not there is a difference between the new and old pages?"
   ]
  },
  {
   "cell_type": "markdown",
   "metadata": {},
   "source": [
    "**I copmuted the p value in part j. The value= 0.90 is much larger than alpha 0.05. Therefore, and new page is not better in leading to conversion than old page.**"
   ]
  },
  {
   "cell_type": "markdown",
   "metadata": {},
   "source": [
    "l. We could also use a built-in to achieve similar results.  Though using the built-in might be easier to code, the above portions are a walkthrough of the ideas that are critical to correctly thinking about statistical significance. Fill in the below to calculate the number of conversions for each page, as well as the number of individuals who received each page. Let `n_old` and `n_new` refer the the number of rows associated with the old page and new pages, respectively."
   ]
  },
  {
   "cell_type": "code",
   "execution_count": 28,
   "metadata": {},
   "outputs": [
    {
     "data": {
      "text/plain": [
       "(17489, 17264, 145274, 145310)"
      ]
     },
     "execution_count": 28,
     "metadata": {},
     "output_type": "execute_result"
    }
   ],
   "source": [
    "import statsmodels.api as sm\n",
    "\n",
    "convert_old = (df2.query('landing_page==\"old_page\"')['converted']==1).sum()\n",
    "convert_new = (df2.query('landing_page==\"new_page\"')['converted']==1).sum() \n",
    "n_old = (df2['landing_page']=='old_page').sum()\n",
    "n_new = (df2['landing_page']=='new_page').sum()\n",
    "convert_old, convert_new, n_old, n_new "
   ]
  },
  {
   "cell_type": "markdown",
   "metadata": {},
   "source": [
    "m. Now use `stats.proportions_ztest` to compute your test statistic and p-value.  [Here](http://knowledgetack.com/python/statsmodels/proportions_ztest/) is a helpful link on using the built in."
   ]
  },
  {
   "cell_type": "code",
   "execution_count": 29,
   "metadata": {},
   "outputs": [
    {
     "data": {
      "text/plain": [
       "(-1.3109241984234394, 0.9050583127590245)"
      ]
     },
     "execution_count": 29,
     "metadata": {},
     "output_type": "execute_result"
    }
   ],
   "source": [
    "z_score, p_value = sm.stats.proportions_ztest([convert_new, convert_old], [n_new, n_old], alternative='larger')\n",
    "z_score, p_value"
   ]
  },
  {
   "cell_type": "markdown",
   "metadata": {},
   "source": [
    "n. What do the z-score and p-value you computed in the previous question mean for the conversion rates of the old and new pages?  Do they agree with the findings in parts **j.** and **k.**?"
   ]
  },
  {
   "cell_type": "markdown",
   "metadata": {},
   "source": [
    "**zscore is -1.31, less than the critical value 1.64. P value is 0.9, still larger than alpha 0.05. Therefore I fail to reject null, and I agree with parts j and k.**"
   ]
  },
  {
   "cell_type": "markdown",
   "metadata": {},
   "source": [
    "<a id='regression'></a>\n",
    "### Part III - A regression approach\n",
    "\n",
    "`1.` In this final part, you will see that the result you acheived in the previous A/B test can also be acheived by performing regression.<br><br>\n",
    "\n",
    "a. Since each row is either a conversion or no conversion, what type of regression should you be performing in this case?"
   ]
  },
  {
   "cell_type": "markdown",
   "metadata": {},
   "source": [
    "**Logistic Regression**"
   ]
  },
  {
   "cell_type": "markdown",
   "metadata": {},
   "source": [
    "b. The goal is to use **statsmodels** to fit the regression model you specified in part **a.** to see if there is a significant difference in conversion based on which page a customer receives.  However, you first need to create a column for the intercept, and create a dummy variable column for which page each user received.  Add an **intercept** column, as well as an **ab_page** column, which is 1 when an individual receives the **treatment** and 0 if **control**."
   ]
  },
  {
   "cell_type": "code",
   "execution_count": 30,
   "metadata": {},
   "outputs": [
    {
     "data": {
      "text/html": [
       "<div>\n",
       "<style scoped>\n",
       "    .dataframe tbody tr th:only-of-type {\n",
       "        vertical-align: middle;\n",
       "    }\n",
       "\n",
       "    .dataframe tbody tr th {\n",
       "        vertical-align: top;\n",
       "    }\n",
       "\n",
       "    .dataframe thead th {\n",
       "        text-align: right;\n",
       "    }\n",
       "</style>\n",
       "<table border=\"1\" class=\"dataframe\">\n",
       "  <thead>\n",
       "    <tr style=\"text-align: right;\">\n",
       "      <th></th>\n",
       "      <th>user_id</th>\n",
       "      <th>timestamp</th>\n",
       "      <th>group</th>\n",
       "      <th>landing_page</th>\n",
       "      <th>converted</th>\n",
       "      <th>intercept</th>\n",
       "      <th>ab_page</th>\n",
       "    </tr>\n",
       "  </thead>\n",
       "  <tbody>\n",
       "    <tr>\n",
       "      <th>0</th>\n",
       "      <td>851104</td>\n",
       "      <td>2017-01-21 22:11:48.556739</td>\n",
       "      <td>control</td>\n",
       "      <td>old_page</td>\n",
       "      <td>0</td>\n",
       "      <td>1</td>\n",
       "      <td>0</td>\n",
       "    </tr>\n",
       "    <tr>\n",
       "      <th>1</th>\n",
       "      <td>804228</td>\n",
       "      <td>2017-01-12 08:01:45.159739</td>\n",
       "      <td>control</td>\n",
       "      <td>old_page</td>\n",
       "      <td>0</td>\n",
       "      <td>1</td>\n",
       "      <td>0</td>\n",
       "    </tr>\n",
       "    <tr>\n",
       "      <th>2</th>\n",
       "      <td>661590</td>\n",
       "      <td>2017-01-11 16:55:06.154213</td>\n",
       "      <td>treatment</td>\n",
       "      <td>new_page</td>\n",
       "      <td>0</td>\n",
       "      <td>1</td>\n",
       "      <td>1</td>\n",
       "    </tr>\n",
       "    <tr>\n",
       "      <th>3</th>\n",
       "      <td>853541</td>\n",
       "      <td>2017-01-08 18:28:03.143765</td>\n",
       "      <td>treatment</td>\n",
       "      <td>new_page</td>\n",
       "      <td>0</td>\n",
       "      <td>1</td>\n",
       "      <td>1</td>\n",
       "    </tr>\n",
       "    <tr>\n",
       "      <th>4</th>\n",
       "      <td>864975</td>\n",
       "      <td>2017-01-21 01:52:26.210827</td>\n",
       "      <td>control</td>\n",
       "      <td>old_page</td>\n",
       "      <td>1</td>\n",
       "      <td>1</td>\n",
       "      <td>0</td>\n",
       "    </tr>\n",
       "  </tbody>\n",
       "</table>\n",
       "</div>"
      ],
      "text/plain": [
       "   user_id                   timestamp      group landing_page  converted  \\\n",
       "0   851104  2017-01-21 22:11:48.556739    control     old_page          0   \n",
       "1   804228  2017-01-12 08:01:45.159739    control     old_page          0   \n",
       "2   661590  2017-01-11 16:55:06.154213  treatment     new_page          0   \n",
       "3   853541  2017-01-08 18:28:03.143765  treatment     new_page          0   \n",
       "4   864975  2017-01-21 01:52:26.210827    control     old_page          1   \n",
       "\n",
       "   intercept  ab_page  \n",
       "0          1        0  \n",
       "1          1        0  \n",
       "2          1        1  \n",
       "3          1        1  \n",
       "4          1        0  "
      ]
     },
     "execution_count": 30,
     "metadata": {},
     "output_type": "execute_result"
    }
   ],
   "source": [
    "df2['intercept']=1\n",
    "df2['ab_page']=pd.get_dummies(df2['group'])['treatment']\n",
    "df2.head()"
   ]
  },
  {
   "cell_type": "markdown",
   "metadata": {},
   "source": [
    "c. Use **statsmodels** to import your regression model.  Instantiate the model, and fit the model using the two columns you created in part **b.** to predict whether or not an individual converts."
   ]
  },
  {
   "cell_type": "code",
   "execution_count": 31,
   "metadata": {},
   "outputs": [
    {
     "name": "stdout",
     "output_type": "stream",
     "text": [
      "Optimization terminated successfully.\n",
      "         Current function value: 0.366118\n",
      "         Iterations 6\n"
     ]
    }
   ],
   "source": [
    "logistic_reg=sm.Logit(df2['converted'], df2[['intercept', 'ab_page']])\n",
    "results=logistic_reg.fit()"
   ]
  },
  {
   "cell_type": "markdown",
   "metadata": {},
   "source": [
    "d. Provide the summary of your model below, and use it as necessary to answer the following questions."
   ]
  },
  {
   "cell_type": "code",
   "execution_count": 32,
   "metadata": {},
   "outputs": [
    {
     "data": {
      "text/html": [
       "<table class=\"simpletable\">\n",
       "<caption>Logit Regression Results</caption>\n",
       "<tr>\n",
       "  <th>Dep. Variable:</th>       <td>converted</td>    <th>  No. Observations:  </th>   <td>290584</td>   \n",
       "</tr>\n",
       "<tr>\n",
       "  <th>Model:</th>                 <td>Logit</td>      <th>  Df Residuals:      </th>   <td>290582</td>   \n",
       "</tr>\n",
       "<tr>\n",
       "  <th>Method:</th>                 <td>MLE</td>       <th>  Df Model:          </th>   <td>     1</td>   \n",
       "</tr>\n",
       "<tr>\n",
       "  <th>Date:</th>            <td>Wed, 01 Jul 2020</td> <th>  Pseudo R-squ.:     </th>  <td>8.077e-06</td> \n",
       "</tr>\n",
       "<tr>\n",
       "  <th>Time:</th>                <td>07:10:16</td>     <th>  Log-Likelihood:    </th> <td>-1.0639e+05</td>\n",
       "</tr>\n",
       "<tr>\n",
       "  <th>converged:</th>             <td>True</td>       <th>  LL-Null:           </th> <td>-1.0639e+05</td>\n",
       "</tr>\n",
       "<tr>\n",
       "  <th>Covariance Type:</th>     <td>nonrobust</td>    <th>  LLR p-value:       </th>   <td>0.1899</td>   \n",
       "</tr>\n",
       "</table>\n",
       "<table class=\"simpletable\">\n",
       "<tr>\n",
       "      <td></td>         <th>coef</th>     <th>std err</th>      <th>z</th>      <th>P>|z|</th>  <th>[0.025</th>    <th>0.975]</th>  \n",
       "</tr>\n",
       "<tr>\n",
       "  <th>intercept</th> <td>   -1.9888</td> <td>    0.008</td> <td> -246.669</td> <td> 0.000</td> <td>   -2.005</td> <td>   -1.973</td>\n",
       "</tr>\n",
       "<tr>\n",
       "  <th>ab_page</th>   <td>   -0.0150</td> <td>    0.011</td> <td>   -1.311</td> <td> 0.190</td> <td>   -0.037</td> <td>    0.007</td>\n",
       "</tr>\n",
       "</table>"
      ],
      "text/plain": [
       "<class 'statsmodels.iolib.summary.Summary'>\n",
       "\"\"\"\n",
       "                           Logit Regression Results                           \n",
       "==============================================================================\n",
       "Dep. Variable:              converted   No. Observations:               290584\n",
       "Model:                          Logit   Df Residuals:                   290582\n",
       "Method:                           MLE   Df Model:                            1\n",
       "Date:                Wed, 01 Jul 2020   Pseudo R-squ.:               8.077e-06\n",
       "Time:                        07:10:16   Log-Likelihood:            -1.0639e+05\n",
       "converged:                       True   LL-Null:                   -1.0639e+05\n",
       "Covariance Type:            nonrobust   LLR p-value:                    0.1899\n",
       "==============================================================================\n",
       "                 coef    std err          z      P>|z|      [0.025      0.975]\n",
       "------------------------------------------------------------------------------\n",
       "intercept     -1.9888      0.008   -246.669      0.000      -2.005      -1.973\n",
       "ab_page       -0.0150      0.011     -1.311      0.190      -0.037       0.007\n",
       "==============================================================================\n",
       "\"\"\""
      ]
     },
     "execution_count": 32,
     "metadata": {},
     "output_type": "execute_result"
    }
   ],
   "source": [
    "results.summary()"
   ]
  },
  {
   "cell_type": "markdown",
   "metadata": {},
   "source": [
    "e. What is the p-value associated with **ab_page**? Why does it differ from the value you found in **Part II**?<br><br>  **Hint**: What are the null and alternative hypotheses associated with your regression model, and how do they compare to the null and alternative hypotheses in the **Part II**?"
   ]
  },
  {
   "cell_type": "markdown",
   "metadata": {},
   "source": [
    "**The p-value assoclated with ab_page is 0.19 which is different, because here we want to test if the ab_page is a significant factor in contributing the converfed rate so we have null hypothesis and aiternative hypothesis as follows: H0: ab_page = 0 H1: ab_page ≠ 0 This is twe-sided test while in Part II we have one-sided test.**"
   ]
  },
  {
   "cell_type": "markdown",
   "metadata": {},
   "source": [
    "f. Now, you are considering other things that might influence whether or not an individual converts.  Discuss why it is a good idea to consider other factors to add into your regression model.  Are there any disadvantages to adding additional terms into your regression model?"
   ]
  },
  {
   "cell_type": "markdown",
   "metadata": {},
   "source": [
    "**There is many factors can impact of web page coversin page landing such as user's gender. Disadvanage of adding additional terms in to reggression is intrptation more complex because it may realred to vraible but not related to others**"
   ]
  },
  {
   "cell_type": "markdown",
   "metadata": {},
   "source": [
    "g. Now along with testing if the conversion rate changes for different pages, also add an effect based on which country a user lives. You will need to read in the **countries.csv** dataset and merge together your datasets on the approporiate rows.  [Here](https://pandas.pydata.org/pandas-docs/stable/generated/pandas.DataFrame.join.html) are the docs for joining tables. \n",
    "\n",
    "Does it appear that country had an impact on conversion?  Don't forget to create dummy variables for these country columns - **Hint: You will need two columns for the three dummy variables.** Provide the statistical output as well as a written response to answer this question."
   ]
  },
  {
   "cell_type": "code",
   "execution_count": 33,
   "metadata": {},
   "outputs": [
    {
     "data": {
      "text/html": [
       "<div>\n",
       "<style scoped>\n",
       "    .dataframe tbody tr th:only-of-type {\n",
       "        vertical-align: middle;\n",
       "    }\n",
       "\n",
       "    .dataframe tbody tr th {\n",
       "        vertical-align: top;\n",
       "    }\n",
       "\n",
       "    .dataframe thead th {\n",
       "        text-align: right;\n",
       "    }\n",
       "</style>\n",
       "<table border=\"1\" class=\"dataframe\">\n",
       "  <thead>\n",
       "    <tr style=\"text-align: right;\">\n",
       "      <th></th>\n",
       "      <th>user_id</th>\n",
       "      <th>country</th>\n",
       "    </tr>\n",
       "  </thead>\n",
       "  <tbody>\n",
       "    <tr>\n",
       "      <th>0</th>\n",
       "      <td>834778</td>\n",
       "      <td>UK</td>\n",
       "    </tr>\n",
       "    <tr>\n",
       "      <th>1</th>\n",
       "      <td>928468</td>\n",
       "      <td>US</td>\n",
       "    </tr>\n",
       "    <tr>\n",
       "      <th>2</th>\n",
       "      <td>822059</td>\n",
       "      <td>UK</td>\n",
       "    </tr>\n",
       "    <tr>\n",
       "      <th>3</th>\n",
       "      <td>711597</td>\n",
       "      <td>UK</td>\n",
       "    </tr>\n",
       "    <tr>\n",
       "      <th>4</th>\n",
       "      <td>710616</td>\n",
       "      <td>UK</td>\n",
       "    </tr>\n",
       "  </tbody>\n",
       "</table>\n",
       "</div>"
      ],
      "text/plain": [
       "   user_id country\n",
       "0   834778      UK\n",
       "1   928468      US\n",
       "2   822059      UK\n",
       "3   711597      UK\n",
       "4   710616      UK"
      ]
     },
     "execution_count": 33,
     "metadata": {},
     "output_type": "execute_result"
    }
   ],
   "source": [
    "countries_df = pd.read_csv('./countries.csv')\n",
    "df_new = countries_df.set_index('user_id').join(df2.set_index('user_id'), how='inner')\n",
    "countries_df.head()"
   ]
  },
  {
   "cell_type": "code",
   "execution_count": 34,
   "metadata": {},
   "outputs": [
    {
     "data": {
      "text/html": [
       "<div>\n",
       "<style scoped>\n",
       "    .dataframe tbody tr th:only-of-type {\n",
       "        vertical-align: middle;\n",
       "    }\n",
       "\n",
       "    .dataframe tbody tr th {\n",
       "        vertical-align: top;\n",
       "    }\n",
       "\n",
       "    .dataframe thead th {\n",
       "        text-align: right;\n",
       "    }\n",
       "</style>\n",
       "<table border=\"1\" class=\"dataframe\">\n",
       "  <thead>\n",
       "    <tr style=\"text-align: right;\">\n",
       "      <th></th>\n",
       "      <th>country</th>\n",
       "      <th>timestamp</th>\n",
       "      <th>group</th>\n",
       "      <th>landing_page</th>\n",
       "      <th>converted</th>\n",
       "      <th>intercept</th>\n",
       "      <th>ab_page</th>\n",
       "      <th>CA</th>\n",
       "      <th>UK</th>\n",
       "      <th>US</th>\n",
       "    </tr>\n",
       "    <tr>\n",
       "      <th>user_id</th>\n",
       "      <th></th>\n",
       "      <th></th>\n",
       "      <th></th>\n",
       "      <th></th>\n",
       "      <th></th>\n",
       "      <th></th>\n",
       "      <th></th>\n",
       "      <th></th>\n",
       "      <th></th>\n",
       "      <th></th>\n",
       "    </tr>\n",
       "  </thead>\n",
       "  <tbody>\n",
       "    <tr>\n",
       "      <th>834778</th>\n",
       "      <td>UK</td>\n",
       "      <td>2017-01-14 23:08:43.304998</td>\n",
       "      <td>control</td>\n",
       "      <td>old_page</td>\n",
       "      <td>0</td>\n",
       "      <td>1</td>\n",
       "      <td>0</td>\n",
       "      <td>0</td>\n",
       "      <td>1</td>\n",
       "      <td>0</td>\n",
       "    </tr>\n",
       "    <tr>\n",
       "      <th>928468</th>\n",
       "      <td>US</td>\n",
       "      <td>2017-01-23 14:44:16.387854</td>\n",
       "      <td>treatment</td>\n",
       "      <td>new_page</td>\n",
       "      <td>0</td>\n",
       "      <td>1</td>\n",
       "      <td>1</td>\n",
       "      <td>0</td>\n",
       "      <td>0</td>\n",
       "      <td>1</td>\n",
       "    </tr>\n",
       "    <tr>\n",
       "      <th>822059</th>\n",
       "      <td>UK</td>\n",
       "      <td>2017-01-16 14:04:14.719771</td>\n",
       "      <td>treatment</td>\n",
       "      <td>new_page</td>\n",
       "      <td>1</td>\n",
       "      <td>1</td>\n",
       "      <td>1</td>\n",
       "      <td>0</td>\n",
       "      <td>1</td>\n",
       "      <td>0</td>\n",
       "    </tr>\n",
       "    <tr>\n",
       "      <th>711597</th>\n",
       "      <td>UK</td>\n",
       "      <td>2017-01-22 03:14:24.763511</td>\n",
       "      <td>control</td>\n",
       "      <td>old_page</td>\n",
       "      <td>0</td>\n",
       "      <td>1</td>\n",
       "      <td>0</td>\n",
       "      <td>0</td>\n",
       "      <td>1</td>\n",
       "      <td>0</td>\n",
       "    </tr>\n",
       "    <tr>\n",
       "      <th>710616</th>\n",
       "      <td>UK</td>\n",
       "      <td>2017-01-16 13:14:44.000513</td>\n",
       "      <td>treatment</td>\n",
       "      <td>new_page</td>\n",
       "      <td>0</td>\n",
       "      <td>1</td>\n",
       "      <td>1</td>\n",
       "      <td>0</td>\n",
       "      <td>1</td>\n",
       "      <td>0</td>\n",
       "    </tr>\n",
       "  </tbody>\n",
       "</table>\n",
       "</div>"
      ],
      "text/plain": [
       "        country                   timestamp      group landing_page  \\\n",
       "user_id                                                               \n",
       "834778       UK  2017-01-14 23:08:43.304998    control     old_page   \n",
       "928468       US  2017-01-23 14:44:16.387854  treatment     new_page   \n",
       "822059       UK  2017-01-16 14:04:14.719771  treatment     new_page   \n",
       "711597       UK  2017-01-22 03:14:24.763511    control     old_page   \n",
       "710616       UK  2017-01-16 13:14:44.000513  treatment     new_page   \n",
       "\n",
       "         converted  intercept  ab_page  CA  UK  US  \n",
       "user_id                                             \n",
       "834778           0          1        0   0   1   0  \n",
       "928468           0          1        1   0   0   1  \n",
       "822059           1          1        1   0   1   0  \n",
       "711597           0          1        0   0   1   0  \n",
       "710616           0          1        1   0   1   0  "
      ]
     },
     "execution_count": 34,
     "metadata": {},
     "output_type": "execute_result"
    }
   ],
   "source": [
    "### Create the necessary dummy variables\n",
    "df_new[['CA', 'UK', 'US']] = pd.get_dummies(df_new['country'])\n",
    "df_new.head()"
   ]
  },
  {
   "cell_type": "markdown",
   "metadata": {},
   "source": [
    "h. Though you have now looked at the individual factors of country and page on conversion, we would now like to look at an interaction between page and country to see if there significant effects on conversion.  Create the necessary additional columns, and fit the new model.  \n",
    "\n",
    "Provide the summary results, and your conclusions based on the results."
   ]
  },
  {
   "cell_type": "code",
   "execution_count": 35,
   "metadata": {},
   "outputs": [
    {
     "name": "stdout",
     "output_type": "stream",
     "text": [
      "Optimization terminated successfully.\n",
      "         Current function value: 0.366113\n",
      "         Iterations 6\n"
     ]
    },
    {
     "data": {
      "text/html": [
       "<table class=\"simpletable\">\n",
       "<caption>Logit Regression Results</caption>\n",
       "<tr>\n",
       "  <th>Dep. Variable:</th>       <td>converted</td>    <th>  No. Observations:  </th>   <td>290584</td>   \n",
       "</tr>\n",
       "<tr>\n",
       "  <th>Model:</th>                 <td>Logit</td>      <th>  Df Residuals:      </th>   <td>290580</td>   \n",
       "</tr>\n",
       "<tr>\n",
       "  <th>Method:</th>                 <td>MLE</td>       <th>  Df Model:          </th>   <td>     3</td>   \n",
       "</tr>\n",
       "<tr>\n",
       "  <th>Date:</th>            <td>Wed, 01 Jul 2020</td> <th>  Pseudo R-squ.:     </th>  <td>2.323e-05</td> \n",
       "</tr>\n",
       "<tr>\n",
       "  <th>Time:</th>                <td>07:10:17</td>     <th>  Log-Likelihood:    </th> <td>-1.0639e+05</td>\n",
       "</tr>\n",
       "<tr>\n",
       "  <th>converged:</th>             <td>True</td>       <th>  LL-Null:           </th> <td>-1.0639e+05</td>\n",
       "</tr>\n",
       "<tr>\n",
       "  <th>Covariance Type:</th>     <td>nonrobust</td>    <th>  LLR p-value:       </th>   <td>0.1760</td>   \n",
       "</tr>\n",
       "</table>\n",
       "<table class=\"simpletable\">\n",
       "<tr>\n",
       "      <td></td>         <th>coef</th>     <th>std err</th>      <th>z</th>      <th>P>|z|</th>  <th>[0.025</th>    <th>0.975]</th>  \n",
       "</tr>\n",
       "<tr>\n",
       "  <th>intercept</th> <td>   -2.0300</td> <td>    0.027</td> <td>  -76.249</td> <td> 0.000</td> <td>   -2.082</td> <td>   -1.978</td>\n",
       "</tr>\n",
       "<tr>\n",
       "  <th>ab_page</th>   <td>   -0.0149</td> <td>    0.011</td> <td>   -1.307</td> <td> 0.191</td> <td>   -0.037</td> <td>    0.007</td>\n",
       "</tr>\n",
       "<tr>\n",
       "  <th>US</th>        <td>    0.0408</td> <td>    0.027</td> <td>    1.516</td> <td> 0.130</td> <td>   -0.012</td> <td>    0.093</td>\n",
       "</tr>\n",
       "<tr>\n",
       "  <th>UK</th>        <td>    0.0506</td> <td>    0.028</td> <td>    1.784</td> <td> 0.074</td> <td>   -0.005</td> <td>    0.106</td>\n",
       "</tr>\n",
       "</table>"
      ],
      "text/plain": [
       "<class 'statsmodels.iolib.summary.Summary'>\n",
       "\"\"\"\n",
       "                           Logit Regression Results                           \n",
       "==============================================================================\n",
       "Dep. Variable:              converted   No. Observations:               290584\n",
       "Model:                          Logit   Df Residuals:                   290580\n",
       "Method:                           MLE   Df Model:                            3\n",
       "Date:                Wed, 01 Jul 2020   Pseudo R-squ.:               2.323e-05\n",
       "Time:                        07:10:17   Log-Likelihood:            -1.0639e+05\n",
       "converged:                       True   LL-Null:                   -1.0639e+05\n",
       "Covariance Type:            nonrobust   LLR p-value:                    0.1760\n",
       "==============================================================================\n",
       "                 coef    std err          z      P>|z|      [0.025      0.975]\n",
       "------------------------------------------------------------------------------\n",
       "intercept     -2.0300      0.027    -76.249      0.000      -2.082      -1.978\n",
       "ab_page       -0.0149      0.011     -1.307      0.191      -0.037       0.007\n",
       "US             0.0408      0.027      1.516      0.130      -0.012       0.093\n",
       "UK             0.0506      0.028      1.784      0.074      -0.005       0.106\n",
       "==============================================================================\n",
       "\"\"\""
      ]
     },
     "execution_count": 35,
     "metadata": {},
     "output_type": "execute_result"
    }
   ],
   "source": [
    "### Fit Your Linear Model And Obtain the Results\n",
    "df_new['intercept'] = 1\n",
    "log_mod = sm.Logit(df_new['converted'], df_new[['intercept', 'ab_page', 'US', 'UK']])\n",
    "result = log_mod.fit()\n",
    "result.summary()"
   ]
  },
  {
   "cell_type": "code",
   "execution_count": 36,
   "metadata": {},
   "outputs": [
    {
     "name": "stdout",
     "output_type": "stream",
     "text": [
      "Optimization terminated successfully.\n",
      "         Current function value: 0.366109\n",
      "         Iterations 6\n"
     ]
    },
    {
     "data": {
      "text/html": [
       "<table class=\"simpletable\">\n",
       "<caption>Logit Regression Results</caption>\n",
       "<tr>\n",
       "  <th>Dep. Variable:</th>       <td>converted</td>    <th>  No. Observations:  </th>   <td>290584</td>   \n",
       "</tr>\n",
       "<tr>\n",
       "  <th>Model:</th>                 <td>Logit</td>      <th>  Df Residuals:      </th>   <td>290578</td>   \n",
       "</tr>\n",
       "<tr>\n",
       "  <th>Method:</th>                 <td>MLE</td>       <th>  Df Model:          </th>   <td>     5</td>   \n",
       "</tr>\n",
       "<tr>\n",
       "  <th>Date:</th>            <td>Wed, 01 Jul 2020</td> <th>  Pseudo R-squ.:     </th>  <td>3.482e-05</td> \n",
       "</tr>\n",
       "<tr>\n",
       "  <th>Time:</th>                <td>07:10:18</td>     <th>  Log-Likelihood:    </th> <td>-1.0639e+05</td>\n",
       "</tr>\n",
       "<tr>\n",
       "  <th>converged:</th>             <td>True</td>       <th>  LL-Null:           </th> <td>-1.0639e+05</td>\n",
       "</tr>\n",
       "<tr>\n",
       "  <th>Covariance Type:</th>     <td>nonrobust</td>    <th>  LLR p-value:       </th>   <td>0.1920</td>   \n",
       "</tr>\n",
       "</table>\n",
       "<table class=\"simpletable\">\n",
       "<tr>\n",
       "       <td></td>         <th>coef</th>     <th>std err</th>      <th>z</th>      <th>P>|z|</th>  <th>[0.025</th>    <th>0.975]</th>  \n",
       "</tr>\n",
       "<tr>\n",
       "  <th>intercept</th>  <td>   -2.0040</td> <td>    0.036</td> <td>  -55.008</td> <td> 0.000</td> <td>   -2.075</td> <td>   -1.933</td>\n",
       "</tr>\n",
       "<tr>\n",
       "  <th>ab_page</th>    <td>   -0.0674</td> <td>    0.052</td> <td>   -1.297</td> <td> 0.195</td> <td>   -0.169</td> <td>    0.034</td>\n",
       "</tr>\n",
       "<tr>\n",
       "  <th>UK_ab_page</th> <td>    0.0783</td> <td>    0.057</td> <td>    1.378</td> <td> 0.168</td> <td>   -0.033</td> <td>    0.190</td>\n",
       "</tr>\n",
       "<tr>\n",
       "  <th>US_ab_page</th> <td>    0.0469</td> <td>    0.054</td> <td>    0.872</td> <td> 0.383</td> <td>   -0.059</td> <td>    0.152</td>\n",
       "</tr>\n",
       "<tr>\n",
       "  <th>UK</th>         <td>    0.0118</td> <td>    0.040</td> <td>    0.296</td> <td> 0.767</td> <td>   -0.066</td> <td>    0.090</td>\n",
       "</tr>\n",
       "<tr>\n",
       "  <th>US</th>         <td>    0.0175</td> <td>    0.038</td> <td>    0.465</td> <td> 0.642</td> <td>   -0.056</td> <td>    0.091</td>\n",
       "</tr>\n",
       "</table>"
      ],
      "text/plain": [
       "<class 'statsmodels.iolib.summary.Summary'>\n",
       "\"\"\"\n",
       "                           Logit Regression Results                           \n",
       "==============================================================================\n",
       "Dep. Variable:              converted   No. Observations:               290584\n",
       "Model:                          Logit   Df Residuals:                   290578\n",
       "Method:                           MLE   Df Model:                            5\n",
       "Date:                Wed, 01 Jul 2020   Pseudo R-squ.:               3.482e-05\n",
       "Time:                        07:10:18   Log-Likelihood:            -1.0639e+05\n",
       "converged:                       True   LL-Null:                   -1.0639e+05\n",
       "Covariance Type:            nonrobust   LLR p-value:                    0.1920\n",
       "==============================================================================\n",
       "                 coef    std err          z      P>|z|      [0.025      0.975]\n",
       "------------------------------------------------------------------------------\n",
       "intercept     -2.0040      0.036    -55.008      0.000      -2.075      -1.933\n",
       "ab_page       -0.0674      0.052     -1.297      0.195      -0.169       0.034\n",
       "UK_ab_page     0.0783      0.057      1.378      0.168      -0.033       0.190\n",
       "US_ab_page     0.0469      0.054      0.872      0.383      -0.059       0.152\n",
       "UK             0.0118      0.040      0.296      0.767      -0.066       0.090\n",
       "US             0.0175      0.038      0.465      0.642      -0.056       0.091\n",
       "==============================================================================\n",
       "\"\"\""
      ]
     },
     "execution_count": 36,
     "metadata": {},
     "output_type": "execute_result"
    }
   ],
   "source": [
    "df_new['UK_ab_page'] = df_new['UK'] * df_new['ab_page']\n",
    "df_new['US_ab_page'] = df_new['US'] * df_new['ab_page']\n",
    "df_new['intercept'] = 1\n",
    "log_mod = sm.Logit(df_new['converted'], df_new[['intercept', 'ab_page', 'UK_ab_page', 'US_ab_page', 'UK', 'US']])\n",
    "result = log_mod.fit()\n",
    "result.summary()"
   ]
  },
  {
   "cell_type": "code",
   "execution_count": 37,
   "metadata": {},
   "outputs": [
    {
     "data": {
      "text/plain": [
       "intercept     0.134794\n",
       "ab_page       0.934776\n",
       "UK_ab_page    1.081428\n",
       "US_ab_page    1.048001\n",
       "UK            1.011854\n",
       "US            1.017682\n",
       "dtype: float64"
      ]
     },
     "execution_count": 37,
     "metadata": {},
     "output_type": "execute_result"
    }
   ],
   "source": [
    "np.exp(result.params)"
   ]
  },
  {
   "cell_type": "code",
   "execution_count": 38,
   "metadata": {},
   "outputs": [
    {
     "data": {
      "image/png": "[encoded data removed]",
      "text/plain": [
       "<Figure size 432x288 with 1 Axes>"
      ]
     },
     "metadata": {
      "needs_background": "light"
     },
     "output_type": "display_data"
    },
    {
     "data": {
      "image/png": "[encoded data removed]",
      "text/plain": [
       "<Figure size 432x288 with 1 Axes>"
      ]
     },
     "metadata": {
      "needs_background": "light"
     },
     "output_type": "display_data"
    }
   ],
   "source": [
    "y = result.params\n",
    "plt.plot(result.params, y, color = 'blue', marker = '')\n",
    "plt.show()\n",
    "\n",
    "plt.plot(np.exp(result.params), y, color = 'red', marker = 'o')\n",
    "plt.title(\"numpy.exp()\")\n",
    "plt.xlabel(\"X\")\n",
    "plt.ylabel(\"Y\")\n",
    "plt.show()"
   ]
  },
  {
   "cell_type": "markdown",
   "metadata": {},
   "source": [
    "**P-value less than 0.05 sugeest that county varlable are statlclly signlflcant in relating to the page conveslon. Other varable in the summary are not statistically signlflcant. By holding all other varible remaining the same, 1.04 times conversion more likely to happen for UK and new page users. By holding all other varible remaining the same, 1.08 times conversion more likely to happen for US and new page users.**"
   ]
  },
  {
   "cell_type": "markdown",
   "metadata": {},
   "source": [
    "### Conclusions\n",
    "**The evidence is not sufficient to determine that the new page is better than the old page and they should stay with old page.**"
   ]
  },
  {
   "cell_type": "markdown",
   "metadata": {},
   "source": [
    "<a id='conclusions'></a>\n",
    "## Conclusions\n",
    "\n",
    "Congratulations on completing the project! \n",
    "\n",
    "### Gather Submission Materials\n",
    "\n",
    "Once you are satisfied with the status of your Notebook, you should save it in a format that will make it easy for others to read. You can use the __File -> Download as -> HTML (.html)__ menu to save your notebook as an .html file. If you are working locally and get an error about \"No module name\", then open a terminal and try installing the missing module using `pip install <module_name>` (don't include the \"<\" or \">\" or any words following a period in the module name).\n",
    "\n",
    "You will submit both your original Notebook and an HTML or PDF copy of the Notebook for review. There is no need for you to include any data files with your submission. If you made reference to other websites, books, and other resources to help you in solving tasks in the project, make sure that you document them. It is recommended that you either add a \"Resources\" section in a Markdown cell at the end of the Notebook report, or you can include a `readme.txt` file documenting your sources.\n",
    "\n",
    "### Submit the Project\n",
    "\n",
    "When you're ready, click on the \"Submit Project\" button to go to the project submission page. You can submit your files as a .zip archive or you can link to a GitHub repository containing your project files. If you go with GitHub, note that your submission will be a snapshot of the linked repository at time of submission. It is recommended that you keep each project in a separate repository to avoid any potential confusion: if a reviewer gets multiple folders representing multiple projects, there might be confusion regarding what project is to be evaluated.\n",
    "\n",
    "It can take us up to a week to grade the project, but in most cases it is much faster. You will get an email once your submission has been reviewed. If you are having any problems submitting your project or wish to check on the status of your submission, please email us at dataanalyst-project@udacity.com. In the meantime, you should feel free to continue on with your learning journey by beginning the next module in the program."
   ]
  },
  {
   "cell_type": "code",
   "execution_count": null,
   "metadata": {},
   "outputs": [],
   "source": []
  }
 ],
 "metadata": {
  "kernelspec": {
   "display_name": "Python 3",
   "language": "python",
   "name": "python3"
  },
  "language_info": {
   "codemirror_mode": {
    "name": "ipython",
    "version": 3
   },
   "file_extension": ".py",
   "mimetype": "text/x-python",
   "name": "python",
   "nbconvert_exporter": "python",
   "pygments_lexer": "ipython3",
   "version": "3.6.8"
  }
 },
 "nbformat": 4,
 "nbformat_minor": 2
}
